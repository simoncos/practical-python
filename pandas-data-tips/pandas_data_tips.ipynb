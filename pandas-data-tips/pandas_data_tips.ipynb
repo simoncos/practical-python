{
 "cells": [
  {
   "cell_type": "code",
   "execution_count": 1,
   "metadata": {},
   "outputs": [],
   "source": [
    "import pandas as pd\n",
    "import numpy as np"
   ]
  },
  {
   "cell_type": "code",
   "execution_count": 2,
   "metadata": {},
   "outputs": [
    {
     "data": {
      "text/plain": [
       "'0.24.2'"
      ]
     },
     "execution_count": 2,
     "metadata": {},
     "output_type": "execute_result"
    }
   ],
   "source": [
    "pd.__version__ # 0.24.2"
   ]
  },
  {
   "cell_type": "markdown",
   "metadata": {},
   "source": [
    "- Getting Started: http://pandas.pydata.org/pandas-docs/stable/getting_started/index.html\n",
    "    - 10 Minutes to pandas: http://pandas.pydata.org/pandas-docs/stable/getting_started/10min.html\n",
    "    - Pandas Cheat Sheet: http://pandas.pydata.org/Pandas_Cheat_Sheet.pdf"
   ]
  },
  {
   "cell_type": "markdown",
   "metadata": {},
   "source": [
    "# Design\n",
    "\n",
    "http://pandas.pydata.org/pandas-docs/stable/getting_started/overview.html"
   ]
  },
  {
   "cell_type": "markdown",
   "metadata": {},
   "source": [
    "## Primary Data Structures"
   ]
  },
  {
   "cell_type": "markdown",
   "metadata": {},
   "source": [
    "| Dimensions | Name | Description |\n",
    "| ---------- | ---- | ----------- |\n",
    "| 1 | Series | **homogeneously**-typed array |\n",
    "| 2\t| DataFrame | size-mutable tabular structure with potentially **heterogeneously**-typed column |\n",
    "\n",
    "- Pandas objects (Index, Series, DataFrame) can be thought of as **containers for arrays**, which hold the actual data and do the actual computation. For many types, **the underlying array is a numpy.ndarray**\n",
    "- **DataFrame is a container for Series, and Series is a container for scalars**\n",
    "- insert and remove objects from these containers in a dictionary-like fashion\n",
    "- the axes are intended to lend more semantic meaning to the data\n",
    "\n",
    "```python\n",
    "for col in df.columns:\n",
    "    series = df[col]\n",
    "    # do something with series\n",
    "```"
   ]
  },
  {
   "cell_type": "markdown",
   "metadata": {},
   "source": [
    "## Mutability and copying of data\n",
    "\n",
    "- All pandas data structures are **value-mutable** (the values they contain can be altered) but **not always size-mutable**.The length of a Series cannot be changed, but, for example, columns can be inserted into a DataFrame.\n",
    "\n",
    "- However, the vast majority of methods produce new objects and leave the input data untouched. In general we like to **favor immutability where sensible**."
   ]
  },
  {
   "cell_type": "markdown",
   "metadata": {},
   "source": [
    "## Index\n",
    "\n",
    "https://pandas.pydata.org/pandas-docs/version/0.24.2/reference/indexing.html#index\n",
    "\n",
    "`pd.Index`: Immutable ndarray implementing an ordered, sliceable set."
   ]
  },
  {
   "cell_type": "code",
   "execution_count": 3,
   "metadata": {
    "scrolled": true
   },
   "outputs": [
    {
     "data": {
      "text/plain": [
       "Int64Index([1, 2, 3], dtype='int64')"
      ]
     },
     "metadata": {},
     "output_type": "display_data"
    },
    {
     "data": {
      "text/plain": [
       "Int64Index([1, 3, 2], dtype='int64')"
      ]
     },
     "metadata": {},
     "output_type": "display_data"
    },
    {
     "data": {
      "text/plain": [
       "Int64Index([1, 2], dtype='int64')"
      ]
     },
     "metadata": {},
     "output_type": "display_data"
    },
    {
     "data": {
      "text/plain": [
       "Index([1, 2, 'a'], dtype='object')"
      ]
     },
     "metadata": {},
     "output_type": "display_data"
    },
    {
     "data": {
      "text/plain": [
       "Index(['a', 'b', 'c'], dtype='object')"
      ]
     },
     "metadata": {},
     "output_type": "display_data"
    },
    {
     "data": {
      "text/plain": [
       "Index(['a', 'b', 'b'], dtype='object')"
      ]
     },
     "metadata": {},
     "output_type": "display_data"
    },
    {
     "data": {
      "text/plain": [
       "DatetimeIndex(['2000-01-01', '2000-03-01', '2001-01-01'], dtype='datetime64[ns]', freq=None)"
      ]
     },
     "metadata": {},
     "output_type": "display_data"
    },
    {
     "data": {
      "text/plain": [
       "MultiIndex(levels=[[1, 2], ['blue', 'red']],\n",
       "           codes=[[0, 0, 1, 1], [1, 0, 1, 0]],\n",
       "           names=['number', 'color'])"
      ]
     },
     "metadata": {},
     "output_type": "display_data"
    }
   ],
   "source": [
    "display(pd.Index([1,2,3]))\n",
    "display(pd.Index([1,3,2]))\n",
    "display(pd.Index([1,2,3])[:2])\n",
    "display(pd.Index([1,2,'a']))\n",
    "display(pd.Index(['a','b','c']))\n",
    "display(pd.Index(['a','b','b']))\n",
    "display(pd.DatetimeIndex(['2000-01','2000-03','2001-01']))\n",
    "arrays = [[1, 1, 2, 2], ['red', 'blue', 'red', 'blue']]\n",
    "display(pd.MultiIndex.from_arrays(arrays, names=('number', 'color')))"
   ]
  },
  {
   "cell_type": "markdown",
   "metadata": {},
   "source": [
    "## Series\n",
    "\n",
    "https://pandas.pydata.org/pandas-docs/stable/reference/series.html\n",
    "\n",
    "index + single column data"
   ]
  },
  {
   "cell_type": "code",
   "execution_count": 4,
   "metadata": {},
   "outputs": [
    {
     "data": {
      "text/plain": [
       "row_1    1\n",
       "row_2    2\n",
       "dtype: int64"
      ]
     },
     "metadata": {},
     "output_type": "display_data"
    },
    {
     "data": {
      "text/plain": [
       "pandas.core.series.Series"
      ]
     },
     "metadata": {},
     "output_type": "display_data"
    }
   ],
   "source": [
    "sr = pd.Series(data=[1,2], index=['row_1', 'row_2'])\n",
    "display(sr)\n",
    "display(type(sr))"
   ]
  },
  {
   "cell_type": "markdown",
   "metadata": {},
   "source": [
    "## DataFrame\n",
    "\n",
    "https://pandas.pydata.org/pandas-docs/stable/reference/frame.html\n",
    "\n",
    "index + column + tabular data"
   ]
  },
  {
   "cell_type": "code",
   "execution_count": 5,
   "metadata": {},
   "outputs": [
    {
     "data": {
      "text/html": [
       "<div>\n",
       "<style scoped>\n",
       "    .dataframe tbody tr th:only-of-type {\n",
       "        vertical-align: middle;\n",
       "    }\n",
       "\n",
       "    .dataframe tbody tr th {\n",
       "        vertical-align: top;\n",
       "    }\n",
       "\n",
       "    .dataframe thead th {\n",
       "        text-align: right;\n",
       "    }\n",
       "</style>\n",
       "<table border=\"1\" class=\"dataframe\">\n",
       "  <thead>\n",
       "    <tr style=\"text-align: right;\">\n",
       "      <th></th>\n",
       "      <th>col_1</th>\n",
       "    </tr>\n",
       "  </thead>\n",
       "  <tbody>\n",
       "    <tr>\n",
       "      <th>row_1</th>\n",
       "      <td>1</td>\n",
       "    </tr>\n",
       "    <tr>\n",
       "      <th>row_2</th>\n",
       "      <td>2</td>\n",
       "    </tr>\n",
       "  </tbody>\n",
       "</table>\n",
       "</div>"
      ],
      "text/plain": [
       "       col_1\n",
       "row_1      1\n",
       "row_2      2"
      ]
     },
     "metadata": {},
     "output_type": "display_data"
    },
    {
     "data": {
      "text/html": [
       "<div>\n",
       "<style scoped>\n",
       "    .dataframe tbody tr th:only-of-type {\n",
       "        vertical-align: middle;\n",
       "    }\n",
       "\n",
       "    .dataframe tbody tr th {\n",
       "        vertical-align: top;\n",
       "    }\n",
       "\n",
       "    .dataframe thead th {\n",
       "        text-align: right;\n",
       "    }\n",
       "</style>\n",
       "<table border=\"1\" class=\"dataframe\">\n",
       "  <thead>\n",
       "    <tr style=\"text-align: right;\">\n",
       "      <th></th>\n",
       "      <th>col_1</th>\n",
       "    </tr>\n",
       "  </thead>\n",
       "  <tbody>\n",
       "    <tr>\n",
       "      <th>(a, 1)</th>\n",
       "      <td>foo</td>\n",
       "    </tr>\n",
       "    <tr>\n",
       "      <th>(b, 2)</th>\n",
       "      <td>2</td>\n",
       "    </tr>\n",
       "  </tbody>\n",
       "</table>\n",
       "</div>"
      ],
      "text/plain": [
       "       col_1\n",
       "(a, 1)   foo\n",
       "(b, 2)     2"
      ]
     },
     "metadata": {},
     "output_type": "display_data"
    },
    {
     "data": {
      "text/html": [
       "<div>\n",
       "<style scoped>\n",
       "    .dataframe tbody tr th:only-of-type {\n",
       "        vertical-align: middle;\n",
       "    }\n",
       "\n",
       "    .dataframe tbody tr th {\n",
       "        vertical-align: top;\n",
       "    }\n",
       "\n",
       "    .dataframe thead th {\n",
       "        text-align: right;\n",
       "    }\n",
       "</style>\n",
       "<table border=\"1\" class=\"dataframe\">\n",
       "  <thead>\n",
       "    <tr style=\"text-align: right;\">\n",
       "      <th></th>\n",
       "      <th>col_1</th>\n",
       "      <th>col_2</th>\n",
       "    </tr>\n",
       "  </thead>\n",
       "  <tbody>\n",
       "    <tr>\n",
       "      <th>(a, 1)</th>\n",
       "      <td>1</td>\n",
       "      <td>2</td>\n",
       "    </tr>\n",
       "    <tr>\n",
       "      <th>(b, 2)</th>\n",
       "      <td>2</td>\n",
       "      <td>2</td>\n",
       "    </tr>\n",
       "  </tbody>\n",
       "</table>\n",
       "</div>"
      ],
      "text/plain": [
       "        col_1  col_2\n",
       "(a, 1)      1      2\n",
       "(b, 2)      2      2"
      ]
     },
     "metadata": {},
     "output_type": "display_data"
    }
   ],
   "source": [
    "df = pd.DataFrame(data=[1,2], index=['row_1', 'row_2'], columns=['col_1'])\n",
    "display(df)\n",
    "\n",
    "df = pd.DataFrame(data=['foo',2], index=[('a',1), ('b',2)], columns=['col_1'])\n",
    "display(df)\n",
    "\n",
    "df = pd.DataFrame(data=[[1,2],[2,2]], index=[('a',1), ('b',2)], columns=['col_1', 'col_2'])\n",
    "display(df)"
   ]
  },
  {
   "cell_type": "markdown",
   "metadata": {},
   "source": [
    "### Conversion: Dict"
   ]
  },
  {
   "cell_type": "code",
   "execution_count": 6,
   "metadata": {},
   "outputs": [
    {
     "data": {
      "text/html": [
       "<div>\n",
       "<style scoped>\n",
       "    .dataframe tbody tr th:only-of-type {\n",
       "        vertical-align: middle;\n",
       "    }\n",
       "\n",
       "    .dataframe tbody tr th {\n",
       "        vertical-align: top;\n",
       "    }\n",
       "\n",
       "    .dataframe thead th {\n",
       "        text-align: right;\n",
       "    }\n",
       "</style>\n",
       "<table border=\"1\" class=\"dataframe\">\n",
       "  <thead>\n",
       "    <tr style=\"text-align: right;\">\n",
       "      <th></th>\n",
       "      <th>col_1</th>\n",
       "      <th>col_2</th>\n",
       "      <th>col_3</th>\n",
       "    </tr>\n",
       "  </thead>\n",
       "  <tbody>\n",
       "    <tr>\n",
       "      <th>0</th>\n",
       "      <td>10</td>\n",
       "      <td>13</td>\n",
       "      <td>17</td>\n",
       "    </tr>\n",
       "    <tr>\n",
       "      <th>1</th>\n",
       "      <td>aa</td>\n",
       "      <td>cc</td>\n",
       "      <td>dd</td>\n",
       "    </tr>\n",
       "    <tr>\n",
       "      <th>2</th>\n",
       "      <td>(1, e)</td>\n",
       "      <td>(3, f)</td>\n",
       "      <td>(5, g)</td>\n",
       "    </tr>\n",
       "    <tr>\n",
       "      <th>3</th>\n",
       "      <td>30</td>\n",
       "      <td>33</td>\n",
       "      <td>37</td>\n",
       "    </tr>\n",
       "    <tr>\n",
       "      <th>4</th>\n",
       "      <td>45</td>\n",
       "      <td>48</td>\n",
       "      <td>52</td>\n",
       "    </tr>\n",
       "  </tbody>\n",
       "</table>\n",
       "</div>"
      ],
      "text/plain": [
       "    col_1   col_2   col_3\n",
       "0      10      13      17\n",
       "1      aa      cc      dd\n",
       "2  (1, e)  (3, f)  (5, g)\n",
       "3      30      33      37\n",
       "4      45      48      52"
      ]
     },
     "metadata": {},
     "output_type": "display_data"
    },
    {
     "data": {
      "text/html": [
       "<div>\n",
       "<style scoped>\n",
       "    .dataframe tbody tr th:only-of-type {\n",
       "        vertical-align: middle;\n",
       "    }\n",
       "\n",
       "    .dataframe tbody tr th {\n",
       "        vertical-align: top;\n",
       "    }\n",
       "\n",
       "    .dataframe thead th {\n",
       "        text-align: right;\n",
       "    }\n",
       "</style>\n",
       "<table border=\"1\" class=\"dataframe\">\n",
       "  <thead>\n",
       "    <tr style=\"text-align: right;\">\n",
       "      <th></th>\n",
       "      <th>col_1</th>\n",
       "      <th>col_2</th>\n",
       "    </tr>\n",
       "  </thead>\n",
       "  <tbody>\n",
       "    <tr>\n",
       "      <th>0</th>\n",
       "      <td>3</td>\n",
       "      <td>a</td>\n",
       "    </tr>\n",
       "    <tr>\n",
       "      <th>1</th>\n",
       "      <td>2</td>\n",
       "      <td>b</td>\n",
       "    </tr>\n",
       "    <tr>\n",
       "      <th>2</th>\n",
       "      <td>1</td>\n",
       "      <td>c</td>\n",
       "    </tr>\n",
       "    <tr>\n",
       "      <th>3</th>\n",
       "      <td>0</td>\n",
       "      <td>d</td>\n",
       "    </tr>\n",
       "  </tbody>\n",
       "</table>\n",
       "</div>"
      ],
      "text/plain": [
       "   col_1 col_2\n",
       "0      3     a\n",
       "1      2     b\n",
       "2      1     c\n",
       "3      0     d"
      ]
     },
     "metadata": {},
     "output_type": "display_data"
    },
    {
     "data": {
      "text/html": [
       "<div>\n",
       "<style scoped>\n",
       "    .dataframe tbody tr th:only-of-type {\n",
       "        vertical-align: middle;\n",
       "    }\n",
       "\n",
       "    .dataframe tbody tr th {\n",
       "        vertical-align: top;\n",
       "    }\n",
       "\n",
       "    .dataframe thead th {\n",
       "        text-align: right;\n",
       "    }\n",
       "</style>\n",
       "<table border=\"1\" class=\"dataframe\">\n",
       "  <thead>\n",
       "    <tr style=\"text-align: right;\">\n",
       "      <th></th>\n",
       "      <th>0</th>\n",
       "      <th>1</th>\n",
       "      <th>2</th>\n",
       "      <th>3</th>\n",
       "    </tr>\n",
       "  </thead>\n",
       "  <tbody>\n",
       "    <tr>\n",
       "      <th>row_1</th>\n",
       "      <td>3</td>\n",
       "      <td>2</td>\n",
       "      <td>1</td>\n",
       "      <td>0</td>\n",
       "    </tr>\n",
       "    <tr>\n",
       "      <th>row_2</th>\n",
       "      <td>a</td>\n",
       "      <td>b</td>\n",
       "      <td>c</td>\n",
       "      <td>d</td>\n",
       "    </tr>\n",
       "  </tbody>\n",
       "</table>\n",
       "</div>"
      ],
      "text/plain": [
       "       0  1  2  3\n",
       "row_1  3  2  1  0\n",
       "row_2  a  b  c  d"
      ]
     },
     "metadata": {},
     "output_type": "display_data"
    }
   ],
   "source": [
    "# dict to dataframe\n",
    "\n",
    "df = pd.DataFrame({'col_1': [10, 'aa', (1,'e'), 30, 45],\n",
    "                   'col_2': [13, 'cc', (3,'f'), 33, 48],\n",
    "                   'col_3': [17, 'dd', (5,'g'), 37, 52]})\n",
    "display(df)\n",
    "\n",
    "data = {'col_1': [3, 2, 1, 0], 'col_2': ['a', 'b', 'c', 'd']}\n",
    "df = pd.DataFrame.from_dict(data, orient='columns')\n",
    "display(df)\n",
    "\n",
    "data = {'row_1': [3, 2, 1, 0], 'row_2': ['a', 'b', 'c', 'd']}\n",
    "df = pd.DataFrame.from_dict(data, orient='index')\n",
    "display(df)"
   ]
  },
  {
   "cell_type": "code",
   "execution_count": 7,
   "metadata": {},
   "outputs": [
    {
     "data": {
      "text/html": [
       "<div>\n",
       "<style scoped>\n",
       "    .dataframe tbody tr th:only-of-type {\n",
       "        vertical-align: middle;\n",
       "    }\n",
       "\n",
       "    .dataframe tbody tr th {\n",
       "        vertical-align: top;\n",
       "    }\n",
       "\n",
       "    .dataframe thead th {\n",
       "        text-align: right;\n",
       "    }\n",
       "</style>\n",
       "<table border=\"1\" class=\"dataframe\">\n",
       "  <thead>\n",
       "    <tr style=\"text-align: right;\">\n",
       "      <th></th>\n",
       "      <th>col_1</th>\n",
       "      <th>col_2</th>\n",
       "      <th>col_3</th>\n",
       "    </tr>\n",
       "  </thead>\n",
       "  <tbody>\n",
       "    <tr>\n",
       "      <th>0</th>\n",
       "      <td>10</td>\n",
       "      <td>13</td>\n",
       "      <td>17</td>\n",
       "    </tr>\n",
       "    <tr>\n",
       "      <th>1</th>\n",
       "      <td>aa</td>\n",
       "      <td>cc</td>\n",
       "      <td>dd</td>\n",
       "    </tr>\n",
       "    <tr>\n",
       "      <th>2</th>\n",
       "      <td>(1, e)</td>\n",
       "      <td>(3, f)</td>\n",
       "      <td>(5, g)</td>\n",
       "    </tr>\n",
       "    <tr>\n",
       "      <th>3</th>\n",
       "      <td>30</td>\n",
       "      <td>33</td>\n",
       "      <td>37</td>\n",
       "    </tr>\n",
       "    <tr>\n",
       "      <th>4</th>\n",
       "      <td>45</td>\n",
       "      <td>48</td>\n",
       "      <td>52</td>\n",
       "    </tr>\n",
       "  </tbody>\n",
       "</table>\n",
       "</div>"
      ],
      "text/plain": [
       "    col_1   col_2   col_3\n",
       "0      10      13      17\n",
       "1      aa      cc      dd\n",
       "2  (1, e)  (3, f)  (5, g)\n",
       "3      30      33      37\n",
       "4      45      48      52"
      ]
     },
     "metadata": {},
     "output_type": "display_data"
    },
    {
     "name": "stdout",
     "output_type": "stream",
     "text": [
      "----------\n",
      "orient=dict:\n"
     ]
    },
    {
     "data": {
      "text/plain": [
       "{'col_1': {0: 10, 1: 'aa', 2: (1, 'e'), 3: 30, 4: 45},\n",
       " 'col_2': {0: 13, 1: 'cc', 2: (3, 'f'), 3: 33, 4: 48},\n",
       " 'col_3': {0: 17, 1: 'dd', 2: (5, 'g'), 3: 37, 4: 52}}"
      ]
     },
     "metadata": {},
     "output_type": "display_data"
    },
    {
     "name": "stdout",
     "output_type": "stream",
     "text": [
      "orient=list:\n"
     ]
    },
    {
     "data": {
      "text/plain": [
       "{'col_1': [10, 'aa', (1, 'e'), 30, 45],\n",
       " 'col_2': [13, 'cc', (3, 'f'), 33, 48],\n",
       " 'col_3': [17, 'dd', (5, 'g'), 37, 52]}"
      ]
     },
     "metadata": {},
     "output_type": "display_data"
    },
    {
     "name": "stdout",
     "output_type": "stream",
     "text": [
      "----------\n",
      "orient=records:\n"
     ]
    },
    {
     "data": {
      "text/plain": [
       "[{'col_1': 10, 'col_2': 13, 'col_3': 17},\n",
       " {'col_1': 'aa', 'col_2': 'cc', 'col_3': 'dd'},\n",
       " {'col_1': (1, 'e'), 'col_2': (3, 'f'), 'col_3': (5, 'g')},\n",
       " {'col_1': 30, 'col_2': 33, 'col_3': 37},\n",
       " {'col_1': 45, 'col_2': 48, 'col_3': 52}]"
      ]
     },
     "metadata": {},
     "output_type": "display_data"
    },
    {
     "name": "stdout",
     "output_type": "stream",
     "text": [
      "orient=index:\n"
     ]
    },
    {
     "data": {
      "text/plain": [
       "{0: {'col_1': 10, 'col_2': 13, 'col_3': 17},\n",
       " 1: {'col_1': 'aa', 'col_2': 'cc', 'col_3': 'dd'},\n",
       " 2: {'col_1': (1, 'e'), 'col_2': (3, 'f'), 'col_3': (5, 'g')},\n",
       " 3: {'col_1': 30, 'col_2': 33, 'col_3': 37},\n",
       " 4: {'col_1': 45, 'col_2': 48, 'col_3': 52}}"
      ]
     },
     "metadata": {},
     "output_type": "display_data"
    },
    {
     "name": "stdout",
     "output_type": "stream",
     "text": [
      "----------\n",
      "orient=split:\n"
     ]
    },
    {
     "data": {
      "text/plain": [
       "{'index': [0, 1, 2, 3, 4],\n",
       " 'columns': ['col_1', 'col_2', 'col_3'],\n",
       " 'data': [[10, 13, 17],\n",
       "  ['aa', 'cc', 'dd'],\n",
       "  [(1, 'e'), (3, 'f'), (5, 'g')],\n",
       "  [30, 33, 37],\n",
       "  [45, 48, 52]]}"
      ]
     },
     "metadata": {},
     "output_type": "display_data"
    },
    {
     "name": "stdout",
     "output_type": "stream",
     "text": [
      "----------\n",
      "orient=series:\n"
     ]
    },
    {
     "data": {
      "text/plain": [
       "{'col_1': 0        10\n",
       " 1        aa\n",
       " 2    (1, e)\n",
       " 3        30\n",
       " 4        45\n",
       " Name: col_1, dtype: object, 'col_2': 0        13\n",
       " 1        cc\n",
       " 2    (3, f)\n",
       " 3        33\n",
       " 4        48\n",
       " Name: col_2, dtype: object, 'col_3': 0        17\n",
       " 1        dd\n",
       " 2    (5, g)\n",
       " 3        37\n",
       " 4        52\n",
       " Name: col_3, dtype: object}"
      ]
     },
     "metadata": {},
     "output_type": "display_data"
    }
   ],
   "source": [
    "# dataframe to dict\n",
    "\n",
    "df = pd.DataFrame({'col_1': [10, 'aa', (1,'e'), 30, 45],\n",
    "                   'col_2': [13, 'cc', (3,'f'), 33, 48],\n",
    "                   'col_3': [17, 'dd', (5,'g'), 37, 52]})\n",
    "display(df)\n",
    "\n",
    "print('----------\\norient=dict:')\n",
    "display( df.to_dict(orient='dict')) # default\n",
    "print('orient=list:')\n",
    "display(df.to_dict(orient='list'))\n",
    "\n",
    "print('----------\\norient=records:')\n",
    "display(df.to_dict(orient='records'))\n",
    "print('orient=index:')\n",
    "display(df.to_dict(orient='index'))\n",
    "\n",
    "print('----------\\norient=split:')\n",
    "display(df.to_dict(orient='split'))\n",
    "\n",
    "print('----------\\norient=series:')\n",
    "display(df.to_dict(orient='series'))"
   ]
  },
  {
   "cell_type": "markdown",
   "metadata": {},
   "source": [
    "### Conversion: Numpy Array"
   ]
  },
  {
   "cell_type": "code",
   "execution_count": 8,
   "metadata": {},
   "outputs": [
    {
     "data": {
      "text/html": [
       "<div>\n",
       "<style scoped>\n",
       "    .dataframe tbody tr th:only-of-type {\n",
       "        vertical-align: middle;\n",
       "    }\n",
       "\n",
       "    .dataframe tbody tr th {\n",
       "        vertical-align: top;\n",
       "    }\n",
       "\n",
       "    .dataframe thead th {\n",
       "        text-align: right;\n",
       "    }\n",
       "</style>\n",
       "<table border=\"1\" class=\"dataframe\">\n",
       "  <thead>\n",
       "    <tr style=\"text-align: right;\">\n",
       "      <th></th>\n",
       "      <th>0</th>\n",
       "    </tr>\n",
       "  </thead>\n",
       "  <tbody>\n",
       "    <tr>\n",
       "      <th>0</th>\n",
       "      <td>3</td>\n",
       "    </tr>\n",
       "    <tr>\n",
       "      <th>1</th>\n",
       "      <td>2</td>\n",
       "    </tr>\n",
       "    <tr>\n",
       "      <th>2</th>\n",
       "      <td>1</td>\n",
       "    </tr>\n",
       "    <tr>\n",
       "      <th>3</th>\n",
       "      <td>0</td>\n",
       "    </tr>\n",
       "  </tbody>\n",
       "</table>\n",
       "</div>"
      ],
      "text/plain": [
       "   0\n",
       "0  3\n",
       "1  2\n",
       "2  1\n",
       "3  0"
      ]
     },
     "metadata": {},
     "output_type": "display_data"
    },
    {
     "data": {
      "text/html": [
       "<div>\n",
       "<style scoped>\n",
       "    .dataframe tbody tr th:only-of-type {\n",
       "        vertical-align: middle;\n",
       "    }\n",
       "\n",
       "    .dataframe tbody tr th {\n",
       "        vertical-align: top;\n",
       "    }\n",
       "\n",
       "    .dataframe thead th {\n",
       "        text-align: right;\n",
       "    }\n",
       "</style>\n",
       "<table border=\"1\" class=\"dataframe\">\n",
       "  <thead>\n",
       "    <tr style=\"text-align: right;\">\n",
       "      <th></th>\n",
       "      <th>0</th>\n",
       "      <th>1</th>\n",
       "    </tr>\n",
       "  </thead>\n",
       "  <tbody>\n",
       "    <tr>\n",
       "      <th>0</th>\n",
       "      <td>3</td>\n",
       "      <td>2</td>\n",
       "    </tr>\n",
       "    <tr>\n",
       "      <th>1</th>\n",
       "      <td>1</td>\n",
       "      <td>0</td>\n",
       "    </tr>\n",
       "  </tbody>\n",
       "</table>\n",
       "</div>"
      ],
      "text/plain": [
       "   0  1\n",
       "0  3  2\n",
       "1  1  0"
      ]
     },
     "metadata": {},
     "output_type": "display_data"
    }
   ],
   "source": [
    "# array to dataframe\n",
    "display(pd.DataFrame(np.array([3,2,1,0])))\n",
    "display(pd.DataFrame(np.array([[3,2],[1,0]])))"
   ]
  },
  {
   "cell_type": "code",
   "execution_count": 9,
   "metadata": {},
   "outputs": [
    {
     "data": {
      "text/html": [
       "<div>\n",
       "<style scoped>\n",
       "    .dataframe tbody tr th:only-of-type {\n",
       "        vertical-align: middle;\n",
       "    }\n",
       "\n",
       "    .dataframe tbody tr th {\n",
       "        vertical-align: top;\n",
       "    }\n",
       "\n",
       "    .dataframe thead th {\n",
       "        text-align: right;\n",
       "    }\n",
       "</style>\n",
       "<table border=\"1\" class=\"dataframe\">\n",
       "  <thead>\n",
       "    <tr style=\"text-align: right;\">\n",
       "      <th></th>\n",
       "      <th>col_1</th>\n",
       "      <th>col_2</th>\n",
       "      <th>col_3</th>\n",
       "    </tr>\n",
       "  </thead>\n",
       "  <tbody>\n",
       "    <tr>\n",
       "      <th>0</th>\n",
       "      <td>10</td>\n",
       "      <td>13</td>\n",
       "      <td>17</td>\n",
       "    </tr>\n",
       "    <tr>\n",
       "      <th>1</th>\n",
       "      <td>aa</td>\n",
       "      <td>cc</td>\n",
       "      <td>dd</td>\n",
       "    </tr>\n",
       "    <tr>\n",
       "      <th>2</th>\n",
       "      <td>(1, e)</td>\n",
       "      <td>(3, f)</td>\n",
       "      <td>(5, g)</td>\n",
       "    </tr>\n",
       "    <tr>\n",
       "      <th>3</th>\n",
       "      <td>30</td>\n",
       "      <td>33</td>\n",
       "      <td>37</td>\n",
       "    </tr>\n",
       "    <tr>\n",
       "      <th>4</th>\n",
       "      <td>45</td>\n",
       "      <td>48</td>\n",
       "      <td>52</td>\n",
       "    </tr>\n",
       "  </tbody>\n",
       "</table>\n",
       "</div>"
      ],
      "text/plain": [
       "    col_1   col_2   col_3\n",
       "0      10      13      17\n",
       "1      aa      cc      dd\n",
       "2  (1, e)  (3, f)  (5, g)\n",
       "3      30      33      37\n",
       "4      45      48      52"
      ]
     },
     "metadata": {},
     "output_type": "display_data"
    },
    {
     "data": {
      "text/plain": [
       "array([[10, 13, 17],\n",
       "       ['aa', 'cc', 'dd'],\n",
       "       [(1, 'e'), (3, 'f'), (5, 'g')],\n",
       "       [30, 33, 37],\n",
       "       [45, 48, 52]], dtype=object)"
      ]
     },
     "metadata": {},
     "output_type": "display_data"
    },
    {
     "data": {
      "text/plain": [
       "array([[10, 'aa', (1, 'e'), 30, 45],\n",
       "       [13, 'cc', (3, 'f'), 33, 48],\n",
       "       [17, 'dd', (5, 'g'), 37, 52]], dtype=object)"
      ]
     },
     "metadata": {},
     "output_type": "display_data"
    },
    {
     "data": {
      "text/plain": [
       "array([[10, 'aa', (1, 'e'), 30, 45],\n",
       "       [13, 'cc', (3, 'f'), 33, 48],\n",
       "       [17, 'dd', (5, 'g'), 37, 52]], dtype=object)"
      ]
     },
     "metadata": {},
     "output_type": "display_data"
    }
   ],
   "source": [
    "# dataframe to array\n",
    "df = pd.DataFrame({'col_1': [10, 'aa', (1,'e'), 30, 45],\n",
    "                   'col_2': [13, 'cc', (3,'f'), 33, 48],\n",
    "                   'col_3': [17, 'dd', (5,'g'), 37, 52]})\n",
    "display(df)\n",
    "display(df.to_numpy()) # Depreciated: .values / as_matrix()\n",
    "display(df.to_numpy().T) \n",
    "display(df.T.to_numpy()) "
   ]
  },
  {
   "cell_type": "markdown",
   "metadata": {},
   "source": [
    "### View"
   ]
  },
  {
   "cell_type": "code",
   "execution_count": 10,
   "metadata": {},
   "outputs": [
    {
     "data": {
      "text/html": [
       "<div>\n",
       "<style scoped>\n",
       "    .dataframe tbody tr th:only-of-type {\n",
       "        vertical-align: middle;\n",
       "    }\n",
       "\n",
       "    .dataframe tbody tr th {\n",
       "        vertical-align: top;\n",
       "    }\n",
       "\n",
       "    .dataframe thead th {\n",
       "        text-align: right;\n",
       "    }\n",
       "</style>\n",
       "<table border=\"1\" class=\"dataframe\">\n",
       "  <thead>\n",
       "    <tr style=\"text-align: right;\">\n",
       "      <th></th>\n",
       "      <th>col_1</th>\n",
       "    </tr>\n",
       "  </thead>\n",
       "  <tbody>\n",
       "    <tr>\n",
       "      <th>(a, 1)</th>\n",
       "      <td>1</td>\n",
       "    </tr>\n",
       "    <tr>\n",
       "      <th>(b, 2)</th>\n",
       "      <td>2</td>\n",
       "    </tr>\n",
       "  </tbody>\n",
       "</table>\n",
       "</div>"
      ],
      "text/plain": [
       "        col_1\n",
       "(a, 1)      1\n",
       "(b, 2)      2"
      ]
     },
     "metadata": {},
     "output_type": "display_data"
    },
    {
     "data": {
      "text/html": [
       "<div>\n",
       "<style scoped>\n",
       "    .dataframe tbody tr th:only-of-type {\n",
       "        vertical-align: middle;\n",
       "    }\n",
       "\n",
       "    .dataframe tbody tr th {\n",
       "        vertical-align: top;\n",
       "    }\n",
       "\n",
       "    .dataframe thead th {\n",
       "        text-align: right;\n",
       "    }\n",
       "</style>\n",
       "<table border=\"1\" class=\"dataframe\">\n",
       "  <thead>\n",
       "    <tr style=\"text-align: right;\">\n",
       "      <th></th>\n",
       "      <th>index</th>\n",
       "      <th>col_1</th>\n",
       "    </tr>\n",
       "  </thead>\n",
       "  <tbody>\n",
       "    <tr>\n",
       "      <th>0</th>\n",
       "      <td>(a, 1)</td>\n",
       "      <td>1</td>\n",
       "    </tr>\n",
       "    <tr>\n",
       "      <th>1</th>\n",
       "      <td>(b, 2)</td>\n",
       "      <td>2</td>\n",
       "    </tr>\n",
       "  </tbody>\n",
       "</table>\n",
       "</div>"
      ],
      "text/plain": [
       "    index  col_1\n",
       "0  (a, 1)      1\n",
       "1  (b, 2)      2"
      ]
     },
     "metadata": {},
     "output_type": "display_data"
    },
    {
     "data": {
      "text/html": [
       "<div>\n",
       "<style scoped>\n",
       "    .dataframe tbody tr th:only-of-type {\n",
       "        vertical-align: middle;\n",
       "    }\n",
       "\n",
       "    .dataframe tbody tr th {\n",
       "        vertical-align: top;\n",
       "    }\n",
       "\n",
       "    .dataframe thead th {\n",
       "        text-align: right;\n",
       "    }\n",
       "</style>\n",
       "<table border=\"1\" class=\"dataframe\">\n",
       "  <thead>\n",
       "    <tr style=\"text-align: right;\">\n",
       "      <th></th>\n",
       "      <th>col_1</th>\n",
       "    </tr>\n",
       "  </thead>\n",
       "  <tbody>\n",
       "    <tr>\n",
       "      <th>0</th>\n",
       "      <td>1</td>\n",
       "    </tr>\n",
       "    <tr>\n",
       "      <th>1</th>\n",
       "      <td>2</td>\n",
       "    </tr>\n",
       "  </tbody>\n",
       "</table>\n",
       "</div>"
      ],
      "text/plain": [
       "   col_1\n",
       "0      1\n",
       "1      2"
      ]
     },
     "metadata": {},
     "output_type": "display_data"
    }
   ],
   "source": [
    "# reset_index\n",
    "\n",
    "df = pd.DataFrame(data=[1,2], index=[('a',1), ('b',2)], columns=['col_1'])\n",
    "display(df)\n",
    "\n",
    "display(df.reset_index())\n",
    "display(df.reset_index(drop=True))"
   ]
  },
  {
   "cell_type": "code",
   "execution_count": 11,
   "metadata": {},
   "outputs": [
    {
     "data": {
      "text/html": [
       "<div>\n",
       "<style scoped>\n",
       "    .dataframe tbody tr th:only-of-type {\n",
       "        vertical-align: middle;\n",
       "    }\n",
       "\n",
       "    .dataframe tbody tr th {\n",
       "        vertical-align: top;\n",
       "    }\n",
       "\n",
       "    .dataframe thead th {\n",
       "        text-align: right;\n",
       "    }\n",
       "</style>\n",
       "<table border=\"1\" class=\"dataframe\">\n",
       "  <thead>\n",
       "    <tr style=\"text-align: right;\">\n",
       "      <th></th>\n",
       "      <th>x</th>\n",
       "    </tr>\n",
       "  </thead>\n",
       "  <tbody>\n",
       "    <tr>\n",
       "      <th>('a', 1)</th>\n",
       "      <td>1</td>\n",
       "    </tr>\n",
       "    <tr>\n",
       "      <th>('b', 2)</th>\n",
       "      <td>2</td>\n",
       "    </tr>\n",
       "  </tbody>\n",
       "</table>\n",
       "</div>"
      ],
      "text/plain": [
       "          x\n",
       "('a', 1)  1\n",
       "('b', 2)  2"
      ]
     },
     "metadata": {},
     "output_type": "display_data"
    }
   ],
   "source": [
    "# rename column\n",
    "display(df.rename(index=str, columns={\"col_1\": \"x\", \"col_2\": \"y\"}))"
   ]
  },
  {
   "cell_type": "code",
   "execution_count": 12,
   "metadata": {},
   "outputs": [
    {
     "data": {
      "text/html": [
       "<div>\n",
       "<style scoped>\n",
       "    .dataframe tbody tr th:only-of-type {\n",
       "        vertical-align: middle;\n",
       "    }\n",
       "\n",
       "    .dataframe tbody tr th {\n",
       "        vertical-align: top;\n",
       "    }\n",
       "\n",
       "    .dataframe thead th {\n",
       "        text-align: right;\n",
       "    }\n",
       "</style>\n",
       "<table border=\"1\" class=\"dataframe\">\n",
       "  <thead>\n",
       "    <tr style=\"text-align: right;\">\n",
       "      <th></th>\n",
       "      <th>(a, 1)</th>\n",
       "      <th>(b, 2)</th>\n",
       "    </tr>\n",
       "  </thead>\n",
       "  <tbody>\n",
       "    <tr>\n",
       "      <th>col_1</th>\n",
       "      <td>1</td>\n",
       "      <td>2</td>\n",
       "    </tr>\n",
       "  </tbody>\n",
       "</table>\n",
       "</div>"
      ],
      "text/plain": [
       "       (a, 1)  (b, 2)\n",
       "col_1       1       2"
      ]
     },
     "metadata": {},
     "output_type": "display_data"
    }
   ],
   "source": [
    "# Transpose\n",
    "display(df.T)"
   ]
  },
  {
   "cell_type": "markdown",
   "metadata": {},
   "source": [
    "# File IO"
   ]
  },
  {
   "cell_type": "markdown",
   "metadata": {},
   "source": [
    "## Input\n",
    "\n",
    "- `pd.read_json`\n",
    "- `pd.read_excel`\n",
    "- `pd.read_csv`\n",
    "- `pd.read_pickle` # for pandas objects or other objects such as python dict\n",
    "\n",
    "More: https://pandas.pydata.org/pandas-docs/stable/reference/io.html"
   ]
  },
  {
   "cell_type": "markdown",
   "metadata": {},
   "source": [
    "## Output\n",
    "\n",
    "- `df.to_csv`\n",
    "- `df.to_dict(orient=)`\n",
    "- `df.to_excel`\n",
    "- `df.to_pickle`\n",
    "\n",
    "More: https://pandas.pydata.org/pandas-docs/stable/reference/frame.html#serialization-io-conversion"
   ]
  },
  {
   "cell_type": "markdown",
   "metadata": {},
   "source": [
    "### Excel with Style\n",
    "\n",
    "StyleFrame: https://styleframe.readthedocs.io/en/0.2/#"
   ]
  },
  {
   "cell_type": "code",
   "execution_count": null,
   "metadata": {
    "deletable": false,
    "editable": false,
    "run_control": {
     "frozen": true
    }
   },
   "outputs": [],
   "source": [
    "# Excel with style\n",
    "from StyleFrame import StyleFrame, Styler\n",
    "\n",
    "sf = StyleFrame.read_excel('xxx.xlsx', sheet_name='Sheet1') #, read_style=True / StyleFrame support only .xlsx\n",
    "\n",
    "font_blue = Styler(font_color='blue')\n",
    "font_red = Styler(font_color='red')\n",
    "\n",
    "for col_name in sf.columns:\n",
    "    sf.apply_style_by_indexes(indexes_to_style=sf[sf[col_name].isin(some_list)], # decide rows\n",
    "                              styler_obj=font_blue,\n",
    "                              cols_to_style=col_name) # decide cols\n",
    "    sf.apply_style_by_indexes(indexes_to_style=sf[sf[col_name].isin(another_list)],\n",
    "                              styler_obj=font_red,\n",
    "                              cols_to_style=col_name)\n",
    "\n",
    "sf.to_excel('xxx_styled.xlsx').save()"
   ]
  },
  {
   "cell_type": "markdown",
   "metadata": {},
   "source": [
    "# Indexing / Selecting / Slicing\n",
    "\n",
    "https://pandas.pydata.org/pandas-docs/stable/user_guide/indexing.html\n",
    "\n",
    "index的label和integer position"
   ]
  },
  {
   "cell_type": "markdown",
   "metadata": {},
   "source": [
    "## [ ]\n",
    "\n",
    "- series: select row\n",
    "- dataframe: select column"
   ]
  },
  {
   "cell_type": "code",
   "execution_count": 13,
   "metadata": {},
   "outputs": [
    {
     "data": {
      "text/plain": [
       "a    aa\n",
       "1    bb\n",
       "2    cc\n",
       "3    dd\n",
       "dtype: object"
      ]
     },
     "metadata": {},
     "output_type": "display_data"
    },
    {
     "data": {
      "text/plain": [
       "1    bb\n",
       "3    dd\n",
       "2    cc\n",
       "dtype: object"
      ]
     },
     "metadata": {},
     "output_type": "display_data"
    },
    {
     "data": {
      "text/plain": [
       "1    bb\n",
       "3    dd\n",
       "2    cc\n",
       "dtype: object"
      ]
     },
     "metadata": {},
     "output_type": "display_data"
    },
    {
     "data": {
      "text/plain": [
       "1    bb\n",
       "a    aa\n",
       "2    cc\n",
       "dtype: object"
      ]
     },
     "metadata": {},
     "output_type": "display_data"
    }
   ],
   "source": [
    "sr = pd.Series(data=['aa','bb','cc', 'dd'], index=['a',1,2,3])\n",
    "display(sr)\n",
    "display(sr[pd.Index([1,3,2])])\n",
    "display(sr[[1,3,2]])\n",
    "display(sr[[1,'a',2]])"
   ]
  },
  {
   "cell_type": "code",
   "execution_count": 14,
   "metadata": {},
   "outputs": [
    {
     "data": {
      "text/html": [
       "<div>\n",
       "<style scoped>\n",
       "    .dataframe tbody tr th:only-of-type {\n",
       "        vertical-align: middle;\n",
       "    }\n",
       "\n",
       "    .dataframe tbody tr th {\n",
       "        vertical-align: top;\n",
       "    }\n",
       "\n",
       "    .dataframe thead th {\n",
       "        text-align: right;\n",
       "    }\n",
       "</style>\n",
       "<table border=\"1\" class=\"dataframe\">\n",
       "  <thead>\n",
       "    <tr style=\"text-align: right;\">\n",
       "      <th></th>\n",
       "      <th>col_1</th>\n",
       "      <th>col_2</th>\n",
       "    </tr>\n",
       "  </thead>\n",
       "  <tbody>\n",
       "    <tr>\n",
       "      <th>row_1</th>\n",
       "      <td>1</td>\n",
       "      <td>2</td>\n",
       "    </tr>\n",
       "    <tr>\n",
       "      <th>row_2</th>\n",
       "      <td>3</td>\n",
       "      <td>4</td>\n",
       "    </tr>\n",
       "  </tbody>\n",
       "</table>\n",
       "</div>"
      ],
      "text/plain": [
       "       col_1  col_2\n",
       "row_1      1      2\n",
       "row_2      3      4"
      ]
     },
     "metadata": {},
     "output_type": "display_data"
    },
    {
     "data": {
      "text/html": [
       "<div>\n",
       "<style scoped>\n",
       "    .dataframe tbody tr th:only-of-type {\n",
       "        vertical-align: middle;\n",
       "    }\n",
       "\n",
       "    .dataframe tbody tr th {\n",
       "        vertical-align: top;\n",
       "    }\n",
       "\n",
       "    .dataframe thead th {\n",
       "        text-align: right;\n",
       "    }\n",
       "</style>\n",
       "<table border=\"1\" class=\"dataframe\">\n",
       "  <thead>\n",
       "    <tr style=\"text-align: right;\">\n",
       "      <th></th>\n",
       "      <th>col_1</th>\n",
       "    </tr>\n",
       "  </thead>\n",
       "  <tbody>\n",
       "    <tr>\n",
       "      <th>row_1</th>\n",
       "      <td>1</td>\n",
       "    </tr>\n",
       "    <tr>\n",
       "      <th>row_2</th>\n",
       "      <td>3</td>\n",
       "    </tr>\n",
       "  </tbody>\n",
       "</table>\n",
       "</div>"
      ],
      "text/plain": [
       "       col_1\n",
       "row_1      1\n",
       "row_2      3"
      ]
     },
     "metadata": {},
     "output_type": "display_data"
    }
   ],
   "source": [
    "df = pd.DataFrame(data=[[1,2],[3,4]], index=['row_1', 'row_2'], columns=['col_1','col_2'])\n",
    "display(df)\n",
    "display(df[['col_1']]) # column\n",
    "# df[['row_1', 'row_2']] Error"
   ]
  },
  {
   "cell_type": "markdown",
   "metadata": {},
   "source": [
    "## loc / iloc"
   ]
  },
  {
   "cell_type": "markdown",
   "metadata": {},
   "source": [
    "### single index"
   ]
  },
  {
   "cell_type": "code",
   "execution_count": 15,
   "metadata": {},
   "outputs": [
    {
     "data": {
      "text/plain": [
       "a    aa\n",
       "1    bb\n",
       "2    cc\n",
       "3    dd\n",
       "dtype: object"
      ]
     },
     "metadata": {},
     "output_type": "display_data"
    }
   ],
   "source": [
    "sr = pd.Series(data=['aa','bb','cc', 'dd'], index=['a',1,2,3])\n",
    "display(sr)"
   ]
  },
  {
   "cell_type": "code",
   "execution_count": 16,
   "metadata": {},
   "outputs": [
    {
     "data": {
      "text/html": [
       "<div>\n",
       "<style scoped>\n",
       "    .dataframe tbody tr th:only-of-type {\n",
       "        vertical-align: middle;\n",
       "    }\n",
       "\n",
       "    .dataframe tbody tr th {\n",
       "        vertical-align: top;\n",
       "    }\n",
       "\n",
       "    .dataframe thead th {\n",
       "        text-align: right;\n",
       "    }\n",
       "</style>\n",
       "<table border=\"1\" class=\"dataframe\">\n",
       "  <thead>\n",
       "    <tr style=\"text-align: right;\">\n",
       "      <th></th>\n",
       "      <th>col_1</th>\n",
       "    </tr>\n",
       "  </thead>\n",
       "  <tbody>\n",
       "    <tr>\n",
       "      <th>row_1</th>\n",
       "      <td>1</td>\n",
       "    </tr>\n",
       "    <tr>\n",
       "      <th>row_2</th>\n",
       "      <td>2</td>\n",
       "    </tr>\n",
       "  </tbody>\n",
       "</table>\n",
       "</div>"
      ],
      "text/plain": [
       "       col_1\n",
       "row_1      1\n",
       "row_2      2"
      ]
     },
     "metadata": {},
     "output_type": "display_data"
    },
    {
     "data": {
      "text/html": [
       "<div>\n",
       "<style scoped>\n",
       "    .dataframe tbody tr th:only-of-type {\n",
       "        vertical-align: middle;\n",
       "    }\n",
       "\n",
       "    .dataframe tbody tr th {\n",
       "        vertical-align: top;\n",
       "    }\n",
       "\n",
       "    .dataframe thead th {\n",
       "        text-align: right;\n",
       "    }\n",
       "</style>\n",
       "<table border=\"1\" class=\"dataframe\">\n",
       "  <thead>\n",
       "    <tr style=\"text-align: right;\">\n",
       "      <th></th>\n",
       "      <th>col_1</th>\n",
       "    </tr>\n",
       "  </thead>\n",
       "  <tbody>\n",
       "    <tr>\n",
       "      <th>row_1</th>\n",
       "      <td>1</td>\n",
       "    </tr>\n",
       "    <tr>\n",
       "      <th>row_2</th>\n",
       "      <td>2</td>\n",
       "    </tr>\n",
       "  </tbody>\n",
       "</table>\n",
       "</div>"
      ],
      "text/plain": [
       "       col_1\n",
       "row_1      1\n",
       "row_2      2"
      ]
     },
     "metadata": {},
     "output_type": "display_data"
    }
   ],
   "source": [
    "df = pd.DataFrame(data=[1,2], index=['row_1', 'row_2'], columns=['col_1'])\n",
    "display(df)\n",
    "display(df.loc[['row_1', 'row_2']])"
   ]
  },
  {
   "cell_type": "code",
   "execution_count": 17,
   "metadata": {},
   "outputs": [
    {
     "name": "stdout",
     "output_type": "stream",
     "text": [
      "<class 'KeyError'> 'row_2'\n"
     ]
    }
   ],
   "source": [
    "try:\n",
    "    df.loc[('row_1', 'row_2')] # for multiindex: https://pandas.pydata.org/pandas-docs/stable/user_guide/advanced.html\n",
    "except Exception as e:\n",
    "    print(type(e), e)"
   ]
  },
  {
   "cell_type": "markdown",
   "metadata": {},
   "source": [
    "### tuple index"
   ]
  },
  {
   "cell_type": "code",
   "execution_count": 18,
   "metadata": {},
   "outputs": [
    {
     "data": {
      "text/html": [
       "<div>\n",
       "<style scoped>\n",
       "    .dataframe tbody tr th:only-of-type {\n",
       "        vertical-align: middle;\n",
       "    }\n",
       "\n",
       "    .dataframe tbody tr th {\n",
       "        vertical-align: top;\n",
       "    }\n",
       "\n",
       "    .dataframe thead th {\n",
       "        text-align: right;\n",
       "    }\n",
       "</style>\n",
       "<table border=\"1\" class=\"dataframe\">\n",
       "  <thead>\n",
       "    <tr style=\"text-align: right;\">\n",
       "      <th></th>\n",
       "      <th>col_1</th>\n",
       "    </tr>\n",
       "  </thead>\n",
       "  <tbody>\n",
       "    <tr>\n",
       "      <th>(a, 1)</th>\n",
       "      <td>1</td>\n",
       "    </tr>\n",
       "    <tr>\n",
       "      <th>(b, 2)</th>\n",
       "      <td>2</td>\n",
       "    </tr>\n",
       "  </tbody>\n",
       "</table>\n",
       "</div>"
      ],
      "text/plain": [
       "        col_1\n",
       "(a, 1)      1\n",
       "(b, 2)      2"
      ]
     },
     "metadata": {},
     "output_type": "display_data"
    }
   ],
   "source": [
    "df = pd.DataFrame(data=[1,2], index=[('a',1), ('b',2)], columns=['col_1'])\n",
    "display(df)"
   ]
  },
  {
   "cell_type": "code",
   "execution_count": null,
   "metadata": {
    "deletable": false,
    "editable": false,
    "run_control": {
     "frozen": true
    }
   },
   "outputs": [],
   "source": [
    "df.loc[('a',1)] # KeyError: 'a'\n",
    "df.loc[('a',1),] # KeyError: \"None of [('a', 1)] are in the [index]\""
   ]
  },
  {
   "cell_type": "code",
   "execution_count": 19,
   "metadata": {},
   "outputs": [
    {
     "data": {
      "text/html": [
       "<div>\n",
       "<style scoped>\n",
       "    .dataframe tbody tr th:only-of-type {\n",
       "        vertical-align: middle;\n",
       "    }\n",
       "\n",
       "    .dataframe tbody tr th {\n",
       "        vertical-align: top;\n",
       "    }\n",
       "\n",
       "    .dataframe thead th {\n",
       "        text-align: right;\n",
       "    }\n",
       "</style>\n",
       "<table border=\"1\" class=\"dataframe\">\n",
       "  <thead>\n",
       "    <tr style=\"text-align: right;\">\n",
       "      <th></th>\n",
       "      <th>col_1</th>\n",
       "    </tr>\n",
       "  </thead>\n",
       "  <tbody>\n",
       "    <tr>\n",
       "      <th>(a, 1)</th>\n",
       "      <td>1</td>\n",
       "    </tr>\n",
       "  </tbody>\n",
       "</table>\n",
       "</div>"
      ],
      "text/plain": [
       "        col_1\n",
       "(a, 1)      1"
      ]
     },
     "metadata": {},
     "output_type": "display_data"
    },
    {
     "data": {
      "text/html": [
       "<div>\n",
       "<style scoped>\n",
       "    .dataframe tbody tr th:only-of-type {\n",
       "        vertical-align: middle;\n",
       "    }\n",
       "\n",
       "    .dataframe tbody tr th {\n",
       "        vertical-align: top;\n",
       "    }\n",
       "\n",
       "    .dataframe thead th {\n",
       "        text-align: right;\n",
       "    }\n",
       "</style>\n",
       "<table border=\"1\" class=\"dataframe\">\n",
       "  <thead>\n",
       "    <tr style=\"text-align: right;\">\n",
       "      <th></th>\n",
       "      <th>col_1</th>\n",
       "    </tr>\n",
       "  </thead>\n",
       "  <tbody>\n",
       "    <tr>\n",
       "      <th>(a, 1)</th>\n",
       "      <td>1</td>\n",
       "    </tr>\n",
       "  </tbody>\n",
       "</table>\n",
       "</div>"
      ],
      "text/plain": [
       "        col_1\n",
       "(a, 1)      1"
      ]
     },
     "metadata": {},
     "output_type": "display_data"
    },
    {
     "data": {
      "text/html": [
       "<div>\n",
       "<style scoped>\n",
       "    .dataframe tbody tr th:only-of-type {\n",
       "        vertical-align: middle;\n",
       "    }\n",
       "\n",
       "    .dataframe tbody tr th {\n",
       "        vertical-align: top;\n",
       "    }\n",
       "\n",
       "    .dataframe thead th {\n",
       "        text-align: right;\n",
       "    }\n",
       "</style>\n",
       "<table border=\"1\" class=\"dataframe\">\n",
       "  <thead>\n",
       "    <tr style=\"text-align: right;\">\n",
       "      <th></th>\n",
       "      <th>col_1</th>\n",
       "    </tr>\n",
       "  </thead>\n",
       "  <tbody>\n",
       "    <tr>\n",
       "      <th>(a, 1)</th>\n",
       "      <td>1</td>\n",
       "    </tr>\n",
       "    <tr>\n",
       "      <th>(b, 2)</th>\n",
       "      <td>2</td>\n",
       "    </tr>\n",
       "  </tbody>\n",
       "</table>\n",
       "</div>"
      ],
      "text/plain": [
       "        col_1\n",
       "(a, 1)      1\n",
       "(b, 2)      2"
      ]
     },
     "metadata": {},
     "output_type": "display_data"
    }
   ],
   "source": [
    "display(df.loc[[('a',1)],])\n",
    "display(df.loc[[('a',1),],])\n",
    "display(df.loc[[('a',1), ('b',2)],])"
   ]
  },
  {
   "cell_type": "code",
   "execution_count": 20,
   "metadata": {},
   "outputs": [
    {
     "data": {
      "text/plain": [
       "(a, 1)    1\n",
       "Name: col_1, dtype: int64"
      ]
     },
     "metadata": {},
     "output_type": "display_data"
    }
   ],
   "source": [
    "display(df.loc[[('a',1),], 'col_1'])"
   ]
  },
  {
   "cell_type": "markdown",
   "metadata": {},
   "source": [
    "### hierarchical index (MultiIndex)\n",
    "\n",
    "https://pandas.pydata.org/pandas-docs/stable/user_guide/advanced.html"
   ]
  },
  {
   "cell_type": "code",
   "execution_count": 21,
   "metadata": {},
   "outputs": [
    {
     "data": {
      "text/html": [
       "<div>\n",
       "<style scoped>\n",
       "    .dataframe tbody tr th:only-of-type {\n",
       "        vertical-align: middle;\n",
       "    }\n",
       "\n",
       "    .dataframe tbody tr th {\n",
       "        vertical-align: top;\n",
       "    }\n",
       "\n",
       "    .dataframe thead th {\n",
       "        text-align: right;\n",
       "    }\n",
       "</style>\n",
       "<table border=\"1\" class=\"dataframe\">\n",
       "  <thead>\n",
       "    <tr style=\"text-align: right;\">\n",
       "      <th></th>\n",
       "      <th></th>\n",
       "      <th>0</th>\n",
       "      <th>1</th>\n",
       "      <th>2</th>\n",
       "      <th>3</th>\n",
       "    </tr>\n",
       "  </thead>\n",
       "  <tbody>\n",
       "    <tr>\n",
       "      <th rowspan=\"2\" valign=\"top\">bar</th>\n",
       "      <th>one</th>\n",
       "      <td>0.084010</td>\n",
       "      <td>0.448388</td>\n",
       "      <td>0.221175</td>\n",
       "      <td>-0.851327</td>\n",
       "    </tr>\n",
       "    <tr>\n",
       "      <th>two</th>\n",
       "      <td>-0.111577</td>\n",
       "      <td>-0.416242</td>\n",
       "      <td>0.470984</td>\n",
       "      <td>-1.161720</td>\n",
       "    </tr>\n",
       "    <tr>\n",
       "      <th rowspan=\"2\" valign=\"top\">baz</th>\n",
       "      <th>one</th>\n",
       "      <td>-0.536095</td>\n",
       "      <td>-0.227912</td>\n",
       "      <td>0.683266</td>\n",
       "      <td>0.009823</td>\n",
       "    </tr>\n",
       "    <tr>\n",
       "      <th>two</th>\n",
       "      <td>2.772779</td>\n",
       "      <td>2.812283</td>\n",
       "      <td>1.010860</td>\n",
       "      <td>-1.774197</td>\n",
       "    </tr>\n",
       "    <tr>\n",
       "      <th rowspan=\"2\" valign=\"top\">foo</th>\n",
       "      <th>one</th>\n",
       "      <td>0.296005</td>\n",
       "      <td>0.024984</td>\n",
       "      <td>-0.485968</td>\n",
       "      <td>0.921718</td>\n",
       "    </tr>\n",
       "    <tr>\n",
       "      <th>two</th>\n",
       "      <td>-0.248626</td>\n",
       "      <td>0.868039</td>\n",
       "      <td>-0.617423</td>\n",
       "      <td>0.612953</td>\n",
       "    </tr>\n",
       "    <tr>\n",
       "      <th rowspan=\"2\" valign=\"top\">qux</th>\n",
       "      <th>one</th>\n",
       "      <td>-0.695896</td>\n",
       "      <td>-0.325554</td>\n",
       "      <td>0.564617</td>\n",
       "      <td>-1.511105</td>\n",
       "    </tr>\n",
       "    <tr>\n",
       "      <th>two</th>\n",
       "      <td>0.271633</td>\n",
       "      <td>-1.354904</td>\n",
       "      <td>1.143468</td>\n",
       "      <td>-0.917606</td>\n",
       "    </tr>\n",
       "  </tbody>\n",
       "</table>\n",
       "</div>"
      ],
      "text/plain": [
       "                0         1         2         3\n",
       "bar one  0.084010  0.448388  0.221175 -0.851327\n",
       "    two -0.111577 -0.416242  0.470984 -1.161720\n",
       "baz one -0.536095 -0.227912  0.683266  0.009823\n",
       "    two  2.772779  2.812283  1.010860 -1.774197\n",
       "foo one  0.296005  0.024984 -0.485968  0.921718\n",
       "    two -0.248626  0.868039 -0.617423  0.612953\n",
       "qux one -0.695896 -0.325554  0.564617 -1.511105\n",
       "    two  0.271633 -1.354904  1.143468 -0.917606"
      ]
     },
     "metadata": {},
     "output_type": "display_data"
    }
   ],
   "source": [
    "arrays = [np.array(['bar', 'bar', 'baz', 'baz', 'foo', 'foo', 'qux', 'qux']),\n",
    "          np.array(['one', 'two', 'one', 'two', 'one', 'two', 'one', 'two'])] \n",
    "df = pd.DataFrame(np.random.randn(8, 4), index=arrays)\n",
    "display(df)"
   ]
  },
  {
   "cell_type": "code",
   "execution_count": 22,
   "metadata": {},
   "outputs": [
    {
     "data": {
      "text/plain": [
       "0    2.772779\n",
       "1    2.812283\n",
       "2    1.010860\n",
       "3   -1.774197\n",
       "Name: (baz, two), dtype: float64"
      ]
     },
     "metadata": {},
     "output_type": "display_data"
    },
    {
     "data": {
      "text/html": [
       "<div>\n",
       "<style scoped>\n",
       "    .dataframe tbody tr th:only-of-type {\n",
       "        vertical-align: middle;\n",
       "    }\n",
       "\n",
       "    .dataframe tbody tr th {\n",
       "        vertical-align: top;\n",
       "    }\n",
       "\n",
       "    .dataframe thead th {\n",
       "        text-align: right;\n",
       "    }\n",
       "</style>\n",
       "<table border=\"1\" class=\"dataframe\">\n",
       "  <thead>\n",
       "    <tr style=\"text-align: right;\">\n",
       "      <th></th>\n",
       "      <th></th>\n",
       "      <th>0</th>\n",
       "      <th>1</th>\n",
       "      <th>2</th>\n",
       "      <th>3</th>\n",
       "    </tr>\n",
       "  </thead>\n",
       "  <tbody>\n",
       "    <tr>\n",
       "      <th>baz</th>\n",
       "      <th>two</th>\n",
       "      <td>2.772779</td>\n",
       "      <td>2.812283</td>\n",
       "      <td>1.01086</td>\n",
       "      <td>-1.774197</td>\n",
       "    </tr>\n",
       "  </tbody>\n",
       "</table>\n",
       "</div>"
      ],
      "text/plain": [
       "                0         1        2         3\n",
       "baz two  2.772779  2.812283  1.01086 -1.774197"
      ]
     },
     "metadata": {},
     "output_type": "display_data"
    },
    {
     "data": {
      "text/html": [
       "<div>\n",
       "<style scoped>\n",
       "    .dataframe tbody tr th:only-of-type {\n",
       "        vertical-align: middle;\n",
       "    }\n",
       "\n",
       "    .dataframe tbody tr th {\n",
       "        vertical-align: top;\n",
       "    }\n",
       "\n",
       "    .dataframe thead th {\n",
       "        text-align: right;\n",
       "    }\n",
       "</style>\n",
       "<table border=\"1\" class=\"dataframe\">\n",
       "  <thead>\n",
       "    <tr style=\"text-align: right;\">\n",
       "      <th></th>\n",
       "      <th></th>\n",
       "      <th>0</th>\n",
       "      <th>1</th>\n",
       "      <th>2</th>\n",
       "      <th>3</th>\n",
       "    </tr>\n",
       "  </thead>\n",
       "  <tbody>\n",
       "    <tr>\n",
       "      <th>baz</th>\n",
       "      <th>two</th>\n",
       "      <td>2.772779</td>\n",
       "      <td>2.812283</td>\n",
       "      <td>1.010860</td>\n",
       "      <td>-1.774197</td>\n",
       "    </tr>\n",
       "    <tr>\n",
       "      <th>foo</th>\n",
       "      <th>one</th>\n",
       "      <td>0.296005</td>\n",
       "      <td>0.024984</td>\n",
       "      <td>-0.485968</td>\n",
       "      <td>0.921718</td>\n",
       "    </tr>\n",
       "  </tbody>\n",
       "</table>\n",
       "</div>"
      ],
      "text/plain": [
       "                0         1         2         3\n",
       "baz two  2.772779  2.812283  1.010860 -1.774197\n",
       "foo one  0.296005  0.024984 -0.485968  0.921718"
      ]
     },
     "metadata": {},
     "output_type": "display_data"
    }
   ],
   "source": [
    "display(df.loc[('baz', 'two')]) # series\n",
    "display(df.loc[[('baz', 'two')]]) # dataframe\n",
    "display(df.loc[[('baz', 'two'), ('foo', 'one')]]) # dataframe"
   ]
  },
  {
   "cell_type": "markdown",
   "metadata": {},
   "source": [
    "### iloc"
   ]
  },
  {
   "cell_type": "code",
   "execution_count": 23,
   "metadata": {},
   "outputs": [
    {
     "data": {
      "text/html": [
       "<div>\n",
       "<style scoped>\n",
       "    .dataframe tbody tr th:only-of-type {\n",
       "        vertical-align: middle;\n",
       "    }\n",
       "\n",
       "    .dataframe tbody tr th {\n",
       "        vertical-align: top;\n",
       "    }\n",
       "\n",
       "    .dataframe thead th {\n",
       "        text-align: right;\n",
       "    }\n",
       "</style>\n",
       "<table border=\"1\" class=\"dataframe\">\n",
       "  <thead>\n",
       "    <tr style=\"text-align: right;\">\n",
       "      <th></th>\n",
       "      <th>AAA</th>\n",
       "      <th>BBB</th>\n",
       "      <th>CCC</th>\n",
       "    </tr>\n",
       "  </thead>\n",
       "  <tbody>\n",
       "    <tr>\n",
       "      <th>0</th>\n",
       "      <td>4</td>\n",
       "      <td>10</td>\n",
       "      <td>100</td>\n",
       "    </tr>\n",
       "    <tr>\n",
       "      <th>1</th>\n",
       "      <td>5</td>\n",
       "      <td>20</td>\n",
       "      <td>50</td>\n",
       "    </tr>\n",
       "    <tr>\n",
       "      <th>2</th>\n",
       "      <td>6</td>\n",
       "      <td>30</td>\n",
       "      <td>-30</td>\n",
       "    </tr>\n",
       "    <tr>\n",
       "      <th>3</th>\n",
       "      <td>7</td>\n",
       "      <td>40</td>\n",
       "      <td>-50</td>\n",
       "    </tr>\n",
       "  </tbody>\n",
       "</table>\n",
       "</div>"
      ],
      "text/plain": [
       "   AAA  BBB  CCC\n",
       "0    4   10  100\n",
       "1    5   20   50\n",
       "2    6   30  -30\n",
       "3    7   40  -50"
      ]
     },
     "metadata": {},
     "output_type": "display_data"
    },
    {
     "data": {
      "text/plain": [
       "AAA      4\n",
       "BBB     10\n",
       "CCC    100\n",
       "Name: 0, dtype: int64"
      ]
     },
     "metadata": {},
     "output_type": "display_data"
    },
    {
     "data": {
      "text/plain": [
       "AAA     7\n",
       "BBB    40\n",
       "CCC   -50\n",
       "Name: 3, dtype: int64"
      ]
     },
     "metadata": {},
     "output_type": "display_data"
    },
    {
     "data": {
      "text/html": [
       "<div>\n",
       "<style scoped>\n",
       "    .dataframe tbody tr th:only-of-type {\n",
       "        vertical-align: middle;\n",
       "    }\n",
       "\n",
       "    .dataframe tbody tr th {\n",
       "        vertical-align: top;\n",
       "    }\n",
       "\n",
       "    .dataframe thead th {\n",
       "        text-align: right;\n",
       "    }\n",
       "</style>\n",
       "<table border=\"1\" class=\"dataframe\">\n",
       "  <thead>\n",
       "    <tr style=\"text-align: right;\">\n",
       "      <th></th>\n",
       "      <th>AAA</th>\n",
       "      <th>BBB</th>\n",
       "      <th>CCC</th>\n",
       "    </tr>\n",
       "  </thead>\n",
       "  <tbody>\n",
       "    <tr>\n",
       "      <th>0</th>\n",
       "      <td>4</td>\n",
       "      <td>10</td>\n",
       "      <td>100</td>\n",
       "    </tr>\n",
       "    <tr>\n",
       "      <th>1</th>\n",
       "      <td>5</td>\n",
       "      <td>20</td>\n",
       "      <td>50</td>\n",
       "    </tr>\n",
       "  </tbody>\n",
       "</table>\n",
       "</div>"
      ],
      "text/plain": [
       "   AAA  BBB  CCC\n",
       "0    4   10  100\n",
       "1    5   20   50"
      ]
     },
     "metadata": {},
     "output_type": "display_data"
    },
    {
     "data": {
      "text/html": [
       "<div>\n",
       "<style scoped>\n",
       "    .dataframe tbody tr th:only-of-type {\n",
       "        vertical-align: middle;\n",
       "    }\n",
       "\n",
       "    .dataframe tbody tr th {\n",
       "        vertical-align: top;\n",
       "    }\n",
       "\n",
       "    .dataframe thead th {\n",
       "        text-align: right;\n",
       "    }\n",
       "</style>\n",
       "<table border=\"1\" class=\"dataframe\">\n",
       "  <thead>\n",
       "    <tr style=\"text-align: right;\">\n",
       "      <th></th>\n",
       "      <th>AAA</th>\n",
       "      <th>BBB</th>\n",
       "      <th>CCC</th>\n",
       "    </tr>\n",
       "  </thead>\n",
       "  <tbody>\n",
       "    <tr>\n",
       "      <th>1</th>\n",
       "      <td>5</td>\n",
       "      <td>20</td>\n",
       "      <td>50</td>\n",
       "    </tr>\n",
       "    <tr>\n",
       "      <th>2</th>\n",
       "      <td>6</td>\n",
       "      <td>30</td>\n",
       "      <td>-30</td>\n",
       "    </tr>\n",
       "    <tr>\n",
       "      <th>3</th>\n",
       "      <td>7</td>\n",
       "      <td>40</td>\n",
       "      <td>-50</td>\n",
       "    </tr>\n",
       "  </tbody>\n",
       "</table>\n",
       "</div>"
      ],
      "text/plain": [
       "   AAA  BBB  CCC\n",
       "1    5   20   50\n",
       "2    6   30  -30\n",
       "3    7   40  -50"
      ]
     },
     "metadata": {},
     "output_type": "display_data"
    },
    {
     "data": {
      "text/html": [
       "<div>\n",
       "<style scoped>\n",
       "    .dataframe tbody tr th:only-of-type {\n",
       "        vertical-align: middle;\n",
       "    }\n",
       "\n",
       "    .dataframe tbody tr th {\n",
       "        vertical-align: top;\n",
       "    }\n",
       "\n",
       "    .dataframe thead th {\n",
       "        text-align: right;\n",
       "    }\n",
       "</style>\n",
       "<table border=\"1\" class=\"dataframe\">\n",
       "  <thead>\n",
       "    <tr style=\"text-align: right;\">\n",
       "      <th></th>\n",
       "      <th>AAA</th>\n",
       "      <th>BBB</th>\n",
       "      <th>CCC</th>\n",
       "    </tr>\n",
       "  </thead>\n",
       "  <tbody>\n",
       "    <tr>\n",
       "      <th>3</th>\n",
       "      <td>7</td>\n",
       "      <td>40</td>\n",
       "      <td>-50</td>\n",
       "    </tr>\n",
       "  </tbody>\n",
       "</table>\n",
       "</div>"
      ],
      "text/plain": [
       "   AAA  BBB  CCC\n",
       "3    7   40  -50"
      ]
     },
     "metadata": {},
     "output_type": "display_data"
    },
    {
     "data": {
      "text/html": [
       "<div>\n",
       "<style scoped>\n",
       "    .dataframe tbody tr th:only-of-type {\n",
       "        vertical-align: middle;\n",
       "    }\n",
       "\n",
       "    .dataframe tbody tr th {\n",
       "        vertical-align: top;\n",
       "    }\n",
       "\n",
       "    .dataframe thead th {\n",
       "        text-align: right;\n",
       "    }\n",
       "</style>\n",
       "<table border=\"1\" class=\"dataframe\">\n",
       "  <thead>\n",
       "    <tr style=\"text-align: right;\">\n",
       "      <th></th>\n",
       "      <th>AAA</th>\n",
       "      <th>BBB</th>\n",
       "      <th>CCC</th>\n",
       "    </tr>\n",
       "  </thead>\n",
       "  <tbody>\n",
       "    <tr>\n",
       "      <th>0</th>\n",
       "      <td>4</td>\n",
       "      <td>10</td>\n",
       "      <td>100</td>\n",
       "    </tr>\n",
       "    <tr>\n",
       "      <th>2</th>\n",
       "      <td>6</td>\n",
       "      <td>30</td>\n",
       "      <td>-30</td>\n",
       "    </tr>\n",
       "  </tbody>\n",
       "</table>\n",
       "</div>"
      ],
      "text/plain": [
       "   AAA  BBB  CCC\n",
       "0    4   10  100\n",
       "2    6   30  -30"
      ]
     },
     "metadata": {},
     "output_type": "display_data"
    }
   ],
   "source": [
    "df = pd.DataFrame({'AAA': [4, 5, 6, 7],\n",
    "                   'BBB': [10, 20, 30, 40],\n",
    "                   'CCC': [100, 50, -30, -50]})\n",
    "display(df)\n",
    "\n",
    "display(df.iloc[0]) # series\n",
    "display(df.iloc[-1])\n",
    "\n",
    "display(df.iloc[0:2]) # dataframe\n",
    "display(df.iloc[1:])\n",
    "display(df.iloc[-1:])\n",
    "display(df.iloc[::2])"
   ]
  },
  {
   "cell_type": "markdown",
   "metadata": {},
   "source": [
    "## Boolean Filtering"
   ]
  },
  {
   "cell_type": "code",
   "execution_count": 24,
   "metadata": {},
   "outputs": [
    {
     "data": {
      "text/html": [
       "<div>\n",
       "<style scoped>\n",
       "    .dataframe tbody tr th:only-of-type {\n",
       "        vertical-align: middle;\n",
       "    }\n",
       "\n",
       "    .dataframe tbody tr th {\n",
       "        vertical-align: top;\n",
       "    }\n",
       "\n",
       "    .dataframe thead th {\n",
       "        text-align: right;\n",
       "    }\n",
       "</style>\n",
       "<table border=\"1\" class=\"dataframe\">\n",
       "  <thead>\n",
       "    <tr style=\"text-align: right;\">\n",
       "      <th></th>\n",
       "      <th>col_1</th>\n",
       "      <th>col_2</th>\n",
       "    </tr>\n",
       "  </thead>\n",
       "  <tbody>\n",
       "    <tr>\n",
       "      <th>(a, 1)</th>\n",
       "      <td>1</td>\n",
       "      <td>2</td>\n",
       "    </tr>\n",
       "    <tr>\n",
       "      <th>(b, 2)</th>\n",
       "      <td>2</td>\n",
       "      <td>1</td>\n",
       "    </tr>\n",
       "  </tbody>\n",
       "</table>\n",
       "</div>"
      ],
      "text/plain": [
       "        col_1  col_2\n",
       "(a, 1)      1      2\n",
       "(b, 2)      2      1"
      ]
     },
     "metadata": {},
     "output_type": "display_data"
    }
   ],
   "source": [
    "df = pd.DataFrame(data=[[1,2],[2,1]], index=[('a',1), ('b',2)], columns=['col_1', 'col_2'])\n",
    "display(df)"
   ]
  },
  {
   "cell_type": "code",
   "execution_count": 25,
   "metadata": {},
   "outputs": [
    {
     "data": {
      "text/plain": [
       "pandas.core.series.Series"
      ]
     },
     "metadata": {},
     "output_type": "display_data"
    },
    {
     "data": {
      "text/plain": [
       "(a, 1)     True\n",
       "(b, 2)    False\n",
       "Name: col_1, dtype: bool"
      ]
     },
     "metadata": {},
     "output_type": "display_data"
    },
    {
     "data": {
      "text/html": [
       "<div>\n",
       "<style scoped>\n",
       "    .dataframe tbody tr th:only-of-type {\n",
       "        vertical-align: middle;\n",
       "    }\n",
       "\n",
       "    .dataframe tbody tr th {\n",
       "        vertical-align: top;\n",
       "    }\n",
       "\n",
       "    .dataframe thead th {\n",
       "        text-align: right;\n",
       "    }\n",
       "</style>\n",
       "<table border=\"1\" class=\"dataframe\">\n",
       "  <thead>\n",
       "    <tr style=\"text-align: right;\">\n",
       "      <th></th>\n",
       "      <th>col_1</th>\n",
       "      <th>col_2</th>\n",
       "    </tr>\n",
       "  </thead>\n",
       "  <tbody>\n",
       "    <tr>\n",
       "      <th>(a, 1)</th>\n",
       "      <td>1</td>\n",
       "      <td>2</td>\n",
       "    </tr>\n",
       "  </tbody>\n",
       "</table>\n",
       "</div>"
      ],
      "text/plain": [
       "        col_1  col_2\n",
       "(a, 1)      1      2"
      ]
     },
     "metadata": {},
     "output_type": "display_data"
    }
   ],
   "source": [
    "display(type(df['col_1'] == 1))\n",
    "display(df['col_1'] == 1)\n",
    "display(df[df['col_1'] == 1])"
   ]
  },
  {
   "cell_type": "code",
   "execution_count": 26,
   "metadata": {},
   "outputs": [
    {
     "data": {
      "text/plain": [
       "(a, 1)    False\n",
       "(b, 2)     True\n",
       "Name: col_1, dtype: bool"
      ]
     },
     "metadata": {},
     "output_type": "display_data"
    },
    {
     "data": {
      "text/plain": [
       "(a, 1)    False\n",
       "(b, 2)     True\n",
       "Name: col_2, dtype: bool"
      ]
     },
     "metadata": {},
     "output_type": "display_data"
    },
    {
     "data": {
      "text/plain": [
       "(a, 1)    False\n",
       "(b, 2)     True\n",
       "dtype: bool"
      ]
     },
     "metadata": {},
     "output_type": "display_data"
    },
    {
     "data": {
      "text/html": [
       "<div>\n",
       "<style scoped>\n",
       "    .dataframe tbody tr th:only-of-type {\n",
       "        vertical-align: middle;\n",
       "    }\n",
       "\n",
       "    .dataframe tbody tr th {\n",
       "        vertical-align: top;\n",
       "    }\n",
       "\n",
       "    .dataframe thead th {\n",
       "        text-align: right;\n",
       "    }\n",
       "</style>\n",
       "<table border=\"1\" class=\"dataframe\">\n",
       "  <thead>\n",
       "    <tr style=\"text-align: right;\">\n",
       "      <th></th>\n",
       "      <th>col_1</th>\n",
       "      <th>col_2</th>\n",
       "    </tr>\n",
       "  </thead>\n",
       "  <tbody>\n",
       "    <tr>\n",
       "      <th>(b, 2)</th>\n",
       "      <td>2</td>\n",
       "      <td>1</td>\n",
       "    </tr>\n",
       "  </tbody>\n",
       "</table>\n",
       "</div>"
      ],
      "text/plain": [
       "        col_1  col_2\n",
       "(b, 2)      2      1"
      ]
     },
     "metadata": {},
     "output_type": "display_data"
    }
   ],
   "source": [
    "# combine\n",
    "\n",
    "bool_1 = df['col_1'] == 2\n",
    "bool_2 = df['col_2'] == 1\n",
    "display(bool_1)\n",
    "display(bool_2)\n",
    "display(bool_1 & bool_2)\n",
    "display(df[bool_1 & bool_2])"
   ]
  },
  {
   "cell_type": "code",
   "execution_count": 27,
   "metadata": {
    "scrolled": true
   },
   "outputs": [
    {
     "data": {
      "text/html": [
       "<div>\n",
       "<style scoped>\n",
       "    .dataframe tbody tr th:only-of-type {\n",
       "        vertical-align: middle;\n",
       "    }\n",
       "\n",
       "    .dataframe tbody tr th {\n",
       "        vertical-align: top;\n",
       "    }\n",
       "\n",
       "    .dataframe thead th {\n",
       "        text-align: right;\n",
       "    }\n",
       "</style>\n",
       "<table border=\"1\" class=\"dataframe\">\n",
       "  <thead>\n",
       "    <tr style=\"text-align: right;\">\n",
       "      <th></th>\n",
       "      <th>AAA</th>\n",
       "      <th>BBB</th>\n",
       "      <th>CCC</th>\n",
       "    </tr>\n",
       "  </thead>\n",
       "  <tbody>\n",
       "    <tr>\n",
       "      <th>0</th>\n",
       "      <td>4</td>\n",
       "      <td>10</td>\n",
       "      <td>100</td>\n",
       "    </tr>\n",
       "    <tr>\n",
       "      <th>1</th>\n",
       "      <td>5</td>\n",
       "      <td>20</td>\n",
       "      <td>50</td>\n",
       "    </tr>\n",
       "    <tr>\n",
       "      <th>2</th>\n",
       "      <td>6</td>\n",
       "      <td>30</td>\n",
       "      <td>-30</td>\n",
       "    </tr>\n",
       "    <tr>\n",
       "      <th>3</th>\n",
       "      <td>7</td>\n",
       "      <td>40</td>\n",
       "      <td>-50</td>\n",
       "    </tr>\n",
       "  </tbody>\n",
       "</table>\n",
       "</div>"
      ],
      "text/plain": [
       "   AAA  BBB  CCC\n",
       "0    4   10  100\n",
       "1    5   20   50\n",
       "2    6   30  -30\n",
       "3    7   40  -50"
      ]
     },
     "metadata": {},
     "output_type": "display_data"
    },
    {
     "data": {
      "text/html": [
       "<div>\n",
       "<style scoped>\n",
       "    .dataframe tbody tr th:only-of-type {\n",
       "        vertical-align: middle;\n",
       "    }\n",
       "\n",
       "    .dataframe tbody tr th {\n",
       "        vertical-align: top;\n",
       "    }\n",
       "\n",
       "    .dataframe thead th {\n",
       "        text-align: right;\n",
       "    }\n",
       "</style>\n",
       "<table border=\"1\" class=\"dataframe\">\n",
       "  <thead>\n",
       "    <tr style=\"text-align: right;\">\n",
       "      <th></th>\n",
       "      <th>AAA</th>\n",
       "      <th>BBB</th>\n",
       "      <th>CCC</th>\n",
       "    </tr>\n",
       "  </thead>\n",
       "  <tbody>\n",
       "    <tr>\n",
       "      <th>0</th>\n",
       "      <td>4</td>\n",
       "      <td>10</td>\n",
       "      <td>100</td>\n",
       "    </tr>\n",
       "    <tr>\n",
       "      <th>2</th>\n",
       "      <td>6</td>\n",
       "      <td>30</td>\n",
       "      <td>-30</td>\n",
       "    </tr>\n",
       "  </tbody>\n",
       "</table>\n",
       "</div>"
      ],
      "text/plain": [
       "   AAA  BBB  CCC\n",
       "0    4   10  100\n",
       "2    6   30  -30"
      ]
     },
     "metadata": {},
     "output_type": "display_data"
    },
    {
     "data": {
      "text/plain": [
       "0    4\n",
       "1    5\n",
       "2    6\n",
       "3    7\n",
       "Name: AAA, dtype: int64"
      ]
     },
     "metadata": {},
     "output_type": "display_data"
    },
    {
     "data": {
      "text/html": [
       "<div>\n",
       "<style scoped>\n",
       "    .dataframe tbody tr th:only-of-type {\n",
       "        vertical-align: middle;\n",
       "    }\n",
       "\n",
       "    .dataframe tbody tr th {\n",
       "        vertical-align: top;\n",
       "    }\n",
       "\n",
       "    .dataframe thead th {\n",
       "        text-align: right;\n",
       "    }\n",
       "</style>\n",
       "<table border=\"1\" class=\"dataframe\">\n",
       "  <thead>\n",
       "    <tr style=\"text-align: right;\">\n",
       "      <th></th>\n",
       "      <th>AAA</th>\n",
       "      <th>BBB</th>\n",
       "      <th>CCC</th>\n",
       "    </tr>\n",
       "  </thead>\n",
       "  <tbody>\n",
       "    <tr>\n",
       "      <th>0</th>\n",
       "      <td>4</td>\n",
       "      <td>10</td>\n",
       "      <td>100</td>\n",
       "    </tr>\n",
       "    <tr>\n",
       "      <th>1</th>\n",
       "      <td>5</td>\n",
       "      <td>20</td>\n",
       "      <td>50</td>\n",
       "    </tr>\n",
       "    <tr>\n",
       "      <th>2</th>\n",
       "      <td>6</td>\n",
       "      <td>30</td>\n",
       "      <td>-30</td>\n",
       "    </tr>\n",
       "    <tr>\n",
       "      <th>3</th>\n",
       "      <td>7</td>\n",
       "      <td>40</td>\n",
       "      <td>-50</td>\n",
       "    </tr>\n",
       "  </tbody>\n",
       "</table>\n",
       "</div>"
      ],
      "text/plain": [
       "   AAA  BBB  CCC\n",
       "0    4   10  100\n",
       "1    5   20   50\n",
       "2    6   30  -30\n",
       "3    7   40  -50"
      ]
     },
     "metadata": {},
     "output_type": "display_data"
    },
    {
     "data": {
      "text/html": [
       "<div>\n",
       "<style scoped>\n",
       "    .dataframe tbody tr th:only-of-type {\n",
       "        vertical-align: middle;\n",
       "    }\n",
       "\n",
       "    .dataframe tbody tr th {\n",
       "        vertical-align: top;\n",
       "    }\n",
       "\n",
       "    .dataframe thead th {\n",
       "        text-align: right;\n",
       "    }\n",
       "</style>\n",
       "<table border=\"1\" class=\"dataframe\">\n",
       "  <thead>\n",
       "    <tr style=\"text-align: right;\">\n",
       "      <th></th>\n",
       "      <th>AAA</th>\n",
       "      <th>BBB</th>\n",
       "      <th>CCC</th>\n",
       "    </tr>\n",
       "  </thead>\n",
       "  <tbody>\n",
       "    <tr>\n",
       "      <th>0</th>\n",
       "      <td>1</td>\n",
       "      <td>10</td>\n",
       "      <td>100</td>\n",
       "    </tr>\n",
       "    <tr>\n",
       "      <th>1</th>\n",
       "      <td>1</td>\n",
       "      <td>20</td>\n",
       "      <td>50</td>\n",
       "    </tr>\n",
       "    <tr>\n",
       "      <th>2</th>\n",
       "      <td>1</td>\n",
       "      <td>30</td>\n",
       "      <td>-30</td>\n",
       "    </tr>\n",
       "    <tr>\n",
       "      <th>3</th>\n",
       "      <td>1</td>\n",
       "      <td>40</td>\n",
       "      <td>-50</td>\n",
       "    </tr>\n",
       "  </tbody>\n",
       "</table>\n",
       "</div>"
      ],
      "text/plain": [
       "   AAA  BBB  CCC\n",
       "0    1   10  100\n",
       "1    1   20   50\n",
       "2    1   30  -30\n",
       "3    1   40  -50"
      ]
     },
     "metadata": {},
     "output_type": "display_data"
    }
   ],
   "source": [
    "df = pd.DataFrame({'AAA': [4, 5, 6, 7],\n",
    "                   'BBB': [10, 20, 30, 40],\n",
    "                   'CCC': [100, 50, -30, -50]})\n",
    "display(df)\n",
    "\n",
    "display(df[(df.AAA <= 6) & (df.index.isin([0, 2, 4]))])\n",
    "\n",
    "display(df.loc[(df['BBB'] > 25) | (df['CCC'] >= -40), 'AAA'])\n",
    "display(df)\n",
    "\n",
    "df.loc[(df['BBB'] > 25) | (df['CCC'] >= -40), 'AAA'] = 1\n",
    "display(df)\n"
   ]
  },
  {
   "cell_type": "markdown",
   "metadata": {},
   "source": [
    "## Sampling"
   ]
  },
  {
   "cell_type": "code",
   "execution_count": 28,
   "metadata": {},
   "outputs": [
    {
     "data": {
      "text/html": [
       "<div>\n",
       "<style scoped>\n",
       "    .dataframe tbody tr th:only-of-type {\n",
       "        vertical-align: middle;\n",
       "    }\n",
       "\n",
       "    .dataframe tbody tr th {\n",
       "        vertical-align: top;\n",
       "    }\n",
       "\n",
       "    .dataframe thead th {\n",
       "        text-align: right;\n",
       "    }\n",
       "</style>\n",
       "<table border=\"1\" class=\"dataframe\">\n",
       "  <thead>\n",
       "    <tr style=\"text-align: right;\">\n",
       "      <th></th>\n",
       "      <th>AAA</th>\n",
       "      <th>BBB</th>\n",
       "      <th>CCC</th>\n",
       "    </tr>\n",
       "  </thead>\n",
       "  <tbody>\n",
       "    <tr>\n",
       "      <th>0</th>\n",
       "      <td>4</td>\n",
       "      <td>10</td>\n",
       "      <td>100</td>\n",
       "    </tr>\n",
       "    <tr>\n",
       "      <th>1</th>\n",
       "      <td>5</td>\n",
       "      <td>20</td>\n",
       "      <td>50</td>\n",
       "    </tr>\n",
       "    <tr>\n",
       "      <th>2</th>\n",
       "      <td>6</td>\n",
       "      <td>30</td>\n",
       "      <td>-30</td>\n",
       "    </tr>\n",
       "    <tr>\n",
       "      <th>3</th>\n",
       "      <td>7</td>\n",
       "      <td>40</td>\n",
       "      <td>-50</td>\n",
       "    </tr>\n",
       "  </tbody>\n",
       "</table>\n",
       "</div>"
      ],
      "text/plain": [
       "   AAA  BBB  CCC\n",
       "0    4   10  100\n",
       "1    5   20   50\n",
       "2    6   30  -30\n",
       "3    7   40  -50"
      ]
     },
     "metadata": {},
     "output_type": "display_data"
    },
    {
     "data": {
      "text/html": [
       "<div>\n",
       "<style scoped>\n",
       "    .dataframe tbody tr th:only-of-type {\n",
       "        vertical-align: middle;\n",
       "    }\n",
       "\n",
       "    .dataframe tbody tr th {\n",
       "        vertical-align: top;\n",
       "    }\n",
       "\n",
       "    .dataframe thead th {\n",
       "        text-align: right;\n",
       "    }\n",
       "</style>\n",
       "<table border=\"1\" class=\"dataframe\">\n",
       "  <thead>\n",
       "    <tr style=\"text-align: right;\">\n",
       "      <th></th>\n",
       "      <th>AAA</th>\n",
       "      <th>BBB</th>\n",
       "      <th>CCC</th>\n",
       "    </tr>\n",
       "  </thead>\n",
       "  <tbody>\n",
       "    <tr>\n",
       "      <th>2</th>\n",
       "      <td>6</td>\n",
       "      <td>30</td>\n",
       "      <td>-30</td>\n",
       "    </tr>\n",
       "    <tr>\n",
       "      <th>1</th>\n",
       "      <td>5</td>\n",
       "      <td>20</td>\n",
       "      <td>50</td>\n",
       "    </tr>\n",
       "  </tbody>\n",
       "</table>\n",
       "</div>"
      ],
      "text/plain": [
       "   AAA  BBB  CCC\n",
       "2    6   30  -30\n",
       "1    5   20   50"
      ]
     },
     "metadata": {},
     "output_type": "display_data"
    },
    {
     "data": {
      "text/html": [
       "<div>\n",
       "<style scoped>\n",
       "    .dataframe tbody tr th:only-of-type {\n",
       "        vertical-align: middle;\n",
       "    }\n",
       "\n",
       "    .dataframe tbody tr th {\n",
       "        vertical-align: top;\n",
       "    }\n",
       "\n",
       "    .dataframe thead th {\n",
       "        text-align: right;\n",
       "    }\n",
       "</style>\n",
       "<table border=\"1\" class=\"dataframe\">\n",
       "  <thead>\n",
       "    <tr style=\"text-align: right;\">\n",
       "      <th></th>\n",
       "      <th>BBB</th>\n",
       "      <th>CCC</th>\n",
       "    </tr>\n",
       "  </thead>\n",
       "  <tbody>\n",
       "    <tr>\n",
       "      <th>0</th>\n",
       "      <td>10</td>\n",
       "      <td>100</td>\n",
       "    </tr>\n",
       "    <tr>\n",
       "      <th>1</th>\n",
       "      <td>20</td>\n",
       "      <td>50</td>\n",
       "    </tr>\n",
       "    <tr>\n",
       "      <th>2</th>\n",
       "      <td>30</td>\n",
       "      <td>-30</td>\n",
       "    </tr>\n",
       "    <tr>\n",
       "      <th>3</th>\n",
       "      <td>40</td>\n",
       "      <td>-50</td>\n",
       "    </tr>\n",
       "  </tbody>\n",
       "</table>\n",
       "</div>"
      ],
      "text/plain": [
       "   BBB  CCC\n",
       "0   10  100\n",
       "1   20   50\n",
       "2   30  -30\n",
       "3   40  -50"
      ]
     },
     "metadata": {},
     "output_type": "display_data"
    }
   ],
   "source": [
    "df = pd.DataFrame({'AAA': [4, 5, 6, 7],\n",
    "                   'BBB': [10, 20, 30, 40],\n",
    "                   'CCC': [100, 50, -30, -50]})\n",
    "display(df)\n",
    "display(df.sample(n=2))\n",
    "display(df.sample(n=2, axis=1))"
   ]
  },
  {
   "cell_type": "markdown",
   "metadata": {},
   "source": [
    "# Merge / Join / Concat\n",
    "\n",
    "https://pandas.pydata.org/pandas-docs/stable/user_guide/merging.html\n",
    "\n",
    "- `.add()`\n",
    "- `.merge()`\n",
    "- `.join()`"
   ]
  },
  {
   "cell_type": "markdown",
   "metadata": {},
   "source": [
    "# Math\n",
    "\n",
    "https://pandas.pydata.org/pandas-docs/stable/reference/frame.html#computations-descriptive-stats\n"
   ]
  },
  {
   "cell_type": "markdown",
   "metadata": {},
   "source": [
    "## Unary Operation"
   ]
  },
  {
   "cell_type": "code",
   "execution_count": 29,
   "metadata": {},
   "outputs": [
    {
     "data": {
      "text/html": [
       "<div>\n",
       "<style scoped>\n",
       "    .dataframe tbody tr th:only-of-type {\n",
       "        vertical-align: middle;\n",
       "    }\n",
       "\n",
       "    .dataframe tbody tr th {\n",
       "        vertical-align: top;\n",
       "    }\n",
       "\n",
       "    .dataframe thead th {\n",
       "        text-align: right;\n",
       "    }\n",
       "</style>\n",
       "<table border=\"1\" class=\"dataframe\">\n",
       "  <thead>\n",
       "    <tr style=\"text-align: right;\">\n",
       "      <th></th>\n",
       "      <th>AAA</th>\n",
       "      <th>BBB</th>\n",
       "      <th>CCC</th>\n",
       "    </tr>\n",
       "  </thead>\n",
       "  <tbody>\n",
       "    <tr>\n",
       "      <th>0</th>\n",
       "      <td>4</td>\n",
       "      <td>10</td>\n",
       "      <td>100</td>\n",
       "    </tr>\n",
       "    <tr>\n",
       "      <th>1</th>\n",
       "      <td>5</td>\n",
       "      <td>20</td>\n",
       "      <td>50</td>\n",
       "    </tr>\n",
       "    <tr>\n",
       "      <th>2</th>\n",
       "      <td>6</td>\n",
       "      <td>30</td>\n",
       "      <td>-30</td>\n",
       "    </tr>\n",
       "    <tr>\n",
       "      <th>3</th>\n",
       "      <td>7</td>\n",
       "      <td>40</td>\n",
       "      <td>-50</td>\n",
       "    </tr>\n",
       "  </tbody>\n",
       "</table>\n",
       "</div>"
      ],
      "text/plain": [
       "   AAA  BBB  CCC\n",
       "0    4   10  100\n",
       "1    5   20   50\n",
       "2    6   30  -30\n",
       "3    7   40  -50"
      ]
     },
     "metadata": {},
     "output_type": "display_data"
    }
   ],
   "source": [
    "df = pd.DataFrame({'AAA': [4, 5, 6, 7],\n",
    "                   'BBB': [10, 20, 30, 40],\n",
    "                   'CCC': [100, 50, -30, -50]})\n",
    "display(df)"
   ]
  },
  {
   "cell_type": "markdown",
   "metadata": {},
   "source": [
    "### Series"
   ]
  },
  {
   "cell_type": "code",
   "execution_count": 30,
   "metadata": {},
   "outputs": [
    {
     "data": {
      "text/plain": [
       "22"
      ]
     },
     "metadata": {},
     "output_type": "display_data"
    },
    {
     "data": {
      "text/plain": [
       "7"
      ]
     },
     "metadata": {},
     "output_type": "display_data"
    },
    {
     "data": {
      "text/plain": [
       "5.5"
      ]
     },
     "metadata": {},
     "output_type": "display_data"
    },
    {
     "data": {
      "text/plain": [
       "7    1\n",
       "6    1\n",
       "5    1\n",
       "4    1\n",
       "Name: AAA, dtype: int64"
      ]
     },
     "metadata": {},
     "output_type": "display_data"
    }
   ],
   "source": [
    "display(sum(df['AAA'])) # == df['AAA'].sum()\n",
    "display(max(df['AAA'])) # == df['AAA'].max()\n",
    "display(df['AAA'].mean())\n",
    "display(df['AAA'].value_counts()) # series"
   ]
  },
  {
   "cell_type": "markdown",
   "metadata": {},
   "source": [
    "### DataFrame"
   ]
  },
  {
   "cell_type": "code",
   "execution_count": 31,
   "metadata": {},
   "outputs": [
    {
     "data": {
      "text/plain": [
       "AAA     22\n",
       "BBB    100\n",
       "CCC     70\n",
       "dtype: int64"
      ]
     },
     "metadata": {},
     "output_type": "display_data"
    },
    {
     "data": {
      "text/html": [
       "<div>\n",
       "<style scoped>\n",
       "    .dataframe tbody tr th:only-of-type {\n",
       "        vertical-align: middle;\n",
       "    }\n",
       "\n",
       "    .dataframe tbody tr th {\n",
       "        vertical-align: top;\n",
       "    }\n",
       "\n",
       "    .dataframe thead th {\n",
       "        text-align: right;\n",
       "    }\n",
       "</style>\n",
       "<table border=\"1\" class=\"dataframe\">\n",
       "  <thead>\n",
       "    <tr style=\"text-align: right;\">\n",
       "      <th></th>\n",
       "      <th>AAA</th>\n",
       "      <th>BBB</th>\n",
       "      <th>CCC</th>\n",
       "    </tr>\n",
       "  </thead>\n",
       "  <tbody>\n",
       "    <tr>\n",
       "      <th>0</th>\n",
       "      <td>8</td>\n",
       "      <td>20</td>\n",
       "      <td>200</td>\n",
       "    </tr>\n",
       "    <tr>\n",
       "      <th>1</th>\n",
       "      <td>10</td>\n",
       "      <td>40</td>\n",
       "      <td>100</td>\n",
       "    </tr>\n",
       "    <tr>\n",
       "      <th>2</th>\n",
       "      <td>12</td>\n",
       "      <td>60</td>\n",
       "      <td>-60</td>\n",
       "    </tr>\n",
       "    <tr>\n",
       "      <th>3</th>\n",
       "      <td>14</td>\n",
       "      <td>80</td>\n",
       "      <td>-100</td>\n",
       "    </tr>\n",
       "  </tbody>\n",
       "</table>\n",
       "</div>"
      ],
      "text/plain": [
       "   AAA  BBB  CCC\n",
       "0    8   20  200\n",
       "1   10   40  100\n",
       "2   12   60  -60\n",
       "3   14   80 -100"
      ]
     },
     "metadata": {},
     "output_type": "display_data"
    },
    {
     "data": {
      "text/html": [
       "<div>\n",
       "<style scoped>\n",
       "    .dataframe tbody tr th:only-of-type {\n",
       "        vertical-align: middle;\n",
       "    }\n",
       "\n",
       "    .dataframe tbody tr th {\n",
       "        vertical-align: top;\n",
       "    }\n",
       "\n",
       "    .dataframe thead th {\n",
       "        text-align: right;\n",
       "    }\n",
       "</style>\n",
       "<table border=\"1\" class=\"dataframe\">\n",
       "  <thead>\n",
       "    <tr style=\"text-align: right;\">\n",
       "      <th></th>\n",
       "      <th>AAA</th>\n",
       "      <th>BBB</th>\n",
       "      <th>CCC</th>\n",
       "    </tr>\n",
       "  </thead>\n",
       "  <tbody>\n",
       "    <tr>\n",
       "      <th>count</th>\n",
       "      <td>4.000000</td>\n",
       "      <td>4.000000</td>\n",
       "      <td>4.000000</td>\n",
       "    </tr>\n",
       "    <tr>\n",
       "      <th>mean</th>\n",
       "      <td>5.500000</td>\n",
       "      <td>25.000000</td>\n",
       "      <td>17.500000</td>\n",
       "    </tr>\n",
       "    <tr>\n",
       "      <th>std</th>\n",
       "      <td>1.290994</td>\n",
       "      <td>12.909944</td>\n",
       "      <td>69.940451</td>\n",
       "    </tr>\n",
       "    <tr>\n",
       "      <th>min</th>\n",
       "      <td>4.000000</td>\n",
       "      <td>10.000000</td>\n",
       "      <td>-50.000000</td>\n",
       "    </tr>\n",
       "    <tr>\n",
       "      <th>25%</th>\n",
       "      <td>4.750000</td>\n",
       "      <td>17.500000</td>\n",
       "      <td>-35.000000</td>\n",
       "    </tr>\n",
       "    <tr>\n",
       "      <th>50%</th>\n",
       "      <td>5.500000</td>\n",
       "      <td>25.000000</td>\n",
       "      <td>10.000000</td>\n",
       "    </tr>\n",
       "    <tr>\n",
       "      <th>75%</th>\n",
       "      <td>6.250000</td>\n",
       "      <td>32.500000</td>\n",
       "      <td>62.500000</td>\n",
       "    </tr>\n",
       "    <tr>\n",
       "      <th>max</th>\n",
       "      <td>7.000000</td>\n",
       "      <td>40.000000</td>\n",
       "      <td>100.000000</td>\n",
       "    </tr>\n",
       "  </tbody>\n",
       "</table>\n",
       "</div>"
      ],
      "text/plain": [
       "            AAA        BBB         CCC\n",
       "count  4.000000   4.000000    4.000000\n",
       "mean   5.500000  25.000000   17.500000\n",
       "std    1.290994  12.909944   69.940451\n",
       "min    4.000000  10.000000  -50.000000\n",
       "25%    4.750000  17.500000  -35.000000\n",
       "50%    5.500000  25.000000   10.000000\n",
       "75%    6.250000  32.500000   62.500000\n",
       "max    7.000000  40.000000  100.000000"
      ]
     },
     "metadata": {},
     "output_type": "display_data"
    }
   ],
   "source": [
    "display(df.sum()) # series\n",
    "display(df * 2) # dataframe\n",
    "display(df.describe()) # dataframe"
   ]
  },
  {
   "cell_type": "markdown",
   "metadata": {},
   "source": [
    "## Binary Operation"
   ]
  },
  {
   "cell_type": "code",
   "execution_count": 32,
   "metadata": {},
   "outputs": [
    {
     "data": {
      "text/html": [
       "<div>\n",
       "<style scoped>\n",
       "    .dataframe tbody tr th:only-of-type {\n",
       "        vertical-align: middle;\n",
       "    }\n",
       "\n",
       "    .dataframe tbody tr th {\n",
       "        vertical-align: top;\n",
       "    }\n",
       "\n",
       "    .dataframe thead th {\n",
       "        text-align: right;\n",
       "    }\n",
       "</style>\n",
       "<table border=\"1\" class=\"dataframe\">\n",
       "  <thead>\n",
       "    <tr style=\"text-align: right;\">\n",
       "      <th></th>\n",
       "      <th>AAA</th>\n",
       "      <th>BBB</th>\n",
       "      <th>CCC</th>\n",
       "    </tr>\n",
       "  </thead>\n",
       "  <tbody>\n",
       "    <tr>\n",
       "      <th>0</th>\n",
       "      <td>4</td>\n",
       "      <td>10</td>\n",
       "      <td>100</td>\n",
       "    </tr>\n",
       "    <tr>\n",
       "      <th>1</th>\n",
       "      <td>5</td>\n",
       "      <td>20</td>\n",
       "      <td>50</td>\n",
       "    </tr>\n",
       "    <tr>\n",
       "      <th>2</th>\n",
       "      <td>6</td>\n",
       "      <td>30</td>\n",
       "      <td>-30</td>\n",
       "    </tr>\n",
       "    <tr>\n",
       "      <th>3</th>\n",
       "      <td>7</td>\n",
       "      <td>40</td>\n",
       "      <td>-50</td>\n",
       "    </tr>\n",
       "  </tbody>\n",
       "</table>\n",
       "</div>"
      ],
      "text/plain": [
       "   AAA  BBB  CCC\n",
       "0    4   10  100\n",
       "1    5   20   50\n",
       "2    6   30  -30\n",
       "3    7   40  -50"
      ]
     },
     "metadata": {},
     "output_type": "display_data"
    }
   ],
   "source": [
    "df = pd.DataFrame({'AAA': [4, 5, 6, 7],\n",
    "                   'BBB': [10, 20, 30, 40],\n",
    "                   'CCC': [100, 50, -30, -50]})\n",
    "display(df)"
   ]
  },
  {
   "cell_type": "markdown",
   "metadata": {},
   "source": [
    "### Series"
   ]
  },
  {
   "cell_type": "code",
   "execution_count": 33,
   "metadata": {},
   "outputs": [
    {
     "data": {
      "text/plain": [
       "0    14\n",
       "1    25\n",
       "2    36\n",
       "3    47\n",
       "dtype: int64"
      ]
     },
     "metadata": {},
     "output_type": "display_data"
    },
    {
     "data": {
      "text/plain": [
       "0     40\n",
       "1    100\n",
       "2    180\n",
       "3    280\n",
       "dtype: int64"
      ]
     },
     "metadata": {},
     "output_type": "display_data"
    },
    {
     "data": {
      "text/plain": [
       "0.9759000729485331"
      ]
     },
     "metadata": {},
     "output_type": "display_data"
    }
   ],
   "source": [
    "display(df['AAA'] + df['BBB'])\n",
    "display(df['AAA'] * df['BBB'])\n",
    "\n",
    "import scipy.spatial.distance as distance\n",
    "display(1 - distance.cosine(df['AAA'], df['BBB']))"
   ]
  },
  {
   "cell_type": "markdown",
   "metadata": {},
   "source": [
    "### DataFrame"
   ]
  },
  {
   "cell_type": "code",
   "execution_count": 34,
   "metadata": {},
   "outputs": [
    {
     "data": {
      "text/html": [
       "<div>\n",
       "<style scoped>\n",
       "    .dataframe tbody tr th:only-of-type {\n",
       "        vertical-align: middle;\n",
       "    }\n",
       "\n",
       "    .dataframe tbody tr th {\n",
       "        vertical-align: top;\n",
       "    }\n",
       "\n",
       "    .dataframe thead th {\n",
       "        text-align: right;\n",
       "    }\n",
       "</style>\n",
       "<table border=\"1\" class=\"dataframe\">\n",
       "  <thead>\n",
       "    <tr style=\"text-align: right;\">\n",
       "      <th></th>\n",
       "      <th>AAA</th>\n",
       "      <th>BBB</th>\n",
       "      <th>CCC</th>\n",
       "    </tr>\n",
       "  </thead>\n",
       "  <tbody>\n",
       "    <tr>\n",
       "      <th>0</th>\n",
       "      <td>8</td>\n",
       "      <td>20</td>\n",
       "      <td>200</td>\n",
       "    </tr>\n",
       "    <tr>\n",
       "      <th>1</th>\n",
       "      <td>10</td>\n",
       "      <td>40</td>\n",
       "      <td>100</td>\n",
       "    </tr>\n",
       "    <tr>\n",
       "      <th>2</th>\n",
       "      <td>12</td>\n",
       "      <td>60</td>\n",
       "      <td>-60</td>\n",
       "    </tr>\n",
       "    <tr>\n",
       "      <th>3</th>\n",
       "      <td>14</td>\n",
       "      <td>80</td>\n",
       "      <td>-100</td>\n",
       "    </tr>\n",
       "  </tbody>\n",
       "</table>\n",
       "</div>"
      ],
      "text/plain": [
       "   AAA  BBB  CCC\n",
       "0    8   20  200\n",
       "1   10   40  100\n",
       "2   12   60  -60\n",
       "3   14   80 -100"
      ]
     },
     "metadata": {},
     "output_type": "display_data"
    },
    {
     "data": {
      "text/html": [
       "<div>\n",
       "<style scoped>\n",
       "    .dataframe tbody tr th:only-of-type {\n",
       "        vertical-align: middle;\n",
       "    }\n",
       "\n",
       "    .dataframe tbody tr th {\n",
       "        vertical-align: top;\n",
       "    }\n",
       "\n",
       "    .dataframe thead th {\n",
       "        text-align: right;\n",
       "    }\n",
       "</style>\n",
       "<table border=\"1\" class=\"dataframe\">\n",
       "  <thead>\n",
       "    <tr style=\"text-align: right;\">\n",
       "      <th></th>\n",
       "      <th>AAA</th>\n",
       "      <th>BBB</th>\n",
       "      <th>CCC</th>\n",
       "    </tr>\n",
       "  </thead>\n",
       "  <tbody>\n",
       "    <tr>\n",
       "      <th>0</th>\n",
       "      <td>1.0</td>\n",
       "      <td>1.0</td>\n",
       "      <td>1.0</td>\n",
       "    </tr>\n",
       "    <tr>\n",
       "      <th>1</th>\n",
       "      <td>1.0</td>\n",
       "      <td>1.0</td>\n",
       "      <td>1.0</td>\n",
       "    </tr>\n",
       "    <tr>\n",
       "      <th>2</th>\n",
       "      <td>1.0</td>\n",
       "      <td>1.0</td>\n",
       "      <td>1.0</td>\n",
       "    </tr>\n",
       "    <tr>\n",
       "      <th>3</th>\n",
       "      <td>1.0</td>\n",
       "      <td>1.0</td>\n",
       "      <td>1.0</td>\n",
       "    </tr>\n",
       "  </tbody>\n",
       "</table>\n",
       "</div>"
      ],
      "text/plain": [
       "   AAA  BBB  CCC\n",
       "0  1.0  1.0  1.0\n",
       "1  1.0  1.0  1.0\n",
       "2  1.0  1.0  1.0\n",
       "3  1.0  1.0  1.0"
      ]
     },
     "metadata": {},
     "output_type": "display_data"
    },
    {
     "data": {
      "text/html": [
       "<div>\n",
       "<style scoped>\n",
       "    .dataframe tbody tr th:only-of-type {\n",
       "        vertical-align: middle;\n",
       "    }\n",
       "\n",
       "    .dataframe tbody tr th {\n",
       "        vertical-align: top;\n",
       "    }\n",
       "\n",
       "    .dataframe thead th {\n",
       "        text-align: right;\n",
       "    }\n",
       "</style>\n",
       "<table border=\"1\" class=\"dataframe\">\n",
       "  <thead>\n",
       "    <tr style=\"text-align: right;\">\n",
       "      <th></th>\n",
       "      <th>AAA</th>\n",
       "      <th>BBB</th>\n",
       "      <th>CCC</th>\n",
       "    </tr>\n",
       "  </thead>\n",
       "  <tbody>\n",
       "    <tr>\n",
       "      <th>AAA</th>\n",
       "      <td>126</td>\n",
       "      <td>600</td>\n",
       "      <td>120</td>\n",
       "    </tr>\n",
       "    <tr>\n",
       "      <th>BBB</th>\n",
       "      <td>600</td>\n",
       "      <td>3000</td>\n",
       "      <td>-900</td>\n",
       "    </tr>\n",
       "    <tr>\n",
       "      <th>CCC</th>\n",
       "      <td>120</td>\n",
       "      <td>-900</td>\n",
       "      <td>15900</td>\n",
       "    </tr>\n",
       "  </tbody>\n",
       "</table>\n",
       "</div>"
      ],
      "text/plain": [
       "     AAA   BBB    CCC\n",
       "AAA  126   600    120\n",
       "BBB  600  3000   -900\n",
       "CCC  120  -900  15900"
      ]
     },
     "metadata": {},
     "output_type": "display_data"
    }
   ],
   "source": [
    "display(df + df)\n",
    "display(df / df)\n",
    "display(df.T @ df) # Matrix dot product"
   ]
  },
  {
   "cell_type": "markdown",
   "metadata": {},
   "source": [
    "# Iteration\n",
    "\n",
    "\n",
    "do not have to convert to list/dict, Pandas can do iteration - performance"
   ]
  },
  {
   "cell_type": "code",
   "execution_count": 35,
   "metadata": {},
   "outputs": [
    {
     "data": {
      "text/html": [
       "<div>\n",
       "<style scoped>\n",
       "    .dataframe tbody tr th:only-of-type {\n",
       "        vertical-align: middle;\n",
       "    }\n",
       "\n",
       "    .dataframe tbody tr th {\n",
       "        vertical-align: top;\n",
       "    }\n",
       "\n",
       "    .dataframe thead th {\n",
       "        text-align: right;\n",
       "    }\n",
       "</style>\n",
       "<table border=\"1\" class=\"dataframe\">\n",
       "  <thead>\n",
       "    <tr style=\"text-align: right;\">\n",
       "      <th></th>\n",
       "      <th>AAA</th>\n",
       "      <th>BBB</th>\n",
       "      <th>CCC</th>\n",
       "    </tr>\n",
       "  </thead>\n",
       "  <tbody>\n",
       "    <tr>\n",
       "      <th>0</th>\n",
       "      <td>4</td>\n",
       "      <td>10</td>\n",
       "      <td>100</td>\n",
       "    </tr>\n",
       "    <tr>\n",
       "      <th>1</th>\n",
       "      <td>5</td>\n",
       "      <td>20</td>\n",
       "      <td>50</td>\n",
       "    </tr>\n",
       "    <tr>\n",
       "      <th>2</th>\n",
       "      <td>6</td>\n",
       "      <td>30</td>\n",
       "      <td>-30</td>\n",
       "    </tr>\n",
       "    <tr>\n",
       "      <th>3</th>\n",
       "      <td>7</td>\n",
       "      <td>40</td>\n",
       "      <td>-50</td>\n",
       "    </tr>\n",
       "  </tbody>\n",
       "</table>\n",
       "</div>"
      ],
      "text/plain": [
       "   AAA  BBB  CCC\n",
       "0    4   10  100\n",
       "1    5   20   50\n",
       "2    6   30  -30\n",
       "3    7   40  -50"
      ]
     },
     "metadata": {},
     "output_type": "display_data"
    }
   ],
   "source": [
    "df = pd.DataFrame({'AAA': [4, 5, 6, 7],\n",
    "                   'BBB': [10, 20, 30, 40],\n",
    "                   'CCC': [100, 50, -30, -50]})\n",
    "display(df)"
   ]
  },
  {
   "cell_type": "markdown",
   "metadata": {},
   "source": [
    "## Along axis\n",
    "\n",
    "- `.iteritems()`\n",
    "- `.iterrows()`\n",
    "- `.itertuples()`"
   ]
  },
  {
   "cell_type": "code",
   "execution_count": 36,
   "metadata": {},
   "outputs": [
    {
     "name": "stdout",
     "output_type": "stream",
     "text": [
      "AAA\n",
      "BBB\n",
      "CCC\n"
     ]
    }
   ],
   "source": [
    "for col in df:\n",
    "    print(col)"
   ]
  },
  {
   "cell_type": "code",
   "execution_count": 37,
   "metadata": {},
   "outputs": [
    {
     "name": "stdout",
     "output_type": "stream",
     "text": [
      "AAA\n",
      "0    4\n",
      "1    5\n",
      "2    6\n",
      "3    7\n",
      "Name: AAA, dtype: int64\n",
      "BBB\n",
      "0    10\n",
      "1    20\n",
      "2    30\n",
      "3    40\n",
      "Name: BBB, dtype: int64\n",
      "CCC\n",
      "0    100\n",
      "1     50\n",
      "2    -30\n",
      "3    -50\n",
      "Name: CCC, dtype: int64\n"
     ]
    }
   ],
   "source": [
    "for columns, series in df.iteritems():\n",
    "    print(columns)\n",
    "    print(series)"
   ]
  },
  {
   "cell_type": "code",
   "execution_count": 38,
   "metadata": {},
   "outputs": [
    {
     "name": "stdout",
     "output_type": "stream",
     "text": [
      "0\n",
      "AAA      4\n",
      "BBB     10\n",
      "CCC    100\n",
      "Name: 0, dtype: int64\n",
      "1\n",
      "AAA     5\n",
      "BBB    20\n",
      "CCC    50\n",
      "Name: 1, dtype: int64\n",
      "2\n",
      "AAA     6\n",
      "BBB    30\n",
      "CCC   -30\n",
      "Name: 2, dtype: int64\n",
      "3\n",
      "AAA     7\n",
      "BBB    40\n",
      "CCC   -50\n",
      "Name: 3, dtype: int64\n",
      "Pandas(Index=0, AAA=4, BBB=10, CCC=100)\n",
      "Pandas(Index=1, AAA=5, BBB=20, CCC=50)\n",
      "Pandas(Index=2, AAA=6, BBB=30, CCC=-30)\n",
      "Pandas(Index=3, AAA=7, BBB=40, CCC=-50)\n"
     ]
    }
   ],
   "source": [
    "for index, series in df.iterrows():\n",
    "    print(index)\n",
    "    print(series)\n",
    "\n",
    "for row in df.itertuples():\n",
    "    print(row)"
   ]
  },
  {
   "cell_type": "markdown",
   "metadata": {},
   "source": [
    "## Apply / Map"
   ]
  },
  {
   "cell_type": "markdown",
   "metadata": {},
   "source": [
    "https://stackoverflow.com/questions/19798153/difference-between-map-applymap-and-apply-methods-in-pandas\n",
    "\n",
    "- `map` works element-wise on a Series.\n",
    "- `applymap` works element-wise on a DataFrame\n",
    "- `apply` works on a row / column basis of a DataFrame (`df.apply()`), also works on series(`sr.apply()`)\n",
    "    - If func returns a scalar or a list, `apply(func)` returns a Series.\n",
    "    - If func returns a Series, `apply(func)` returns a DataFrame.\n",
    "\n",
    "\n",
    "- https://pandas.pydata.org/pandas-docs/stable/reference/api/pandas.Series.map.html\n",
    "- https://pandas.pydata.org/pandas-docs/stable/reference/api/pandas.DataFrame.applymap.html\n",
    "- https://pandas.pydata.org/pandas-docs/stable/reference/api/pandas.DataFrame.apply.html\n",
    "- https://pandas.pydata.org/pandas-docs/stable/reference/api/pandas.Series.apply.html\n"
   ]
  },
  {
   "cell_type": "code",
   "execution_count": 39,
   "metadata": {},
   "outputs": [
    {
     "data": {
      "text/html": [
       "<div>\n",
       "<style scoped>\n",
       "    .dataframe tbody tr th:only-of-type {\n",
       "        vertical-align: middle;\n",
       "    }\n",
       "\n",
       "    .dataframe tbody tr th {\n",
       "        vertical-align: top;\n",
       "    }\n",
       "\n",
       "    .dataframe thead th {\n",
       "        text-align: right;\n",
       "    }\n",
       "</style>\n",
       "<table border=\"1\" class=\"dataframe\">\n",
       "  <thead>\n",
       "    <tr style=\"text-align: right;\">\n",
       "      <th></th>\n",
       "      <th>AAA</th>\n",
       "      <th>BBB</th>\n",
       "      <th>CCC</th>\n",
       "    </tr>\n",
       "  </thead>\n",
       "  <tbody>\n",
       "    <tr>\n",
       "      <th>0</th>\n",
       "      <td>4</td>\n",
       "      <td>10</td>\n",
       "      <td>100</td>\n",
       "    </tr>\n",
       "    <tr>\n",
       "      <th>1</th>\n",
       "      <td>5</td>\n",
       "      <td>20</td>\n",
       "      <td>50</td>\n",
       "    </tr>\n",
       "    <tr>\n",
       "      <th>2</th>\n",
       "      <td>6</td>\n",
       "      <td>30</td>\n",
       "      <td>-30</td>\n",
       "    </tr>\n",
       "    <tr>\n",
       "      <th>3</th>\n",
       "      <td>7</td>\n",
       "      <td>40</td>\n",
       "      <td>-50</td>\n",
       "    </tr>\n",
       "  </tbody>\n",
       "</table>\n",
       "</div>"
      ],
      "text/plain": [
       "   AAA  BBB  CCC\n",
       "0    4   10  100\n",
       "1    5   20   50\n",
       "2    6   30  -30\n",
       "3    7   40  -50"
      ]
     },
     "metadata": {},
     "output_type": "display_data"
    },
    {
     "data": {
      "text/plain": [
       "0    2.000000\n",
       "1    2.236068\n",
       "2    2.449490\n",
       "3    2.645751\n",
       "Name: AAA, dtype: float64"
      ]
     },
     "metadata": {},
     "output_type": "display_data"
    },
    {
     "data": {
      "text/html": [
       "<div>\n",
       "<style scoped>\n",
       "    .dataframe tbody tr th:only-of-type {\n",
       "        vertical-align: middle;\n",
       "    }\n",
       "\n",
       "    .dataframe tbody tr th {\n",
       "        vertical-align: top;\n",
       "    }\n",
       "\n",
       "    .dataframe thead th {\n",
       "        text-align: right;\n",
       "    }\n",
       "</style>\n",
       "<table border=\"1\" class=\"dataframe\">\n",
       "  <thead>\n",
       "    <tr style=\"text-align: right;\">\n",
       "      <th></th>\n",
       "      <th>AAA</th>\n",
       "      <th>BBB</th>\n",
       "      <th>CCC</th>\n",
       "    </tr>\n",
       "  </thead>\n",
       "  <tbody>\n",
       "    <tr>\n",
       "      <th>0</th>\n",
       "      <td>2.000000</td>\n",
       "      <td>3.162278</td>\n",
       "      <td>10.000000</td>\n",
       "    </tr>\n",
       "    <tr>\n",
       "      <th>1</th>\n",
       "      <td>2.236068</td>\n",
       "      <td>4.472136</td>\n",
       "      <td>7.071068</td>\n",
       "    </tr>\n",
       "    <tr>\n",
       "      <th>2</th>\n",
       "      <td>2.449490</td>\n",
       "      <td>5.477226</td>\n",
       "      <td>NaN</td>\n",
       "    </tr>\n",
       "    <tr>\n",
       "      <th>3</th>\n",
       "      <td>2.645751</td>\n",
       "      <td>6.324555</td>\n",
       "      <td>NaN</td>\n",
       "    </tr>\n",
       "  </tbody>\n",
       "</table>\n",
       "</div>"
      ],
      "text/plain": [
       "        AAA       BBB        CCC\n",
       "0  2.000000  3.162278  10.000000\n",
       "1  2.236068  4.472136   7.071068\n",
       "2  2.449490  5.477226        NaN\n",
       "3  2.645751  6.324555        NaN"
      ]
     },
     "metadata": {},
     "output_type": "display_data"
    }
   ],
   "source": [
    "import math\n",
    "\n",
    "df = pd.DataFrame({'AAA': [4, 5, 6, 7],\n",
    "                   'BBB': [10, 20, 30, 40],\n",
    "                   'CCC': [100, 50, -30, -50]})\n",
    "display(df)\n",
    "display(df['AAA'].apply(math.sqrt))\n",
    "display(df.apply(np.sqrt, axis=0))"
   ]
  },
  {
   "cell_type": "code",
   "execution_count": 40,
   "metadata": {},
   "outputs": [
    {
     "data": {
      "text/html": [
       "<div>\n",
       "<style scoped>\n",
       "    .dataframe tbody tr th:only-of-type {\n",
       "        vertical-align: middle;\n",
       "    }\n",
       "\n",
       "    .dataframe tbody tr th {\n",
       "        vertical-align: top;\n",
       "    }\n",
       "\n",
       "    .dataframe thead th {\n",
       "        text-align: right;\n",
       "    }\n",
       "</style>\n",
       "<table border=\"1\" class=\"dataframe\">\n",
       "  <thead>\n",
       "    <tr style=\"text-align: right;\">\n",
       "      <th></th>\n",
       "      <th>AAA</th>\n",
       "      <th>BBB</th>\n",
       "      <th>CCC</th>\n",
       "    </tr>\n",
       "  </thead>\n",
       "  <tbody>\n",
       "    <tr>\n",
       "      <th>0</th>\n",
       "      <td>4</td>\n",
       "      <td>10</td>\n",
       "      <td>100</td>\n",
       "    </tr>\n",
       "    <tr>\n",
       "      <th>1</th>\n",
       "      <td>5</td>\n",
       "      <td>20</td>\n",
       "      <td>50</td>\n",
       "    </tr>\n",
       "    <tr>\n",
       "      <th>2</th>\n",
       "      <td>6</td>\n",
       "      <td>30</td>\n",
       "      <td>-30</td>\n",
       "    </tr>\n",
       "    <tr>\n",
       "      <th>3</th>\n",
       "      <td>7</td>\n",
       "      <td>40</td>\n",
       "      <td>-50</td>\n",
       "    </tr>\n",
       "  </tbody>\n",
       "</table>\n",
       "</div>"
      ],
      "text/plain": [
       "   AAA  BBB  CCC\n",
       "0    4   10  100\n",
       "1    5   20   50\n",
       "2    6   30  -30\n",
       "3    7   40  -50"
      ]
     },
     "metadata": {},
     "output_type": "display_data"
    },
    {
     "data": {
      "text/html": [
       "<div>\n",
       "<style scoped>\n",
       "    .dataframe tbody tr th:only-of-type {\n",
       "        vertical-align: middle;\n",
       "    }\n",
       "\n",
       "    .dataframe tbody tr th {\n",
       "        vertical-align: top;\n",
       "    }\n",
       "\n",
       "    .dataframe thead th {\n",
       "        text-align: right;\n",
       "    }\n",
       "</style>\n",
       "<table border=\"1\" class=\"dataframe\">\n",
       "  <thead>\n",
       "    <tr style=\"text-align: right;\">\n",
       "      <th></th>\n",
       "      <th>0</th>\n",
       "      <th>1</th>\n",
       "      <th>2</th>\n",
       "      <th>3</th>\n",
       "      <th>4</th>\n",
       "    </tr>\n",
       "  </thead>\n",
       "  <tbody>\n",
       "    <tr>\n",
       "      <th>0</th>\n",
       "      <td>4</td>\n",
       "      <td>4</td>\n",
       "      <td>4</td>\n",
       "      <td>4</td>\n",
       "      <td>4</td>\n",
       "    </tr>\n",
       "    <tr>\n",
       "      <th>1</th>\n",
       "      <td>5</td>\n",
       "      <td>5</td>\n",
       "      <td>5</td>\n",
       "      <td>5</td>\n",
       "      <td>5</td>\n",
       "    </tr>\n",
       "    <tr>\n",
       "      <th>2</th>\n",
       "      <td>6</td>\n",
       "      <td>6</td>\n",
       "      <td>6</td>\n",
       "      <td>6</td>\n",
       "      <td>6</td>\n",
       "    </tr>\n",
       "    <tr>\n",
       "      <th>3</th>\n",
       "      <td>7</td>\n",
       "      <td>7</td>\n",
       "      <td>7</td>\n",
       "      <td>7</td>\n",
       "      <td>7</td>\n",
       "    </tr>\n",
       "  </tbody>\n",
       "</table>\n",
       "</div>"
      ],
      "text/plain": [
       "   0  1  2  3  4\n",
       "0  4  4  4  4  4\n",
       "1  5  5  5  5  5\n",
       "2  6  6  6  6  6\n",
       "3  7  7  7  7  7"
      ]
     },
     "metadata": {},
     "output_type": "display_data"
    },
    {
     "data": {
      "text/plain": [
       "AAA      5\n",
       "BBB     11\n",
       "CCC    101\n",
       "dtype: int64"
      ]
     },
     "metadata": {},
     "output_type": "display_data"
    },
    {
     "data": {
      "text/html": [
       "<div>\n",
       "<style scoped>\n",
       "    .dataframe tbody tr th:only-of-type {\n",
       "        vertical-align: middle;\n",
       "    }\n",
       "\n",
       "    .dataframe tbody tr th {\n",
       "        vertical-align: top;\n",
       "    }\n",
       "\n",
       "    .dataframe thead th {\n",
       "        text-align: right;\n",
       "    }\n",
       "</style>\n",
       "<table border=\"1\" class=\"dataframe\">\n",
       "  <thead>\n",
       "    <tr style=\"text-align: right;\">\n",
       "      <th></th>\n",
       "      <th>AAA</th>\n",
       "      <th>BBB</th>\n",
       "      <th>CCC</th>\n",
       "    </tr>\n",
       "  </thead>\n",
       "  <tbody>\n",
       "    <tr>\n",
       "      <th>0</th>\n",
       "      <td>4</td>\n",
       "      <td>10</td>\n",
       "      <td>100</td>\n",
       "    </tr>\n",
       "    <tr>\n",
       "      <th>1</th>\n",
       "      <td>5</td>\n",
       "      <td>20</td>\n",
       "      <td>50</td>\n",
       "    </tr>\n",
       "    <tr>\n",
       "      <th>2</th>\n",
       "      <td>6</td>\n",
       "      <td>30</td>\n",
       "      <td>-30</td>\n",
       "    </tr>\n",
       "    <tr>\n",
       "      <th>3</th>\n",
       "      <td>7</td>\n",
       "      <td>40</td>\n",
       "      <td>-50</td>\n",
       "    </tr>\n",
       "  </tbody>\n",
       "</table>\n",
       "</div>"
      ],
      "text/plain": [
       "   AAA  BBB  CCC\n",
       "0    4   10  100\n",
       "1    5   20   50\n",
       "2    6   30  -30\n",
       "3    7   40  -50"
      ]
     },
     "metadata": {},
     "output_type": "display_data"
    },
    {
     "data": {
      "text/plain": [
       "0    5\n",
       "1    6\n",
       "2    7\n",
       "3    8\n",
       "dtype: int64"
      ]
     },
     "metadata": {},
     "output_type": "display_data"
    },
    {
     "data": {
      "text/plain": [
       "0    14\n",
       "1    25\n",
       "2    36\n",
       "3    47\n",
       "dtype: int64"
      ]
     },
     "metadata": {},
     "output_type": "display_data"
    },
    {
     "data": {
      "text/plain": [
       "0    100\n",
       "1     50\n",
       "2     30\n",
       "3     40\n",
       "dtype: int64"
      ]
     },
     "metadata": {},
     "output_type": "display_data"
    }
   ],
   "source": [
    "# apply + lambda\n",
    "display(df)\n",
    "display(df['AAA'].apply(lambda x: pd.Series([x] * 5)))\n",
    "display(df.apply(lambda x: x.loc[0] + 1, axis=0)) # index (row), axis=0\n",
    "display(df.apply(lambda x: x, axis=1)) # column, axis=1\n",
    "display(df.apply(lambda x: x.loc['AAA'] + 1, axis=1)) # column\n",
    "display(df.apply(lambda x: x.loc['AAA'] + x.loc['BBB'], axis=1)) # multi-columns, same as: df['AAA'] + df['BBB']\n",
    "display(df.apply(lambda x: max([x['BBB'], x['CCC']]), axis=1))"
   ]
  },
  {
   "cell_type": "code",
   "execution_count": 41,
   "metadata": {},
   "outputs": [
    {
     "data": {
      "text/html": [
       "<div>\n",
       "<style scoped>\n",
       "    .dataframe tbody tr th:only-of-type {\n",
       "        vertical-align: middle;\n",
       "    }\n",
       "\n",
       "    .dataframe tbody tr th {\n",
       "        vertical-align: top;\n",
       "    }\n",
       "\n",
       "    .dataframe thead th {\n",
       "        text-align: right;\n",
       "    }\n",
       "</style>\n",
       "<table border=\"1\" class=\"dataframe\">\n",
       "  <thead>\n",
       "    <tr style=\"text-align: right;\">\n",
       "      <th></th>\n",
       "      <th>AAA</th>\n",
       "      <th>BBB</th>\n",
       "      <th>CCC</th>\n",
       "    </tr>\n",
       "  </thead>\n",
       "  <tbody>\n",
       "    <tr>\n",
       "      <th>0</th>\n",
       "      <td>4</td>\n",
       "      <td>10</td>\n",
       "      <td>100</td>\n",
       "    </tr>\n",
       "    <tr>\n",
       "      <th>1</th>\n",
       "      <td>5</td>\n",
       "      <td>20</td>\n",
       "      <td>50</td>\n",
       "    </tr>\n",
       "    <tr>\n",
       "      <th>2</th>\n",
       "      <td>6</td>\n",
       "      <td>30</td>\n",
       "      <td>-30</td>\n",
       "    </tr>\n",
       "    <tr>\n",
       "      <th>3</th>\n",
       "      <td>7</td>\n",
       "      <td>40</td>\n",
       "      <td>-50</td>\n",
       "    </tr>\n",
       "  </tbody>\n",
       "</table>\n",
       "</div>"
      ],
      "text/plain": [
       "   AAA  BBB  CCC\n",
       "0    4   10  100\n",
       "1    5   20   50\n",
       "2    6   30  -30\n",
       "3    7   40  -50"
      ]
     },
     "metadata": {},
     "output_type": "display_data"
    },
    {
     "data": {
      "text/html": [
       "<div>\n",
       "<style scoped>\n",
       "    .dataframe tbody tr th:only-of-type {\n",
       "        vertical-align: middle;\n",
       "    }\n",
       "\n",
       "    .dataframe tbody tr th {\n",
       "        vertical-align: top;\n",
       "    }\n",
       "\n",
       "    .dataframe thead th {\n",
       "        text-align: right;\n",
       "    }\n",
       "</style>\n",
       "<table border=\"1\" class=\"dataframe\">\n",
       "  <thead>\n",
       "    <tr style=\"text-align: right;\">\n",
       "      <th></th>\n",
       "      <th>AAA</th>\n",
       "      <th>BBB</th>\n",
       "      <th>CCC</th>\n",
       "    </tr>\n",
       "  </thead>\n",
       "  <tbody>\n",
       "    <tr>\n",
       "      <th>0</th>\n",
       "      <td>4</td>\n",
       "      <td>10</td>\n",
       "      <td>1.0</td>\n",
       "    </tr>\n",
       "    <tr>\n",
       "      <th>1</th>\n",
       "      <td>5</td>\n",
       "      <td>20</td>\n",
       "      <td>0.5</td>\n",
       "    </tr>\n",
       "    <tr>\n",
       "      <th>2</th>\n",
       "      <td>6</td>\n",
       "      <td>30</td>\n",
       "      <td>-0.3</td>\n",
       "    </tr>\n",
       "    <tr>\n",
       "      <th>3</th>\n",
       "      <td>7</td>\n",
       "      <td>40</td>\n",
       "      <td>-0.5</td>\n",
       "    </tr>\n",
       "  </tbody>\n",
       "</table>\n",
       "</div>"
      ],
      "text/plain": [
       "   AAA  BBB  CCC\n",
       "0    4   10  1.0\n",
       "1    5   20  0.5\n",
       "2    6   30 -0.3\n",
       "3    7   40 -0.5"
      ]
     },
     "metadata": {},
     "output_type": "display_data"
    }
   ],
   "source": [
    "# Normalize\n",
    "\n",
    "df = pd.DataFrame({'AAA': [4, 5, 6, 7],\n",
    "                   'BBB': [10, 20, 30, 40],\n",
    "                   'CCC': [100, 50, -30, -50]})\n",
    "display(df)\n",
    "df['CCC'] = df['CCC'].apply(lambda x: x/max(df['CCC'])) \n",
    "display(df)"
   ]
  },
  {
   "cell_type": "markdown",
   "metadata": {},
   "source": [
    "### Apply with Progress Bar"
   ]
  },
  {
   "cell_type": "code",
   "execution_count": 42,
   "metadata": {},
   "outputs": [
    {
     "name": "stderr",
     "output_type": "stream",
     "text": [
      "100%|██████████| 4/4 [00:00<00:00, 1426.63it/s]\n"
     ]
    },
    {
     "data": {
      "text/plain": [
       "0    10.0\n",
       "1    20.0\n",
       "2    30.0\n",
       "3    40.0\n",
       "dtype: float64"
      ]
     },
     "execution_count": 42,
     "metadata": {},
     "output_type": "execute_result"
    }
   ],
   "source": [
    "from tqdm import tqdm\n",
    "\n",
    "tqdm.pandas()\n",
    "\n",
    "df.progress_apply(lambda x: max([x['BBB'], x['CCC']]), axis=1)"
   ]
  },
  {
   "cell_type": "code",
   "execution_count": 43,
   "metadata": {},
   "outputs": [
    {
     "name": "stderr",
     "output_type": "stream",
     "text": [
      "/root/anaconda3/lib/python3.7/site-packages/tqdm/autonotebook/__init__.py:14: TqdmExperimentalWarning: Using `tqdm.autonotebook.tqdm` in notebook mode. Use `tqdm.tqdm` instead to force console mode (e.g. in jupyter console)\n",
      "  \" (e.g. in jupyter console)\", TqdmExperimentalWarning)\n"
     ]
    },
    {
     "data": {
      "application/vnd.jupyter.widget-view+json": {
       "model_id": "19446c30d1a94864a1cc881e6651820b",
       "version_major": 2,
       "version_minor": 0
      },
      "text/plain": [
       "HBox(children=(IntProgress(value=0, max=4), HTML(value='')))"
      ]
     },
     "metadata": {},
     "output_type": "display_data"
    },
    {
     "name": "stdout",
     "output_type": "stream",
     "text": [
      "\n"
     ]
    },
    {
     "data": {
      "text/plain": [
       "0    10.0\n",
       "1    20.0\n",
       "2    30.0\n",
       "3    40.0\n",
       "dtype: float64"
      ]
     },
     "execution_count": 43,
     "metadata": {},
     "output_type": "execute_result"
    }
   ],
   "source": [
    "from tqdm.autonotebook import tqdm\n",
    "\n",
    "tqdm.pandas()\n",
    "\n",
    "df.progress_apply(lambda x: max([x['BBB'], x['CCC']]), axis=1)"
   ]
  },
  {
   "cell_type": "markdown",
   "metadata": {},
   "source": [
    "## Group\n",
    "\n",
    "1. Splitting the data into groups based on some criteria\n",
    "2. Applying a function to each group independently\n",
    "3. Combining the results into a data structure\n",
    "\n",
    "\n",
    "- https://pandas.pydata.org/pandas-docs/stable/reference/groupby.html\n",
    "- https://pandas.pydata.org/pandas-docs/stable/user_guide/groupby.html"
   ]
  },
  {
   "cell_type": "markdown",
   "metadata": {},
   "source": [
    "### Structure"
   ]
  },
  {
   "cell_type": "code",
   "execution_count": 44,
   "metadata": {},
   "outputs": [
    {
     "data": {
      "text/html": [
       "<div>\n",
       "<style scoped>\n",
       "    .dataframe tbody tr th:only-of-type {\n",
       "        vertical-align: middle;\n",
       "    }\n",
       "\n",
       "    .dataframe tbody tr th {\n",
       "        vertical-align: top;\n",
       "    }\n",
       "\n",
       "    .dataframe thead th {\n",
       "        text-align: right;\n",
       "    }\n",
       "</style>\n",
       "<table border=\"1\" class=\"dataframe\">\n",
       "  <thead>\n",
       "    <tr style=\"text-align: right;\">\n",
       "      <th></th>\n",
       "      <th>AAA</th>\n",
       "      <th>BBB</th>\n",
       "      <th>CCC</th>\n",
       "    </tr>\n",
       "  </thead>\n",
       "  <tbody>\n",
       "    <tr>\n",
       "      <th>0</th>\n",
       "      <td>1</td>\n",
       "      <td>1</td>\n",
       "      <td>0</td>\n",
       "    </tr>\n",
       "    <tr>\n",
       "      <th>1</th>\n",
       "      <td>2</td>\n",
       "      <td>20</td>\n",
       "      <td>50</td>\n",
       "    </tr>\n",
       "    <tr>\n",
       "      <th>2</th>\n",
       "      <td>8</td>\n",
       "      <td>30</td>\n",
       "      <td>-30</td>\n",
       "    </tr>\n",
       "    <tr>\n",
       "      <th>3</th>\n",
       "      <td>2</td>\n",
       "      <td>40</td>\n",
       "      <td>-50</td>\n",
       "    </tr>\n",
       "  </tbody>\n",
       "</table>\n",
       "</div>"
      ],
      "text/plain": [
       "   AAA  BBB  CCC\n",
       "0    1    1    0\n",
       "1    2   20   50\n",
       "2    8   30  -30\n",
       "3    2   40  -50"
      ]
     },
     "metadata": {},
     "output_type": "display_data"
    },
    {
     "name": "stdout",
     "output_type": "stream",
     "text": [
      "<class 'pandas.core.groupby.generic.DataFrameGroupBy'>\n",
      "<pandas.core.groupby.generic.DataFrameGroupBy object at 0x7f8118204048>\n",
      "------------\n",
      "{1: Int64Index([0], dtype='int64'), 2: Int64Index([1, 3], dtype='int64'), 8: Int64Index([2], dtype='int64')}\n",
      "Int64Index([2], dtype='int64')\n"
     ]
    }
   ],
   "source": [
    "df = pd.DataFrame({'AAA': [1, 2, 8, 2],\n",
    "                   'BBB': [1, 20, 30, 40],\n",
    "                   'CCC': [0, 50, -30, -50]})\n",
    "display(df)\n",
    "\n",
    "grouped = df.groupby('AAA')\n",
    "print(type(grouped))\n",
    "print(grouped)\n",
    "\n",
    "print('------------')\n",
    "\n",
    "print(grouped.groups)\n",
    "print(grouped.groups[8]) # indexing with group's name (dict-like)"
   ]
  },
  {
   "cell_type": "markdown",
   "metadata": {},
   "source": [
    "### Iteration\n"
   ]
  },
  {
   "cell_type": "code",
   "execution_count": 45,
   "metadata": {},
   "outputs": [
    {
     "name": "stdout",
     "output_type": "stream",
     "text": [
      "1\n",
      "<class 'pandas.core.frame.DataFrame'>    AAA  BBB  CCC\n",
      "0    1    1    0\n",
      "2\n",
      "<class 'pandas.core.frame.DataFrame'>    AAA  BBB  CCC\n",
      "1    2   20   50\n",
      "3    2   40  -50\n",
      "8\n",
      "<class 'pandas.core.frame.DataFrame'>    AAA  BBB  CCC\n",
      "2    8   30  -30\n"
     ]
    }
   ],
   "source": [
    "for name, data in grouped: # iterated as tuple(name, data)\n",
    "    print(name)\n",
    "    print(type(data), data)"
   ]
  },
  {
   "cell_type": "markdown",
   "metadata": {},
   "source": [
    "### Grouped by Time Period"
   ]
  },
  {
   "cell_type": "code",
   "execution_count": 46,
   "metadata": {},
   "outputs": [
    {
     "data": {
      "text/html": [
       "<div>\n",
       "<style scoped>\n",
       "    .dataframe tbody tr th:only-of-type {\n",
       "        vertical-align: middle;\n",
       "    }\n",
       "\n",
       "    .dataframe tbody tr th {\n",
       "        vertical-align: top;\n",
       "    }\n",
       "\n",
       "    .dataframe thead th {\n",
       "        text-align: right;\n",
       "    }\n",
       "</style>\n",
       "<table border=\"1\" class=\"dataframe\">\n",
       "  <thead>\n",
       "    <tr style=\"text-align: right;\">\n",
       "      <th></th>\n",
       "      <th>A</th>\n",
       "      <th>B</th>\n",
       "      <th>C</th>\n",
       "      <th>D</th>\n",
       "    </tr>\n",
       "  </thead>\n",
       "  <tbody>\n",
       "    <tr>\n",
       "      <th>2000-01-10</th>\n",
       "      <td>-0.053004</td>\n",
       "      <td>0.859525</td>\n",
       "      <td>1.809596</td>\n",
       "      <td>0.090678</td>\n",
       "    </tr>\n",
       "    <tr>\n",
       "      <th>2000-01-11</th>\n",
       "      <td>1.884072</td>\n",
       "      <td>1.265207</td>\n",
       "      <td>-0.308331</td>\n",
       "      <td>0.776222</td>\n",
       "    </tr>\n",
       "    <tr>\n",
       "      <th>2000-01-12</th>\n",
       "      <td>-0.184556</td>\n",
       "      <td>-0.685062</td>\n",
       "      <td>-0.832683</td>\n",
       "      <td>0.036024</td>\n",
       "    </tr>\n",
       "    <tr>\n",
       "      <th>2000-01-13</th>\n",
       "      <td>0.853374</td>\n",
       "      <td>-0.034343</td>\n",
       "      <td>0.250563</td>\n",
       "      <td>-0.004273</td>\n",
       "    </tr>\n",
       "    <tr>\n",
       "      <th>2000-01-14</th>\n",
       "      <td>0.117620</td>\n",
       "      <td>0.461261</td>\n",
       "      <td>0.092277</td>\n",
       "      <td>-1.590863</td>\n",
       "    </tr>\n",
       "    <tr>\n",
       "      <th>2000-01-15</th>\n",
       "      <td>-0.233239</td>\n",
       "      <td>0.108077</td>\n",
       "      <td>1.212488</td>\n",
       "      <td>0.974997</td>\n",
       "    </tr>\n",
       "    <tr>\n",
       "      <th>2000-01-16</th>\n",
       "      <td>2.614871</td>\n",
       "      <td>-1.534948</td>\n",
       "      <td>-0.503659</td>\n",
       "      <td>-1.084930</td>\n",
       "    </tr>\n",
       "    <tr>\n",
       "      <th>2000-01-17</th>\n",
       "      <td>2.691070</td>\n",
       "      <td>-2.157128</td>\n",
       "      <td>-0.923915</td>\n",
       "      <td>0.846255</td>\n",
       "    </tr>\n",
       "    <tr>\n",
       "      <th>2000-01-18</th>\n",
       "      <td>-1.660164</td>\n",
       "      <td>1.211071</td>\n",
       "      <td>-0.951900</td>\n",
       "      <td>1.563689</td>\n",
       "    </tr>\n",
       "    <tr>\n",
       "      <th>2000-01-19</th>\n",
       "      <td>0.330834</td>\n",
       "      <td>0.729455</td>\n",
       "      <td>0.791820</td>\n",
       "      <td>-1.284726</td>\n",
       "    </tr>\n",
       "    <tr>\n",
       "      <th>2000-01-20</th>\n",
       "      <td>-0.147882</td>\n",
       "      <td>-0.291597</td>\n",
       "      <td>-0.198291</td>\n",
       "      <td>1.736325</td>\n",
       "    </tr>\n",
       "    <tr>\n",
       "      <th>2000-01-21</th>\n",
       "      <td>-0.525803</td>\n",
       "      <td>-2.518362</td>\n",
       "      <td>0.872642</td>\n",
       "      <td>1.149341</td>\n",
       "    </tr>\n",
       "    <tr>\n",
       "      <th>2000-01-22</th>\n",
       "      <td>-0.857808</td>\n",
       "      <td>-0.369226</td>\n",
       "      <td>-1.826696</td>\n",
       "      <td>-0.647982</td>\n",
       "    </tr>\n",
       "    <tr>\n",
       "      <th>2000-01-23</th>\n",
       "      <td>0.535179</td>\n",
       "      <td>1.180558</td>\n",
       "      <td>1.064833</td>\n",
       "      <td>-0.903686</td>\n",
       "    </tr>\n",
       "    <tr>\n",
       "      <th>2000-01-24</th>\n",
       "      <td>-0.379835</td>\n",
       "      <td>1.596748</td>\n",
       "      <td>-0.570942</td>\n",
       "      <td>-1.192845</td>\n",
       "    </tr>\n",
       "    <tr>\n",
       "      <th>2000-01-25</th>\n",
       "      <td>-0.145679</td>\n",
       "      <td>0.952283</td>\n",
       "      <td>0.500392</td>\n",
       "      <td>-0.599159</td>\n",
       "    </tr>\n",
       "    <tr>\n",
       "      <th>2000-01-26</th>\n",
       "      <td>-1.689343</td>\n",
       "      <td>0.118672</td>\n",
       "      <td>-1.560100</td>\n",
       "      <td>1.094482</td>\n",
       "    </tr>\n",
       "    <tr>\n",
       "      <th>2000-01-27</th>\n",
       "      <td>0.255230</td>\n",
       "      <td>0.513941</td>\n",
       "      <td>0.760212</td>\n",
       "      <td>-0.431570</td>\n",
       "    </tr>\n",
       "    <tr>\n",
       "      <th>2000-01-28</th>\n",
       "      <td>-1.973700</td>\n",
       "      <td>0.668635</td>\n",
       "      <td>0.011750</td>\n",
       "      <td>-0.136414</td>\n",
       "    </tr>\n",
       "    <tr>\n",
       "      <th>2000-01-29</th>\n",
       "      <td>-1.351650</td>\n",
       "      <td>1.815494</td>\n",
       "      <td>0.066526</td>\n",
       "      <td>0.501839</td>\n",
       "    </tr>\n",
       "    <tr>\n",
       "      <th>2000-01-30</th>\n",
       "      <td>-0.385761</td>\n",
       "      <td>-1.479565</td>\n",
       "      <td>1.180517</td>\n",
       "      <td>0.038773</td>\n",
       "    </tr>\n",
       "    <tr>\n",
       "      <th>2000-01-31</th>\n",
       "      <td>-0.448449</td>\n",
       "      <td>-1.230732</td>\n",
       "      <td>0.818647</td>\n",
       "      <td>1.225426</td>\n",
       "    </tr>\n",
       "    <tr>\n",
       "      <th>2000-02-01</th>\n",
       "      <td>-0.136867</td>\n",
       "      <td>-0.936200</td>\n",
       "      <td>-1.927860</td>\n",
       "      <td>0.222005</td>\n",
       "    </tr>\n",
       "    <tr>\n",
       "      <th>2000-02-02</th>\n",
       "      <td>2.137585</td>\n",
       "      <td>1.410850</td>\n",
       "      <td>0.246149</td>\n",
       "      <td>-0.391876</td>\n",
       "    </tr>\n",
       "    <tr>\n",
       "      <th>2000-02-03</th>\n",
       "      <td>0.019425</td>\n",
       "      <td>-2.677733</td>\n",
       "      <td>0.533535</td>\n",
       "      <td>-0.682910</td>\n",
       "    </tr>\n",
       "    <tr>\n",
       "      <th>2000-02-04</th>\n",
       "      <td>1.933423</td>\n",
       "      <td>-0.891457</td>\n",
       "      <td>-2.321610</td>\n",
       "      <td>-0.692143</td>\n",
       "    </tr>\n",
       "    <tr>\n",
       "      <th>2000-02-05</th>\n",
       "      <td>-1.491717</td>\n",
       "      <td>0.402417</td>\n",
       "      <td>-1.732624</td>\n",
       "      <td>-0.625343</td>\n",
       "    </tr>\n",
       "    <tr>\n",
       "      <th>2000-02-06</th>\n",
       "      <td>0.432839</td>\n",
       "      <td>0.622445</td>\n",
       "      <td>1.288251</td>\n",
       "      <td>0.290228</td>\n",
       "    </tr>\n",
       "    <tr>\n",
       "      <th>2000-02-07</th>\n",
       "      <td>0.375732</td>\n",
       "      <td>0.005009</td>\n",
       "      <td>-0.510012</td>\n",
       "      <td>1.760066</td>\n",
       "    </tr>\n",
       "    <tr>\n",
       "      <th>2000-02-08</th>\n",
       "      <td>-1.550847</td>\n",
       "      <td>-0.609671</td>\n",
       "      <td>0.766545</td>\n",
       "      <td>1.031357</td>\n",
       "    </tr>\n",
       "    <tr>\n",
       "      <th>2000-02-09</th>\n",
       "      <td>0.519435</td>\n",
       "      <td>1.709632</td>\n",
       "      <td>0.652479</td>\n",
       "      <td>-0.921089</td>\n",
       "    </tr>\n",
       "    <tr>\n",
       "      <th>2000-02-10</th>\n",
       "      <td>-0.326912</td>\n",
       "      <td>-0.166177</td>\n",
       "      <td>0.635874</td>\n",
       "      <td>-1.128331</td>\n",
       "    </tr>\n",
       "    <tr>\n",
       "      <th>2000-02-11</th>\n",
       "      <td>-1.402272</td>\n",
       "      <td>0.033975</td>\n",
       "      <td>1.462567</td>\n",
       "      <td>-0.339161</td>\n",
       "    </tr>\n",
       "    <tr>\n",
       "      <th>2000-02-12</th>\n",
       "      <td>0.358844</td>\n",
       "      <td>-0.413329</td>\n",
       "      <td>0.540999</td>\n",
       "      <td>1.042653</td>\n",
       "    </tr>\n",
       "    <tr>\n",
       "      <th>2000-02-13</th>\n",
       "      <td>-0.875411</td>\n",
       "      <td>-1.846247</td>\n",
       "      <td>-1.301429</td>\n",
       "      <td>0.191382</td>\n",
       "    </tr>\n",
       "    <tr>\n",
       "      <th>2000-02-14</th>\n",
       "      <td>0.394531</td>\n",
       "      <td>-0.486767</td>\n",
       "      <td>-0.016689</td>\n",
       "      <td>2.043089</td>\n",
       "    </tr>\n",
       "    <tr>\n",
       "      <th>2000-02-15</th>\n",
       "      <td>-0.488275</td>\n",
       "      <td>0.587089</td>\n",
       "      <td>-0.496998</td>\n",
       "      <td>0.100091</td>\n",
       "    </tr>\n",
       "    <tr>\n",
       "      <th>2000-02-16</th>\n",
       "      <td>-0.863782</td>\n",
       "      <td>-0.104509</td>\n",
       "      <td>-0.995894</td>\n",
       "      <td>1.607202</td>\n",
       "    </tr>\n",
       "    <tr>\n",
       "      <th>2000-02-17</th>\n",
       "      <td>-0.330626</td>\n",
       "      <td>0.298538</td>\n",
       "      <td>0.971986</td>\n",
       "      <td>-0.332233</td>\n",
       "    </tr>\n",
       "    <tr>\n",
       "      <th>2000-02-18</th>\n",
       "      <td>0.623385</td>\n",
       "      <td>-0.019538</td>\n",
       "      <td>0.318866</td>\n",
       "      <td>-0.286598</td>\n",
       "    </tr>\n",
       "    <tr>\n",
       "      <th>2000-02-19</th>\n",
       "      <td>-0.232695</td>\n",
       "      <td>1.295373</td>\n",
       "      <td>-0.184120</td>\n",
       "      <td>-0.561504</td>\n",
       "    </tr>\n",
       "    <tr>\n",
       "      <th>2000-02-20</th>\n",
       "      <td>-0.768976</td>\n",
       "      <td>-1.276407</td>\n",
       "      <td>-1.237424</td>\n",
       "      <td>-0.964170</td>\n",
       "    </tr>\n",
       "    <tr>\n",
       "      <th>2000-02-21</th>\n",
       "      <td>-0.510765</td>\n",
       "      <td>0.610756</td>\n",
       "      <td>1.330402</td>\n",
       "      <td>-1.459755</td>\n",
       "    </tr>\n",
       "    <tr>\n",
       "      <th>2000-02-22</th>\n",
       "      <td>-0.656613</td>\n",
       "      <td>-0.111964</td>\n",
       "      <td>-1.018812</td>\n",
       "      <td>0.041647</td>\n",
       "    </tr>\n",
       "    <tr>\n",
       "      <th>2000-02-23</th>\n",
       "      <td>-0.744708</td>\n",
       "      <td>1.689704</td>\n",
       "      <td>0.813591</td>\n",
       "      <td>-0.810202</td>\n",
       "    </tr>\n",
       "    <tr>\n",
       "      <th>2000-02-24</th>\n",
       "      <td>0.361216</td>\n",
       "      <td>-0.745847</td>\n",
       "      <td>-0.110570</td>\n",
       "      <td>-1.853353</td>\n",
       "    </tr>\n",
       "    <tr>\n",
       "      <th>2000-02-25</th>\n",
       "      <td>0.435588</td>\n",
       "      <td>0.693702</td>\n",
       "      <td>1.119464</td>\n",
       "      <td>1.274155</td>\n",
       "    </tr>\n",
       "    <tr>\n",
       "      <th>2000-02-26</th>\n",
       "      <td>0.131885</td>\n",
       "      <td>0.227568</td>\n",
       "      <td>-0.577521</td>\n",
       "      <td>-0.015865</td>\n",
       "    </tr>\n",
       "    <tr>\n",
       "      <th>2000-02-27</th>\n",
       "      <td>1.260227</td>\n",
       "      <td>-0.845407</td>\n",
       "      <td>-0.414178</td>\n",
       "      <td>1.400799</td>\n",
       "    </tr>\n",
       "    <tr>\n",
       "      <th>2000-02-28</th>\n",
       "      <td>-1.526250</td>\n",
       "      <td>1.498622</td>\n",
       "      <td>-1.651416</td>\n",
       "      <td>-0.317450</td>\n",
       "    </tr>\n",
       "    <tr>\n",
       "      <th>2000-02-29</th>\n",
       "      <td>0.708126</td>\n",
       "      <td>-1.089429</td>\n",
       "      <td>-0.522217</td>\n",
       "      <td>0.228581</td>\n",
       "    </tr>\n",
       "    <tr>\n",
       "      <th>2000-03-01</th>\n",
       "      <td>0.485357</td>\n",
       "      <td>-0.010754</td>\n",
       "      <td>0.264842</td>\n",
       "      <td>-0.666264</td>\n",
       "    </tr>\n",
       "    <tr>\n",
       "      <th>2000-03-02</th>\n",
       "      <td>2.112886</td>\n",
       "      <td>-1.168591</td>\n",
       "      <td>0.111912</td>\n",
       "      <td>2.117723</td>\n",
       "    </tr>\n",
       "    <tr>\n",
       "      <th>2000-03-03</th>\n",
       "      <td>-0.402897</td>\n",
       "      <td>0.883406</td>\n",
       "      <td>0.509037</td>\n",
       "      <td>0.018466</td>\n",
       "    </tr>\n",
       "    <tr>\n",
       "      <th>2000-03-04</th>\n",
       "      <td>0.334206</td>\n",
       "      <td>0.473119</td>\n",
       "      <td>0.450473</td>\n",
       "      <td>0.735022</td>\n",
       "    </tr>\n",
       "    <tr>\n",
       "      <th>2000-03-05</th>\n",
       "      <td>0.568096</td>\n",
       "      <td>0.929804</td>\n",
       "      <td>1.288131</td>\n",
       "      <td>0.758872</td>\n",
       "    </tr>\n",
       "    <tr>\n",
       "      <th>2000-03-06</th>\n",
       "      <td>1.335142</td>\n",
       "      <td>-1.110787</td>\n",
       "      <td>-1.093882</td>\n",
       "      <td>0.174977</td>\n",
       "    </tr>\n",
       "    <tr>\n",
       "      <th>2000-03-07</th>\n",
       "      <td>-0.457970</td>\n",
       "      <td>-0.307548</td>\n",
       "      <td>0.415084</td>\n",
       "      <td>1.789361</td>\n",
       "    </tr>\n",
       "    <tr>\n",
       "      <th>2000-03-08</th>\n",
       "      <td>-0.329789</td>\n",
       "      <td>0.166415</td>\n",
       "      <td>0.862301</td>\n",
       "      <td>-1.022152</td>\n",
       "    </tr>\n",
       "    <tr>\n",
       "      <th>2000-03-09</th>\n",
       "      <td>0.787263</td>\n",
       "      <td>0.539727</td>\n",
       "      <td>-1.114361</td>\n",
       "      <td>1.383258</td>\n",
       "    </tr>\n",
       "  </tbody>\n",
       "</table>\n",
       "</div>"
      ],
      "text/plain": [
       "                   A         B         C         D\n",
       "2000-01-10 -0.053004  0.859525  1.809596  0.090678\n",
       "2000-01-11  1.884072  1.265207 -0.308331  0.776222\n",
       "2000-01-12 -0.184556 -0.685062 -0.832683  0.036024\n",
       "2000-01-13  0.853374 -0.034343  0.250563 -0.004273\n",
       "2000-01-14  0.117620  0.461261  0.092277 -1.590863\n",
       "2000-01-15 -0.233239  0.108077  1.212488  0.974997\n",
       "2000-01-16  2.614871 -1.534948 -0.503659 -1.084930\n",
       "2000-01-17  2.691070 -2.157128 -0.923915  0.846255\n",
       "2000-01-18 -1.660164  1.211071 -0.951900  1.563689\n",
       "2000-01-19  0.330834  0.729455  0.791820 -1.284726\n",
       "2000-01-20 -0.147882 -0.291597 -0.198291  1.736325\n",
       "2000-01-21 -0.525803 -2.518362  0.872642  1.149341\n",
       "2000-01-22 -0.857808 -0.369226 -1.826696 -0.647982\n",
       "2000-01-23  0.535179  1.180558  1.064833 -0.903686\n",
       "2000-01-24 -0.379835  1.596748 -0.570942 -1.192845\n",
       "2000-01-25 -0.145679  0.952283  0.500392 -0.599159\n",
       "2000-01-26 -1.689343  0.118672 -1.560100  1.094482\n",
       "2000-01-27  0.255230  0.513941  0.760212 -0.431570\n",
       "2000-01-28 -1.973700  0.668635  0.011750 -0.136414\n",
       "2000-01-29 -1.351650  1.815494  0.066526  0.501839\n",
       "2000-01-30 -0.385761 -1.479565  1.180517  0.038773\n",
       "2000-01-31 -0.448449 -1.230732  0.818647  1.225426\n",
       "2000-02-01 -0.136867 -0.936200 -1.927860  0.222005\n",
       "2000-02-02  2.137585  1.410850  0.246149 -0.391876\n",
       "2000-02-03  0.019425 -2.677733  0.533535 -0.682910\n",
       "2000-02-04  1.933423 -0.891457 -2.321610 -0.692143\n",
       "2000-02-05 -1.491717  0.402417 -1.732624 -0.625343\n",
       "2000-02-06  0.432839  0.622445  1.288251  0.290228\n",
       "2000-02-07  0.375732  0.005009 -0.510012  1.760066\n",
       "2000-02-08 -1.550847 -0.609671  0.766545  1.031357\n",
       "2000-02-09  0.519435  1.709632  0.652479 -0.921089\n",
       "2000-02-10 -0.326912 -0.166177  0.635874 -1.128331\n",
       "2000-02-11 -1.402272  0.033975  1.462567 -0.339161\n",
       "2000-02-12  0.358844 -0.413329  0.540999  1.042653\n",
       "2000-02-13 -0.875411 -1.846247 -1.301429  0.191382\n",
       "2000-02-14  0.394531 -0.486767 -0.016689  2.043089\n",
       "2000-02-15 -0.488275  0.587089 -0.496998  0.100091\n",
       "2000-02-16 -0.863782 -0.104509 -0.995894  1.607202\n",
       "2000-02-17 -0.330626  0.298538  0.971986 -0.332233\n",
       "2000-02-18  0.623385 -0.019538  0.318866 -0.286598\n",
       "2000-02-19 -0.232695  1.295373 -0.184120 -0.561504\n",
       "2000-02-20 -0.768976 -1.276407 -1.237424 -0.964170\n",
       "2000-02-21 -0.510765  0.610756  1.330402 -1.459755\n",
       "2000-02-22 -0.656613 -0.111964 -1.018812  0.041647\n",
       "2000-02-23 -0.744708  1.689704  0.813591 -0.810202\n",
       "2000-02-24  0.361216 -0.745847 -0.110570 -1.853353\n",
       "2000-02-25  0.435588  0.693702  1.119464  1.274155\n",
       "2000-02-26  0.131885  0.227568 -0.577521 -0.015865\n",
       "2000-02-27  1.260227 -0.845407 -0.414178  1.400799\n",
       "2000-02-28 -1.526250  1.498622 -1.651416 -0.317450\n",
       "2000-02-29  0.708126 -1.089429 -0.522217  0.228581\n",
       "2000-03-01  0.485357 -0.010754  0.264842 -0.666264\n",
       "2000-03-02  2.112886 -1.168591  0.111912  2.117723\n",
       "2000-03-03 -0.402897  0.883406  0.509037  0.018466\n",
       "2000-03-04  0.334206  0.473119  0.450473  0.735022\n",
       "2000-03-05  0.568096  0.929804  1.288131  0.758872\n",
       "2000-03-06  1.335142 -1.110787 -1.093882  0.174977\n",
       "2000-03-07 -0.457970 -0.307548  0.415084  1.789361\n",
       "2000-03-08 -0.329789  0.166415  0.862301 -1.022152\n",
       "2000-03-09  0.787263  0.539727 -1.114361  1.383258"
      ]
     },
     "metadata": {},
     "output_type": "display_data"
    }
   ],
   "source": [
    "dates = pd.date_range('1/10/2000', periods=60)\n",
    "\n",
    "df = pd.DataFrame(np.random.randn(60, 4),\n",
    "                  index=dates, columns=['A', 'B', 'C', 'D'])\n",
    "display(df)"
   ]
  },
  {
   "cell_type": "code",
   "execution_count": 47,
   "metadata": {},
   "outputs": [
    {
     "name": "stdout",
     "output_type": "stream",
     "text": [
      "\n",
      " 2000-01-31 00:00:00\n",
      "                   A         B         C         D\n",
      "2000-01-10 -0.053004  0.859525  1.809596  0.090678\n",
      "2000-01-11  1.884072  1.265207 -0.308331  0.776222\n",
      "2000-01-12 -0.184556 -0.685062 -0.832683  0.036024\n",
      "2000-01-13  0.853374 -0.034343  0.250563 -0.004273\n",
      "2000-01-14  0.117620  0.461261  0.092277 -1.590863\n",
      "2000-01-15 -0.233239  0.108077  1.212488  0.974997\n",
      "2000-01-16  2.614871 -1.534948 -0.503659 -1.084930\n",
      "2000-01-17  2.691070 -2.157128 -0.923915  0.846255\n",
      "2000-01-18 -1.660164  1.211071 -0.951900  1.563689\n",
      "2000-01-19  0.330834  0.729455  0.791820 -1.284726\n",
      "2000-01-20 -0.147882 -0.291597 -0.198291  1.736325\n",
      "2000-01-21 -0.525803 -2.518362  0.872642  1.149341\n",
      "2000-01-22 -0.857808 -0.369226 -1.826696 -0.647982\n",
      "2000-01-23  0.535179  1.180558  1.064833 -0.903686\n",
      "2000-01-24 -0.379835  1.596748 -0.570942 -1.192845\n",
      "2000-01-25 -0.145679  0.952283  0.500392 -0.599159\n",
      "2000-01-26 -1.689343  0.118672 -1.560100  1.094482\n",
      "2000-01-27  0.255230  0.513941  0.760212 -0.431570\n",
      "2000-01-28 -1.973700  0.668635  0.011750 -0.136414\n",
      "2000-01-29 -1.351650  1.815494  0.066526  0.501839\n",
      "2000-01-30 -0.385761 -1.479565  1.180517  0.038773\n",
      "2000-01-31 -0.448449 -1.230732  0.818647  1.225426\n",
      "\n",
      " 2000-02-29 00:00:00\n",
      "                   A         B         C         D\n",
      "2000-02-01 -0.136867 -0.936200 -1.927860  0.222005\n",
      "2000-02-02  2.137585  1.410850  0.246149 -0.391876\n",
      "2000-02-03  0.019425 -2.677733  0.533535 -0.682910\n",
      "2000-02-04  1.933423 -0.891457 -2.321610 -0.692143\n",
      "2000-02-05 -1.491717  0.402417 -1.732624 -0.625343\n",
      "2000-02-06  0.432839  0.622445  1.288251  0.290228\n",
      "2000-02-07  0.375732  0.005009 -0.510012  1.760066\n",
      "2000-02-08 -1.550847 -0.609671  0.766545  1.031357\n",
      "2000-02-09  0.519435  1.709632  0.652479 -0.921089\n",
      "2000-02-10 -0.326912 -0.166177  0.635874 -1.128331\n",
      "2000-02-11 -1.402272  0.033975  1.462567 -0.339161\n",
      "2000-02-12  0.358844 -0.413329  0.540999  1.042653\n",
      "2000-02-13 -0.875411 -1.846247 -1.301429  0.191382\n",
      "2000-02-14  0.394531 -0.486767 -0.016689  2.043089\n",
      "2000-02-15 -0.488275  0.587089 -0.496998  0.100091\n",
      "2000-02-16 -0.863782 -0.104509 -0.995894  1.607202\n",
      "2000-02-17 -0.330626  0.298538  0.971986 -0.332233\n",
      "2000-02-18  0.623385 -0.019538  0.318866 -0.286598\n",
      "2000-02-19 -0.232695  1.295373 -0.184120 -0.561504\n",
      "2000-02-20 -0.768976 -1.276407 -1.237424 -0.964170\n",
      "2000-02-21 -0.510765  0.610756  1.330402 -1.459755\n",
      "2000-02-22 -0.656613 -0.111964 -1.018812  0.041647\n",
      "2000-02-23 -0.744708  1.689704  0.813591 -0.810202\n",
      "2000-02-24  0.361216 -0.745847 -0.110570 -1.853353\n",
      "2000-02-25  0.435588  0.693702  1.119464  1.274155\n",
      "2000-02-26  0.131885  0.227568 -0.577521 -0.015865\n",
      "2000-02-27  1.260227 -0.845407 -0.414178  1.400799\n",
      "2000-02-28 -1.526250  1.498622 -1.651416 -0.317450\n",
      "2000-02-29  0.708126 -1.089429 -0.522217  0.228581\n",
      "\n",
      " 2000-03-31 00:00:00\n",
      "                   A         B         C         D\n",
      "2000-03-01  0.485357 -0.010754  0.264842 -0.666264\n",
      "2000-03-02  2.112886 -1.168591  0.111912  2.117723\n",
      "2000-03-03 -0.402897  0.883406  0.509037  0.018466\n",
      "2000-03-04  0.334206  0.473119  0.450473  0.735022\n",
      "2000-03-05  0.568096  0.929804  1.288131  0.758872\n",
      "2000-03-06  1.335142 -1.110787 -1.093882  0.174977\n",
      "2000-03-07 -0.457970 -0.307548  0.415084  1.789361\n",
      "2000-03-08 -0.329789  0.166415  0.862301 -1.022152\n",
      "2000-03-09  0.787263  0.539727 -1.114361  1.383258\n"
     ]
    }
   ],
   "source": [
    "for name, data in df.groupby(pd.Grouper(freq='M')): # or '1M'\n",
    "    print('\\n', name)\n",
    "    print(data)"
   ]
  },
  {
   "cell_type": "code",
   "execution_count": 48,
   "metadata": {},
   "outputs": [
    {
     "name": "stdout",
     "output_type": "stream",
     "text": [
      "\n",
      " 2000-01-10 00:00:00\n",
      "                   A         B         C         D\n",
      "2000-01-10 -0.053004  0.859525  1.809596  0.090678\n",
      "2000-01-11  1.884072  1.265207 -0.308331  0.776222\n",
      "2000-01-12 -0.184556 -0.685062 -0.832683  0.036024\n",
      "2000-01-13  0.853374 -0.034343  0.250563 -0.004273\n",
      "2000-01-14  0.117620  0.461261  0.092277 -1.590863\n",
      "2000-01-15 -0.233239  0.108077  1.212488  0.974997\n",
      "2000-01-16  2.614871 -1.534948 -0.503659 -1.084930\n",
      "2000-01-17  2.691070 -2.157128 -0.923915  0.846255\n",
      "2000-01-18 -1.660164  1.211071 -0.951900  1.563689\n",
      "2000-01-19  0.330834  0.729455  0.791820 -1.284726\n",
      "2000-01-20 -0.147882 -0.291597 -0.198291  1.736325\n",
      "2000-01-21 -0.525803 -2.518362  0.872642  1.149341\n",
      "2000-01-22 -0.857808 -0.369226 -1.826696 -0.647982\n",
      "2000-01-23  0.535179  1.180558  1.064833 -0.903686\n",
      "2000-01-24 -0.379835  1.596748 -0.570942 -1.192845\n",
      "2000-01-25 -0.145679  0.952283  0.500392 -0.599159\n",
      "2000-01-26 -1.689343  0.118672 -1.560100  1.094482\n",
      "2000-01-27  0.255230  0.513941  0.760212 -0.431570\n",
      "2000-01-28 -1.973700  0.668635  0.011750 -0.136414\n",
      "2000-01-29 -1.351650  1.815494  0.066526  0.501839\n",
      "2000-01-30 -0.385761 -1.479565  1.180517  0.038773\n",
      "2000-01-31 -0.448449 -1.230732  0.818647  1.225426\n",
      "2000-02-01 -0.136867 -0.936200 -1.927860  0.222005\n",
      "2000-02-02  2.137585  1.410850  0.246149 -0.391876\n",
      "2000-02-03  0.019425 -2.677733  0.533535 -0.682910\n",
      "2000-02-04  1.933423 -0.891457 -2.321610 -0.692143\n",
      "2000-02-05 -1.491717  0.402417 -1.732624 -0.625343\n",
      "2000-02-06  0.432839  0.622445  1.288251  0.290228\n",
      "2000-02-07  0.375732  0.005009 -0.510012  1.760066\n",
      "2000-02-08 -1.550847 -0.609671  0.766545  1.031357\n",
      "\n",
      " 2000-02-09 00:00:00\n",
      "                   A         B         C         D\n",
      "2000-02-09  0.519435  1.709632  0.652479 -0.921089\n",
      "2000-02-10 -0.326912 -0.166177  0.635874 -1.128331\n",
      "2000-02-11 -1.402272  0.033975  1.462567 -0.339161\n",
      "2000-02-12  0.358844 -0.413329  0.540999  1.042653\n",
      "2000-02-13 -0.875411 -1.846247 -1.301429  0.191382\n",
      "2000-02-14  0.394531 -0.486767 -0.016689  2.043089\n",
      "2000-02-15 -0.488275  0.587089 -0.496998  0.100091\n",
      "2000-02-16 -0.863782 -0.104509 -0.995894  1.607202\n",
      "2000-02-17 -0.330626  0.298538  0.971986 -0.332233\n",
      "2000-02-18  0.623385 -0.019538  0.318866 -0.286598\n",
      "2000-02-19 -0.232695  1.295373 -0.184120 -0.561504\n",
      "2000-02-20 -0.768976 -1.276407 -1.237424 -0.964170\n",
      "2000-02-21 -0.510765  0.610756  1.330402 -1.459755\n",
      "2000-02-22 -0.656613 -0.111964 -1.018812  0.041647\n",
      "2000-02-23 -0.744708  1.689704  0.813591 -0.810202\n",
      "2000-02-24  0.361216 -0.745847 -0.110570 -1.853353\n",
      "2000-02-25  0.435588  0.693702  1.119464  1.274155\n",
      "2000-02-26  0.131885  0.227568 -0.577521 -0.015865\n",
      "2000-02-27  1.260227 -0.845407 -0.414178  1.400799\n",
      "2000-02-28 -1.526250  1.498622 -1.651416 -0.317450\n",
      "2000-02-29  0.708126 -1.089429 -0.522217  0.228581\n",
      "2000-03-01  0.485357 -0.010754  0.264842 -0.666264\n",
      "2000-03-02  2.112886 -1.168591  0.111912  2.117723\n",
      "2000-03-03 -0.402897  0.883406  0.509037  0.018466\n",
      "2000-03-04  0.334206  0.473119  0.450473  0.735022\n",
      "2000-03-05  0.568096  0.929804  1.288131  0.758872\n",
      "2000-03-06  1.335142 -1.110787 -1.093882  0.174977\n",
      "2000-03-07 -0.457970 -0.307548  0.415084  1.789361\n",
      "2000-03-08 -0.329789  0.166415  0.862301 -1.022152\n",
      "2000-03-09  0.787263  0.539727 -1.114361  1.383258\n"
     ]
    }
   ],
   "source": [
    "for name, data in df.groupby(pd.Grouper(freq='30d')):\n",
    "    print('\\n', name)\n",
    "    print(data)"
   ]
  },
  {
   "cell_type": "markdown",
   "metadata": {},
   "source": [
    "### Group + Apply"
   ]
  },
  {
   "cell_type": "code",
   "execution_count": 49,
   "metadata": {},
   "outputs": [
    {
     "data": {
      "text/plain": [
       "2000-01-31    -5.924303\n",
       "2000-02-29    14.534360\n",
       "2000-03-31    -1.949768\n",
       "Freq: M, dtype: float64"
      ]
     },
     "metadata": {},
     "output_type": "display_data"
    }
   ],
   "source": [
    "dates = pd.date_range('1/10/2000', periods=60)\n",
    "df = pd.DataFrame(np.random.randn(60, 4),\n",
    "                  index=dates, columns=['A', 'B', 'C', 'D'])\n",
    "\n",
    "grouped = df.groupby(pd.Grouper(freq='1M'))\n",
    "sr = grouped.apply(lambda x: sum(x['B']))\n",
    "display(sr)"
   ]
  },
  {
   "cell_type": "code",
   "execution_count": 50,
   "metadata": {},
   "outputs": [
    {
     "data": {
      "text/plain": [
       "2000-01    -5.924303\n",
       "2000-02    14.534360\n",
       "2000-03    -1.949768\n",
       "dtype: float64"
      ]
     },
     "metadata": {},
     "output_type": "display_data"
    }
   ],
   "source": [
    "sr.index = sr.index.map(lambda x: str(x)[:7])\n",
    "display(sr)"
   ]
  },
  {
   "cell_type": "markdown",
   "metadata": {},
   "source": [
    "# Missing Data\n",
    "\n",
    "https://pandas.pydata.org/pandas-docs/stable/user_guide/missing_data.html\n",
    "\n",
    "- pd.NaT\n",
    "- np.nan\n",
    "- isna()\n",
    "- fillna()"
   ]
  },
  {
   "cell_type": "markdown",
   "metadata": {},
   "source": [
    "# Performance \n",
    "\n",
    "http://pandas.pydata.org/pandas-docs/stable/user_guide/enhancingperf.html\n",
    "\n",
    "pandas is fast. Many of the low-level algorithmic bits have been extensively tweaked in Cython code. However, as with anything else generalization usually sacrifices performance. So if you focus on one feature for your application you may be able to create a faster specialized tool."
   ]
  },
  {
   "cell_type": "markdown",
   "metadata": {},
   "source": [
    "## Time"
   ]
  },
  {
   "cell_type": "markdown",
   "metadata": {},
   "source": [
    "### Dependencies\n",
    "\n",
    "https://pandas.pydata.org/pandas-docs/stable/install.html#recommended-dependencies\n",
    "\n",
    "- numexpr\n",
    "- bottlenect\n"
   ]
  },
  {
   "cell_type": "markdown",
   "metadata": {},
   "source": [
    "### Use Wisely\n",
    "\n",
    "https://engineering.upside.com/a-beginners-guide-to-optimizing-pandas-code-for-speed-c09ef2c6a4d6\n",
    "\n",
    "- Avoid loops; they’re slow and, in most common use cases, unnecessary.\n",
    "- If you must loop, use `.apply()`, not iteration functions. \n",
    "- Vectorization is usually better than scalar operations. Most common operations in Pandas can be vectorized.\n",
    "- **Vector operations on NumPy arrays are more efficient than on native Pandas series.**\n",
    "\n",
    "https://realpython.com/fast-flexible-pandas/\n",
    "\n",
    "1. **Use vectorized operations: Pandas methods and functions with no for-loops.**\n",
    "2. **Use the `.apply()` method with a callable.**\n",
    "3. **Use `.itertuples()`: iterate over DataFrame rows as namedtuples from Python’s collections module.**\n",
    "4. **Use `.iterrows()`: iterate over DataFrame rows as (index, pd.Series) pairs.** While a Pandas Series is a flexible data structure, it can be costly to construct each row into a Series and then access it.\n",
    "5. Use “element-by-element” for loops, updating each cell or row one at a time with `df.loc` or `df.iloc`. (Or, `.at`/`.iat` for fast scalar access.)\n",
    "\n",
    "---\n",
    "\n",
    "1. Try to use vectorized operations where possible rather than approaching problems with the `for x in df`... mentality. If your code is home to a lot of for-loops, it might be better suited to working with native Python data structures, because Pandas otherwise comes with a lot of overhead.\n",
    "2. If you have more complex operations where vectorization is simply impossible or too difficult to work out efficiently, use the `.apply()` method.\n",
    "3. If you do have to loop over your array (which does happen), use `.iterrows()` or `.itertuples()` to improve speed and syntax.\n",
    "4. **Pandas has a lot of optionality**, and there are almost always several ways to get from A to B. Be mindful of this, compare how different routes perform, and choose the one that works best in the context of your project.\n",
    "5. Once you’ve got a data cleaning script built, avoid reprocessing by storing your intermediate results with HDFStore.\n",
    "6. Integrating NumPy into Pandas operations can often improve speed and simplify syntax.\n",
    "\n",
    "https://www.dataquest.io/blog/pandas-big-data/\n",
    "\n",
    "1. **Downcasting numeric columns to more efficient types**.\n",
    "2. **Converting string columns to the categorical type**."
   ]
  },
  {
   "cell_type": "markdown",
   "metadata": {},
   "source": [
    "### Parallelize\n",
    "\n",
    "http://blog.adeel.io/2016/11/06/parallelize-pandas-map-or-apply/"
   ]
  },
  {
   "cell_type": "markdown",
   "metadata": {},
   "source": [
    "### Cython / Numba / pandas.eval()\n",
    "\n",
    "https://pandas.pydata.org/pandas-docs/stable/user_guide/enhancingperf.html"
   ]
  },
  {
   "cell_type": "markdown",
   "metadata": {},
   "source": [
    "## Space\n",
    "\n",
    "https://towardsdatascience.com/why-and-how-to-use-pandas-with-large-data-9594dda2ea4c\n",
    "\n",
    "1. chunking\n",
    "2. drop useless columns"
   ]
  },
  {
   "cell_type": "code",
   "execution_count": null,
   "metadata": {},
   "outputs": [],
   "source": []
  }
 ],
 "metadata": {
  "kernelspec": {
   "display_name": "Python 3",
   "language": "python",
   "name": "python3"
  },
  "language_info": {
   "codemirror_mode": {
    "name": "ipython",
    "version": 3
   },
   "file_extension": ".py",
   "mimetype": "text/x-python",
   "name": "python",
   "nbconvert_exporter": "python",
   "pygments_lexer": "ipython3",
   "version": "3.7.1"
  },
  "toc": {
   "base_numbering": 1,
   "nav_menu": {},
   "number_sections": true,
   "sideBar": true,
   "skip_h1_title": false,
   "title_cell": "Table of Contents",
   "title_sidebar": "Contents",
   "toc_cell": false,
   "toc_position": {
    "height": "calc(100% - 180px)",
    "left": "10px",
    "top": "150px",
    "width": "322.391px"
   },
   "toc_section_display": true,
   "toc_window_display": true
  }
 },
 "nbformat": 4,
 "nbformat_minor": 2
}
