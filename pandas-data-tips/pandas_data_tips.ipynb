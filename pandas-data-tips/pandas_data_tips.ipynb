{
 "cells": [
  {
   "cell_type": "code",
   "execution_count": 1,
   "metadata": {},
   "outputs": [],
   "source": [
    "import pandas as pd\n",
    "import numpy as np"
   ]
  },
  {
   "cell_type": "code",
   "execution_count": 2,
   "metadata": {},
   "outputs": [
    {
     "data": {
      "text/plain": [
       "'0.24.2'"
      ]
     },
     "execution_count": 2,
     "metadata": {},
     "output_type": "execute_result"
    }
   ],
   "source": [
    "pd.__version__ # 0.24.2"
   ]
  },
  {
   "cell_type": "markdown",
   "metadata": {},
   "source": [
    "- Getting Started: http://pandas.pydata.org/pandas-docs/stable/getting_started/index.html\n",
    "    - 10 Minutes to pandas: http://pandas.pydata.org/pandas-docs/stable/getting_started/10min.html\n",
    "    - Pandas Cheat Sheet: http://pandas.pydata.org/Pandas_Cheat_Sheet.pdf"
   ]
  },
  {
   "cell_type": "markdown",
   "metadata": {},
   "source": [
    "# Design"
   ]
  },
  {
   "cell_type": "markdown",
   "metadata": {},
   "source": [
    "## Primary Data Structures"
   ]
  },
  {
   "cell_type": "markdown",
   "metadata": {},
   "source": [
    "| Dimensions | Name | Description |\n",
    "| ---------- | ---- | ----------- |\n",
    "| 1 | Series | homogeneously-typed array |\n",
    "| 2\t| DataFrame | size-mutable tabular structure with potentially heterogeneously-typed column |\n",
    "\n",
    "- Pandas objects (Index, Series, DataFrame) can be thought of as containers for arrays, which hold the actual data and do the actual computation. For many types, the underlying array is a numpy.ndarray\n",
    "- DataFrame is a container for Series, and Series is a container for scalars\n",
    "- insert and remove objects from these containers in a dictionary-like fashion\n",
    "- the axes are intended to lend more semantic meaning to the data\n",
    "\n",
    "```python\n",
    "for col in df.columns:\n",
    "    series = df[col]\n",
    "    # do something with series\n",
    "```"
   ]
  },
  {
   "cell_type": "markdown",
   "metadata": {},
   "source": [
    "## Mutability and copying of data\n",
    "\n",
    "- All pandas data structures are value-mutable (the values they contain can be altered) but not always size-mutable.The length of a Series cannot be changed, but, for example, columns can be inserted into a DataFrame.\n",
    "\n",
    "- However, the vast majority of methods produce new objects and leave the input data untouched. In general we like to favor immutability where sensible."
   ]
  },
  {
   "cell_type": "markdown",
   "metadata": {},
   "source": [
    "## Index\n",
    "\n",
    "https://pandas.pydata.org/pandas-docs/version/0.23.4/api.html#index\n",
    "\n",
    "`pd.Index`: Immutable ndarray implementing an ordered, sliceable set. The basic object storing axis labels for all pandas objects."
   ]
  },
  {
   "cell_type": "code",
   "execution_count": 3,
   "metadata": {
    "scrolled": true
   },
   "outputs": [
    {
     "data": {
      "text/plain": [
       "Int64Index([1, 2, 3], dtype='int64')"
      ]
     },
     "metadata": {},
     "output_type": "display_data"
    },
    {
     "data": {
      "text/plain": [
       "Int64Index([1, 3, 2], dtype='int64')"
      ]
     },
     "metadata": {},
     "output_type": "display_data"
    },
    {
     "data": {
      "text/plain": [
       "Int64Index([1, 2], dtype='int64')"
      ]
     },
     "metadata": {},
     "output_type": "display_data"
    },
    {
     "data": {
      "text/plain": [
       "Index([1, 2, 'a'], dtype='object')"
      ]
     },
     "metadata": {},
     "output_type": "display_data"
    },
    {
     "data": {
      "text/plain": [
       "Index(['a', 'b', 'c'], dtype='object')"
      ]
     },
     "metadata": {},
     "output_type": "display_data"
    },
    {
     "data": {
      "text/plain": [
       "Index(['a', 'b', 'b'], dtype='object')"
      ]
     },
     "metadata": {},
     "output_type": "display_data"
    },
    {
     "data": {
      "text/plain": [
       "DatetimeIndex(['2000-01-01', '2000-03-01', '2001-01-01'], dtype='datetime64[ns]', freq=None)"
      ]
     },
     "metadata": {},
     "output_type": "display_data"
    }
   ],
   "source": [
    "display(pd.Index([1,2,3]))\n",
    "display(pd.Index([1,3,2]))\n",
    "display(pd.Index([1,2,3])[:2])\n",
    "display(pd.Index([1,2,'a']))\n",
    "display(pd.Index(['a','b','c']))\n",
    "display(pd.Index(['a','b','b']))\n",
    "display(pd.DatetimeIndex(['2000-01','2000-03','2001-01']))"
   ]
  },
  {
   "cell_type": "markdown",
   "metadata": {},
   "source": [
    "## Series\n",
    "\n",
    "https://pandas.pydata.org/pandas-docs/stable/reference/series.html\n",
    "\n",
    "index + single column data"
   ]
  },
  {
   "cell_type": "code",
   "execution_count": 4,
   "metadata": {},
   "outputs": [
    {
     "data": {
      "text/plain": [
       "row_1    1\n",
       "row_2    2\n",
       "dtype: int64"
      ]
     },
     "metadata": {},
     "output_type": "display_data"
    },
    {
     "data": {
      "text/plain": [
       "pandas.core.series.Series"
      ]
     },
     "metadata": {},
     "output_type": "display_data"
    }
   ],
   "source": [
    "sr = pd.Series(data=[1,2], index=['row_1', 'row_2'])\n",
    "display(sr)\n",
    "display(type(sr))"
   ]
  },
  {
   "cell_type": "markdown",
   "metadata": {},
   "source": [
    "## DataFrame\n",
    "\n",
    "https://pandas.pydata.org/pandas-docs/stable/reference/frame.html\n",
    "\n",
    "index + tabular data"
   ]
  },
  {
   "cell_type": "code",
   "execution_count": 5,
   "metadata": {},
   "outputs": [
    {
     "data": {
      "text/html": [
       "<div>\n",
       "<style scoped>\n",
       "    .dataframe tbody tr th:only-of-type {\n",
       "        vertical-align: middle;\n",
       "    }\n",
       "\n",
       "    .dataframe tbody tr th {\n",
       "        vertical-align: top;\n",
       "    }\n",
       "\n",
       "    .dataframe thead th {\n",
       "        text-align: right;\n",
       "    }\n",
       "</style>\n",
       "<table border=\"1\" class=\"dataframe\">\n",
       "  <thead>\n",
       "    <tr style=\"text-align: right;\">\n",
       "      <th></th>\n",
       "      <th>col_1</th>\n",
       "    </tr>\n",
       "  </thead>\n",
       "  <tbody>\n",
       "    <tr>\n",
       "      <th>row_1</th>\n",
       "      <td>1</td>\n",
       "    </tr>\n",
       "    <tr>\n",
       "      <th>row_2</th>\n",
       "      <td>2</td>\n",
       "    </tr>\n",
       "  </tbody>\n",
       "</table>\n",
       "</div>"
      ],
      "text/plain": [
       "       col_1\n",
       "row_1      1\n",
       "row_2      2"
      ]
     },
     "metadata": {},
     "output_type": "display_data"
    },
    {
     "data": {
      "text/html": [
       "<div>\n",
       "<style scoped>\n",
       "    .dataframe tbody tr th:only-of-type {\n",
       "        vertical-align: middle;\n",
       "    }\n",
       "\n",
       "    .dataframe tbody tr th {\n",
       "        vertical-align: top;\n",
       "    }\n",
       "\n",
       "    .dataframe thead th {\n",
       "        text-align: right;\n",
       "    }\n",
       "</style>\n",
       "<table border=\"1\" class=\"dataframe\">\n",
       "  <thead>\n",
       "    <tr style=\"text-align: right;\">\n",
       "      <th></th>\n",
       "      <th>col_1</th>\n",
       "    </tr>\n",
       "  </thead>\n",
       "  <tbody>\n",
       "    <tr>\n",
       "      <th>(a, 1)</th>\n",
       "      <td>1</td>\n",
       "    </tr>\n",
       "    <tr>\n",
       "      <th>(b, 2)</th>\n",
       "      <td>2</td>\n",
       "    </tr>\n",
       "  </tbody>\n",
       "</table>\n",
       "</div>"
      ],
      "text/plain": [
       "        col_1\n",
       "(a, 1)      1\n",
       "(b, 2)      2"
      ]
     },
     "metadata": {},
     "output_type": "display_data"
    },
    {
     "data": {
      "text/html": [
       "<div>\n",
       "<style scoped>\n",
       "    .dataframe tbody tr th:only-of-type {\n",
       "        vertical-align: middle;\n",
       "    }\n",
       "\n",
       "    .dataframe tbody tr th {\n",
       "        vertical-align: top;\n",
       "    }\n",
       "\n",
       "    .dataframe thead th {\n",
       "        text-align: right;\n",
       "    }\n",
       "</style>\n",
       "<table border=\"1\" class=\"dataframe\">\n",
       "  <thead>\n",
       "    <tr style=\"text-align: right;\">\n",
       "      <th></th>\n",
       "      <th>col_1</th>\n",
       "      <th>col_2</th>\n",
       "    </tr>\n",
       "  </thead>\n",
       "  <tbody>\n",
       "    <tr>\n",
       "      <th>(a, 1)</th>\n",
       "      <td>1</td>\n",
       "      <td>2</td>\n",
       "    </tr>\n",
       "    <tr>\n",
       "      <th>(b, 2)</th>\n",
       "      <td>2</td>\n",
       "      <td>2</td>\n",
       "    </tr>\n",
       "  </tbody>\n",
       "</table>\n",
       "</div>"
      ],
      "text/plain": [
       "        col_1  col_2\n",
       "(a, 1)      1      2\n",
       "(b, 2)      2      2"
      ]
     },
     "metadata": {},
     "output_type": "display_data"
    }
   ],
   "source": [
    "df = pd.DataFrame(data=[1,2], index=['row_1', 'row_2'], columns=['col_1'])\n",
    "display(df)\n",
    "\n",
    "df = pd.DataFrame(data=[1,2], index=[('a',1), ('b',2)], columns=['col_1'])\n",
    "display(df)\n",
    "\n",
    "df = pd.DataFrame(data=[[1,2],[2,2]], index=[('a',1), ('b',2)], columns=['col_1', 'col_2'])\n",
    "display(df)"
   ]
  },
  {
   "cell_type": "markdown",
   "metadata": {},
   "source": [
    "### Conversion: Dict"
   ]
  },
  {
   "cell_type": "code",
   "execution_count": 6,
   "metadata": {},
   "outputs": [
    {
     "data": {
      "text/html": [
       "<div>\n",
       "<style scoped>\n",
       "    .dataframe tbody tr th:only-of-type {\n",
       "        vertical-align: middle;\n",
       "    }\n",
       "\n",
       "    .dataframe tbody tr th {\n",
       "        vertical-align: top;\n",
       "    }\n",
       "\n",
       "    .dataframe thead th {\n",
       "        text-align: right;\n",
       "    }\n",
       "</style>\n",
       "<table border=\"1\" class=\"dataframe\">\n",
       "  <thead>\n",
       "    <tr style=\"text-align: right;\">\n",
       "      <th></th>\n",
       "      <th>col_1</th>\n",
       "      <th>col_2</th>\n",
       "      <th>col_3</th>\n",
       "    </tr>\n",
       "  </thead>\n",
       "  <tbody>\n",
       "    <tr>\n",
       "      <th>0</th>\n",
       "      <td>10</td>\n",
       "      <td>13</td>\n",
       "      <td>17</td>\n",
       "    </tr>\n",
       "    <tr>\n",
       "      <th>1</th>\n",
       "      <td>aa</td>\n",
       "      <td>cc</td>\n",
       "      <td>dd</td>\n",
       "    </tr>\n",
       "    <tr>\n",
       "      <th>2</th>\n",
       "      <td>(1, e)</td>\n",
       "      <td>(3, f)</td>\n",
       "      <td>(5, g)</td>\n",
       "    </tr>\n",
       "    <tr>\n",
       "      <th>3</th>\n",
       "      <td>30</td>\n",
       "      <td>33</td>\n",
       "      <td>37</td>\n",
       "    </tr>\n",
       "    <tr>\n",
       "      <th>4</th>\n",
       "      <td>45</td>\n",
       "      <td>48</td>\n",
       "      <td>52</td>\n",
       "    </tr>\n",
       "  </tbody>\n",
       "</table>\n",
       "</div>"
      ],
      "text/plain": [
       "    col_1   col_2   col_3\n",
       "0      10      13      17\n",
       "1      aa      cc      dd\n",
       "2  (1, e)  (3, f)  (5, g)\n",
       "3      30      33      37\n",
       "4      45      48      52"
      ]
     },
     "metadata": {},
     "output_type": "display_data"
    },
    {
     "data": {
      "text/html": [
       "<div>\n",
       "<style scoped>\n",
       "    .dataframe tbody tr th:only-of-type {\n",
       "        vertical-align: middle;\n",
       "    }\n",
       "\n",
       "    .dataframe tbody tr th {\n",
       "        vertical-align: top;\n",
       "    }\n",
       "\n",
       "    .dataframe thead th {\n",
       "        text-align: right;\n",
       "    }\n",
       "</style>\n",
       "<table border=\"1\" class=\"dataframe\">\n",
       "  <thead>\n",
       "    <tr style=\"text-align: right;\">\n",
       "      <th></th>\n",
       "      <th>col_1</th>\n",
       "      <th>col_2</th>\n",
       "    </tr>\n",
       "  </thead>\n",
       "  <tbody>\n",
       "    <tr>\n",
       "      <th>0</th>\n",
       "      <td>3</td>\n",
       "      <td>a</td>\n",
       "    </tr>\n",
       "    <tr>\n",
       "      <th>1</th>\n",
       "      <td>2</td>\n",
       "      <td>b</td>\n",
       "    </tr>\n",
       "    <tr>\n",
       "      <th>2</th>\n",
       "      <td>1</td>\n",
       "      <td>c</td>\n",
       "    </tr>\n",
       "    <tr>\n",
       "      <th>3</th>\n",
       "      <td>0</td>\n",
       "      <td>d</td>\n",
       "    </tr>\n",
       "  </tbody>\n",
       "</table>\n",
       "</div>"
      ],
      "text/plain": [
       "   col_1 col_2\n",
       "0      3     a\n",
       "1      2     b\n",
       "2      1     c\n",
       "3      0     d"
      ]
     },
     "metadata": {},
     "output_type": "display_data"
    },
    {
     "data": {
      "text/html": [
       "<div>\n",
       "<style scoped>\n",
       "    .dataframe tbody tr th:only-of-type {\n",
       "        vertical-align: middle;\n",
       "    }\n",
       "\n",
       "    .dataframe tbody tr th {\n",
       "        vertical-align: top;\n",
       "    }\n",
       "\n",
       "    .dataframe thead th {\n",
       "        text-align: right;\n",
       "    }\n",
       "</style>\n",
       "<table border=\"1\" class=\"dataframe\">\n",
       "  <thead>\n",
       "    <tr style=\"text-align: right;\">\n",
       "      <th></th>\n",
       "      <th>0</th>\n",
       "      <th>1</th>\n",
       "      <th>2</th>\n",
       "      <th>3</th>\n",
       "    </tr>\n",
       "  </thead>\n",
       "  <tbody>\n",
       "    <tr>\n",
       "      <th>row_1</th>\n",
       "      <td>3</td>\n",
       "      <td>2</td>\n",
       "      <td>1</td>\n",
       "      <td>0</td>\n",
       "    </tr>\n",
       "    <tr>\n",
       "      <th>row_2</th>\n",
       "      <td>a</td>\n",
       "      <td>b</td>\n",
       "      <td>c</td>\n",
       "      <td>d</td>\n",
       "    </tr>\n",
       "  </tbody>\n",
       "</table>\n",
       "</div>"
      ],
      "text/plain": [
       "       0  1  2  3\n",
       "row_1  3  2  1  0\n",
       "row_2  a  b  c  d"
      ]
     },
     "metadata": {},
     "output_type": "display_data"
    }
   ],
   "source": [
    "# dict to dataframe\n",
    "\n",
    "df = pd.DataFrame({'col_1': [10, 'aa', (1,'e'), 30, 45],\n",
    "                   'col_2': [13, 'cc', (3,'f'), 33, 48],\n",
    "                   'col_3': [17, 'dd', (5,'g'), 37, 52]})\n",
    "display(df)\n",
    "\n",
    "data = {'col_1': [3, 2, 1, 0], 'col_2': ['a', 'b', 'c', 'd']}\n",
    "df = pd.DataFrame.from_dict(data, orient='columns')\n",
    "display(df)\n",
    "\n",
    "data = {'row_1': [3, 2, 1, 0], 'row_2': ['a', 'b', 'c', 'd']}\n",
    "df = pd.DataFrame.from_dict(data, orient='index')\n",
    "display(df)"
   ]
  },
  {
   "cell_type": "code",
   "execution_count": 7,
   "metadata": {},
   "outputs": [
    {
     "data": {
      "text/html": [
       "<div>\n",
       "<style scoped>\n",
       "    .dataframe tbody tr th:only-of-type {\n",
       "        vertical-align: middle;\n",
       "    }\n",
       "\n",
       "    .dataframe tbody tr th {\n",
       "        vertical-align: top;\n",
       "    }\n",
       "\n",
       "    .dataframe thead th {\n",
       "        text-align: right;\n",
       "    }\n",
       "</style>\n",
       "<table border=\"1\" class=\"dataframe\">\n",
       "  <thead>\n",
       "    <tr style=\"text-align: right;\">\n",
       "      <th></th>\n",
       "      <th>col_1</th>\n",
       "      <th>col_2</th>\n",
       "      <th>col_3</th>\n",
       "    </tr>\n",
       "  </thead>\n",
       "  <tbody>\n",
       "    <tr>\n",
       "      <th>0</th>\n",
       "      <td>10</td>\n",
       "      <td>13</td>\n",
       "      <td>17</td>\n",
       "    </tr>\n",
       "    <tr>\n",
       "      <th>1</th>\n",
       "      <td>aa</td>\n",
       "      <td>cc</td>\n",
       "      <td>dd</td>\n",
       "    </tr>\n",
       "    <tr>\n",
       "      <th>2</th>\n",
       "      <td>(1, e)</td>\n",
       "      <td>(3, f)</td>\n",
       "      <td>(5, g)</td>\n",
       "    </tr>\n",
       "    <tr>\n",
       "      <th>3</th>\n",
       "      <td>30</td>\n",
       "      <td>33</td>\n",
       "      <td>37</td>\n",
       "    </tr>\n",
       "    <tr>\n",
       "      <th>4</th>\n",
       "      <td>45</td>\n",
       "      <td>48</td>\n",
       "      <td>52</td>\n",
       "    </tr>\n",
       "  </tbody>\n",
       "</table>\n",
       "</div>"
      ],
      "text/plain": [
       "    col_1   col_2   col_3\n",
       "0      10      13      17\n",
       "1      aa      cc      dd\n",
       "2  (1, e)  (3, f)  (5, g)\n",
       "3      30      33      37\n",
       "4      45      48      52"
      ]
     },
     "metadata": {},
     "output_type": "display_data"
    },
    {
     "name": "stdout",
     "output_type": "stream",
     "text": [
      "----------\n",
      "orient=dict:\n"
     ]
    },
    {
     "data": {
      "text/plain": [
       "{'col_1': {0: 10, 1: 'aa', 2: (1, 'e'), 3: 30, 4: 45},\n",
       " 'col_2': {0: 13, 1: 'cc', 2: (3, 'f'), 3: 33, 4: 48},\n",
       " 'col_3': {0: 17, 1: 'dd', 2: (5, 'g'), 3: 37, 4: 52}}"
      ]
     },
     "metadata": {},
     "output_type": "display_data"
    },
    {
     "name": "stdout",
     "output_type": "stream",
     "text": [
      "orient=list:\n"
     ]
    },
    {
     "data": {
      "text/plain": [
       "{'col_1': [10, 'aa', (1, 'e'), 30, 45],\n",
       " 'col_2': [13, 'cc', (3, 'f'), 33, 48],\n",
       " 'col_3': [17, 'dd', (5, 'g'), 37, 52]}"
      ]
     },
     "metadata": {},
     "output_type": "display_data"
    },
    {
     "name": "stdout",
     "output_type": "stream",
     "text": [
      "----------\n",
      "orient=records:\n"
     ]
    },
    {
     "data": {
      "text/plain": [
       "[{'col_1': 10, 'col_2': 13, 'col_3': 17},\n",
       " {'col_1': 'aa', 'col_2': 'cc', 'col_3': 'dd'},\n",
       " {'col_1': (1, 'e'), 'col_2': (3, 'f'), 'col_3': (5, 'g')},\n",
       " {'col_1': 30, 'col_2': 33, 'col_3': 37},\n",
       " {'col_1': 45, 'col_2': 48, 'col_3': 52}]"
      ]
     },
     "metadata": {},
     "output_type": "display_data"
    },
    {
     "name": "stdout",
     "output_type": "stream",
     "text": [
      "orient=index:\n"
     ]
    },
    {
     "data": {
      "text/plain": [
       "{0: {'col_1': 10, 'col_2': 13, 'col_3': 17},\n",
       " 1: {'col_1': 'aa', 'col_2': 'cc', 'col_3': 'dd'},\n",
       " 2: {'col_1': (1, 'e'), 'col_2': (3, 'f'), 'col_3': (5, 'g')},\n",
       " 3: {'col_1': 30, 'col_2': 33, 'col_3': 37},\n",
       " 4: {'col_1': 45, 'col_2': 48, 'col_3': 52}}"
      ]
     },
     "metadata": {},
     "output_type": "display_data"
    },
    {
     "name": "stdout",
     "output_type": "stream",
     "text": [
      "----------\n",
      "orient=split:\n"
     ]
    },
    {
     "data": {
      "text/plain": [
       "{'index': [0, 1, 2, 3, 4],\n",
       " 'columns': ['col_1', 'col_2', 'col_3'],\n",
       " 'data': [[10, 13, 17],\n",
       "  ['aa', 'cc', 'dd'],\n",
       "  [(1, 'e'), (3, 'f'), (5, 'g')],\n",
       "  [30, 33, 37],\n",
       "  [45, 48, 52]]}"
      ]
     },
     "metadata": {},
     "output_type": "display_data"
    },
    {
     "name": "stdout",
     "output_type": "stream",
     "text": [
      "----------\n",
      "orient=series:\n"
     ]
    },
    {
     "data": {
      "text/plain": [
       "{'col_1': 0        10\n",
       " 1        aa\n",
       " 2    (1, e)\n",
       " 3        30\n",
       " 4        45\n",
       " Name: col_1, dtype: object, 'col_2': 0        13\n",
       " 1        cc\n",
       " 2    (3, f)\n",
       " 3        33\n",
       " 4        48\n",
       " Name: col_2, dtype: object, 'col_3': 0        17\n",
       " 1        dd\n",
       " 2    (5, g)\n",
       " 3        37\n",
       " 4        52\n",
       " Name: col_3, dtype: object}"
      ]
     },
     "metadata": {},
     "output_type": "display_data"
    }
   ],
   "source": [
    "# dataframe to dict\n",
    "\n",
    "df = pd.DataFrame({'col_1': [10, 'aa', (1,'e'), 30, 45],\n",
    "                   'col_2': [13, 'cc', (3,'f'), 33, 48],\n",
    "                   'col_3': [17, 'dd', (5,'g'), 37, 52]})\n",
    "display(df)\n",
    "\n",
    "print('----------\\norient=dict:')\n",
    "display( df.to_dict(orient='dict')) # default\n",
    "print('orient=list:')\n",
    "display(df.to_dict(orient='list'))\n",
    "\n",
    "print('----------\\norient=records:')\n",
    "display(df.to_dict(orient='records'))\n",
    "print('orient=index:')\n",
    "display(df.to_dict(orient='index'))\n",
    "\n",
    "print('----------\\norient=split:')\n",
    "display(df.to_dict(orient='split'))\n",
    "\n",
    "print('----------\\norient=series:')\n",
    "display(df.to_dict(orient='series'))"
   ]
  },
  {
   "cell_type": "markdown",
   "metadata": {},
   "source": [
    "### Conversion: Numpy Array"
   ]
  },
  {
   "cell_type": "code",
   "execution_count": 8,
   "metadata": {},
   "outputs": [
    {
     "data": {
      "text/html": [
       "<div>\n",
       "<style scoped>\n",
       "    .dataframe tbody tr th:only-of-type {\n",
       "        vertical-align: middle;\n",
       "    }\n",
       "\n",
       "    .dataframe tbody tr th {\n",
       "        vertical-align: top;\n",
       "    }\n",
       "\n",
       "    .dataframe thead th {\n",
       "        text-align: right;\n",
       "    }\n",
       "</style>\n",
       "<table border=\"1\" class=\"dataframe\">\n",
       "  <thead>\n",
       "    <tr style=\"text-align: right;\">\n",
       "      <th></th>\n",
       "      <th>0</th>\n",
       "    </tr>\n",
       "  </thead>\n",
       "  <tbody>\n",
       "    <tr>\n",
       "      <th>0</th>\n",
       "      <td>3</td>\n",
       "    </tr>\n",
       "    <tr>\n",
       "      <th>1</th>\n",
       "      <td>2</td>\n",
       "    </tr>\n",
       "    <tr>\n",
       "      <th>2</th>\n",
       "      <td>1</td>\n",
       "    </tr>\n",
       "    <tr>\n",
       "      <th>3</th>\n",
       "      <td>0</td>\n",
       "    </tr>\n",
       "  </tbody>\n",
       "</table>\n",
       "</div>"
      ],
      "text/plain": [
       "   0\n",
       "0  3\n",
       "1  2\n",
       "2  1\n",
       "3  0"
      ]
     },
     "metadata": {},
     "output_type": "display_data"
    },
    {
     "data": {
      "text/html": [
       "<div>\n",
       "<style scoped>\n",
       "    .dataframe tbody tr th:only-of-type {\n",
       "        vertical-align: middle;\n",
       "    }\n",
       "\n",
       "    .dataframe tbody tr th {\n",
       "        vertical-align: top;\n",
       "    }\n",
       "\n",
       "    .dataframe thead th {\n",
       "        text-align: right;\n",
       "    }\n",
       "</style>\n",
       "<table border=\"1\" class=\"dataframe\">\n",
       "  <thead>\n",
       "    <tr style=\"text-align: right;\">\n",
       "      <th></th>\n",
       "      <th>0</th>\n",
       "      <th>1</th>\n",
       "    </tr>\n",
       "  </thead>\n",
       "  <tbody>\n",
       "    <tr>\n",
       "      <th>0</th>\n",
       "      <td>3</td>\n",
       "      <td>2</td>\n",
       "    </tr>\n",
       "    <tr>\n",
       "      <th>1</th>\n",
       "      <td>1</td>\n",
       "      <td>0</td>\n",
       "    </tr>\n",
       "  </tbody>\n",
       "</table>\n",
       "</div>"
      ],
      "text/plain": [
       "   0  1\n",
       "0  3  2\n",
       "1  1  0"
      ]
     },
     "metadata": {},
     "output_type": "display_data"
    }
   ],
   "source": [
    "# array to dataframe\n",
    "display(pd.DataFrame(np.array([3,2,1,0])))\n",
    "display(pd.DataFrame(np.array([[3,2],[1,0]])))"
   ]
  },
  {
   "cell_type": "code",
   "execution_count": 9,
   "metadata": {},
   "outputs": [
    {
     "data": {
      "text/html": [
       "<div>\n",
       "<style scoped>\n",
       "    .dataframe tbody tr th:only-of-type {\n",
       "        vertical-align: middle;\n",
       "    }\n",
       "\n",
       "    .dataframe tbody tr th {\n",
       "        vertical-align: top;\n",
       "    }\n",
       "\n",
       "    .dataframe thead th {\n",
       "        text-align: right;\n",
       "    }\n",
       "</style>\n",
       "<table border=\"1\" class=\"dataframe\">\n",
       "  <thead>\n",
       "    <tr style=\"text-align: right;\">\n",
       "      <th></th>\n",
       "      <th>col_1</th>\n",
       "      <th>col_2</th>\n",
       "      <th>col_3</th>\n",
       "    </tr>\n",
       "  </thead>\n",
       "  <tbody>\n",
       "    <tr>\n",
       "      <th>0</th>\n",
       "      <td>10</td>\n",
       "      <td>13</td>\n",
       "      <td>17</td>\n",
       "    </tr>\n",
       "    <tr>\n",
       "      <th>1</th>\n",
       "      <td>aa</td>\n",
       "      <td>cc</td>\n",
       "      <td>dd</td>\n",
       "    </tr>\n",
       "    <tr>\n",
       "      <th>2</th>\n",
       "      <td>(1, e)</td>\n",
       "      <td>(3, f)</td>\n",
       "      <td>(5, g)</td>\n",
       "    </tr>\n",
       "    <tr>\n",
       "      <th>3</th>\n",
       "      <td>30</td>\n",
       "      <td>33</td>\n",
       "      <td>37</td>\n",
       "    </tr>\n",
       "    <tr>\n",
       "      <th>4</th>\n",
       "      <td>45</td>\n",
       "      <td>48</td>\n",
       "      <td>52</td>\n",
       "    </tr>\n",
       "  </tbody>\n",
       "</table>\n",
       "</div>"
      ],
      "text/plain": [
       "    col_1   col_2   col_3\n",
       "0      10      13      17\n",
       "1      aa      cc      dd\n",
       "2  (1, e)  (3, f)  (5, g)\n",
       "3      30      33      37\n",
       "4      45      48      52"
      ]
     },
     "metadata": {},
     "output_type": "display_data"
    },
    {
     "data": {
      "text/plain": [
       "array([[10, 13, 17],\n",
       "       ['aa', 'cc', 'dd'],\n",
       "       [(1, 'e'), (3, 'f'), (5, 'g')],\n",
       "       [30, 33, 37],\n",
       "       [45, 48, 52]], dtype=object)"
      ]
     },
     "metadata": {},
     "output_type": "display_data"
    },
    {
     "data": {
      "text/plain": [
       "array([[10, 'aa', (1, 'e'), 30, 45],\n",
       "       [13, 'cc', (3, 'f'), 33, 48],\n",
       "       [17, 'dd', (5, 'g'), 37, 52]], dtype=object)"
      ]
     },
     "metadata": {},
     "output_type": "display_data"
    },
    {
     "data": {
      "text/plain": [
       "array([[10, 'aa', (1, 'e'), 30, 45],\n",
       "       [13, 'cc', (3, 'f'), 33, 48],\n",
       "       [17, 'dd', (5, 'g'), 37, 52]], dtype=object)"
      ]
     },
     "metadata": {},
     "output_type": "display_data"
    }
   ],
   "source": [
    "# dataframe to array\n",
    "df = pd.DataFrame({'col_1': [10, 'aa', (1,'e'), 30, 45],\n",
    "                   'col_2': [13, 'cc', (3,'f'), 33, 48],\n",
    "                   'col_3': [17, 'dd', (5,'g'), 37, 52]})\n",
    "display(df)\n",
    "display(df.to_numpy()) # Depreciated: .values / as_matrix()\n",
    "display(df.to_numpy().T) \n",
    "display(df.T.to_numpy()) "
   ]
  },
  {
   "cell_type": "markdown",
   "metadata": {},
   "source": [
    "### Reset Index"
   ]
  },
  {
   "cell_type": "code",
   "execution_count": 10,
   "metadata": {},
   "outputs": [
    {
     "data": {
      "text/html": [
       "<div>\n",
       "<style scoped>\n",
       "    .dataframe tbody tr th:only-of-type {\n",
       "        vertical-align: middle;\n",
       "    }\n",
       "\n",
       "    .dataframe tbody tr th {\n",
       "        vertical-align: top;\n",
       "    }\n",
       "\n",
       "    .dataframe thead th {\n",
       "        text-align: right;\n",
       "    }\n",
       "</style>\n",
       "<table border=\"1\" class=\"dataframe\">\n",
       "  <thead>\n",
       "    <tr style=\"text-align: right;\">\n",
       "      <th></th>\n",
       "      <th>col_1</th>\n",
       "    </tr>\n",
       "  </thead>\n",
       "  <tbody>\n",
       "    <tr>\n",
       "      <th>(a, 1)</th>\n",
       "      <td>1</td>\n",
       "    </tr>\n",
       "    <tr>\n",
       "      <th>(b, 2)</th>\n",
       "      <td>2</td>\n",
       "    </tr>\n",
       "  </tbody>\n",
       "</table>\n",
       "</div>"
      ],
      "text/plain": [
       "        col_1\n",
       "(a, 1)      1\n",
       "(b, 2)      2"
      ]
     },
     "metadata": {},
     "output_type": "display_data"
    },
    {
     "data": {
      "text/html": [
       "<div>\n",
       "<style scoped>\n",
       "    .dataframe tbody tr th:only-of-type {\n",
       "        vertical-align: middle;\n",
       "    }\n",
       "\n",
       "    .dataframe tbody tr th {\n",
       "        vertical-align: top;\n",
       "    }\n",
       "\n",
       "    .dataframe thead th {\n",
       "        text-align: right;\n",
       "    }\n",
       "</style>\n",
       "<table border=\"1\" class=\"dataframe\">\n",
       "  <thead>\n",
       "    <tr style=\"text-align: right;\">\n",
       "      <th></th>\n",
       "      <th>index</th>\n",
       "      <th>col_1</th>\n",
       "    </tr>\n",
       "  </thead>\n",
       "  <tbody>\n",
       "    <tr>\n",
       "      <th>0</th>\n",
       "      <td>(a, 1)</td>\n",
       "      <td>1</td>\n",
       "    </tr>\n",
       "    <tr>\n",
       "      <th>1</th>\n",
       "      <td>(b, 2)</td>\n",
       "      <td>2</td>\n",
       "    </tr>\n",
       "  </tbody>\n",
       "</table>\n",
       "</div>"
      ],
      "text/plain": [
       "    index  col_1\n",
       "0  (a, 1)      1\n",
       "1  (b, 2)      2"
      ]
     },
     "metadata": {},
     "output_type": "display_data"
    },
    {
     "data": {
      "text/html": [
       "<div>\n",
       "<style scoped>\n",
       "    .dataframe tbody tr th:only-of-type {\n",
       "        vertical-align: middle;\n",
       "    }\n",
       "\n",
       "    .dataframe tbody tr th {\n",
       "        vertical-align: top;\n",
       "    }\n",
       "\n",
       "    .dataframe thead th {\n",
       "        text-align: right;\n",
       "    }\n",
       "</style>\n",
       "<table border=\"1\" class=\"dataframe\">\n",
       "  <thead>\n",
       "    <tr style=\"text-align: right;\">\n",
       "      <th></th>\n",
       "      <th>col_1</th>\n",
       "    </tr>\n",
       "  </thead>\n",
       "  <tbody>\n",
       "    <tr>\n",
       "      <th>0</th>\n",
       "      <td>1</td>\n",
       "    </tr>\n",
       "    <tr>\n",
       "      <th>1</th>\n",
       "      <td>2</td>\n",
       "    </tr>\n",
       "  </tbody>\n",
       "</table>\n",
       "</div>"
      ],
      "text/plain": [
       "   col_1\n",
       "0      1\n",
       "1      2"
      ]
     },
     "metadata": {},
     "output_type": "display_data"
    }
   ],
   "source": [
    "df = pd.DataFrame(data=[1,2], index=[('a',1), ('b',2)], columns=['col_1'])\n",
    "display(df)\n",
    "\n",
    "display(df.reset_index())\n",
    "display(df.reset_index(drop=True))"
   ]
  },
  {
   "cell_type": "markdown",
   "metadata": {},
   "source": [
    "# File IO"
   ]
  },
  {
   "cell_type": "markdown",
   "metadata": {},
   "source": [
    "## Input\n",
    "\n",
    "- `pd.read_json`\n",
    "- `pd.read_excel`\n",
    "- `pd.read_csv`\n",
    "- `pd.read_pickle` # for pandas objects or other objects such as python dict\n",
    "\n",
    "More: https://pandas.pydata.org/pandas-docs/stable/reference/io.html"
   ]
  },
  {
   "cell_type": "markdown",
   "metadata": {},
   "source": [
    "## Output\n",
    "\n",
    "- `df.to_csv`\n",
    "- `df.to_dict(orient=)`\n",
    "- `df.to_excel`\n",
    "- `df.to_pickle`\n",
    "\n",
    "More: https://pandas.pydata.org/pandas-docs/stable/reference/frame.html#serialization-io-conversion"
   ]
  },
  {
   "cell_type": "markdown",
   "metadata": {},
   "source": [
    "### Excel with Style\n",
    "\n",
    "StyleFrame: https://styleframe.readthedocs.io/en/0.2/#"
   ]
  },
  {
   "cell_type": "code",
   "execution_count": null,
   "metadata": {
    "deletable": false,
    "editable": false,
    "run_control": {
     "frozen": true
    }
   },
   "outputs": [],
   "source": [
    "# Excel with style\n",
    "from StyleFrame import StyleFrame, Styler\n",
    "\n",
    "sf = StyleFrame.read_excel('xxx.xlsx', sheet_name='Sheet1') #, read_style=True / StyleFrame support only .xlsx\n",
    "\n",
    "font_blue = Styler(font_color='blue')\n",
    "font_red = Styler(font_color='red')\n",
    "\n",
    "for col_name in sf.columns:\n",
    "    sf.apply_style_by_indexes(indexes_to_style=sf[sf[col_name].isin(some_list)], # decide rows\n",
    "                              styler_obj=font_blue,\n",
    "                              cols_to_style=col_name) # decide cols\n",
    "    sf.apply_style_by_indexes(indexes_to_style=sf[sf[col_name].isin(another_list)],\n",
    "                              styler_obj=font_red,\n",
    "                              cols_to_style=col_name)\n",
    "\n",
    "sf.to_excel('xxx_styled.xlsx').save()"
   ]
  },
  {
   "cell_type": "markdown",
   "metadata": {},
   "source": [
    "# Indexing / Selecting / Slicing\n",
    "\n",
    "https://pandas.pydata.org/pandas-docs/stable/user_guide/indexing.html\n",
    "\n",
    "index的label和integer position"
   ]
  },
  {
   "cell_type": "markdown",
   "metadata": {},
   "source": [
    "## [ ]\n",
    "\n",
    "- series: select row\n",
    "- dataframe: select column"
   ]
  },
  {
   "cell_type": "code",
   "execution_count": 11,
   "metadata": {},
   "outputs": [
    {
     "data": {
      "text/plain": [
       "a    aa\n",
       "1    bb\n",
       "2    cc\n",
       "3    dd\n",
       "dtype: object"
      ]
     },
     "metadata": {},
     "output_type": "display_data"
    },
    {
     "data": {
      "text/plain": [
       "1    bb\n",
       "3    dd\n",
       "2    cc\n",
       "dtype: object"
      ]
     },
     "metadata": {},
     "output_type": "display_data"
    },
    {
     "data": {
      "text/plain": [
       "1    bb\n",
       "3    dd\n",
       "2    cc\n",
       "dtype: object"
      ]
     },
     "metadata": {},
     "output_type": "display_data"
    },
    {
     "data": {
      "text/plain": [
       "1    bb\n",
       "a    aa\n",
       "2    cc\n",
       "dtype: object"
      ]
     },
     "metadata": {},
     "output_type": "display_data"
    }
   ],
   "source": [
    "sr = pd.Series(data=['aa','bb','cc', 'dd'], index=['a',1,2,3])\n",
    "display(sr)\n",
    "display(sr[pd.Index([1,3,2])])\n",
    "display(sr[[1,3,2]])\n",
    "display(sr[[1,'a',2]])"
   ]
  },
  {
   "cell_type": "code",
   "execution_count": 12,
   "metadata": {},
   "outputs": [
    {
     "data": {
      "text/html": [
       "<div>\n",
       "<style scoped>\n",
       "    .dataframe tbody tr th:only-of-type {\n",
       "        vertical-align: middle;\n",
       "    }\n",
       "\n",
       "    .dataframe tbody tr th {\n",
       "        vertical-align: top;\n",
       "    }\n",
       "\n",
       "    .dataframe thead th {\n",
       "        text-align: right;\n",
       "    }\n",
       "</style>\n",
       "<table border=\"1\" class=\"dataframe\">\n",
       "  <thead>\n",
       "    <tr style=\"text-align: right;\">\n",
       "      <th></th>\n",
       "      <th>col_1</th>\n",
       "      <th>col_2</th>\n",
       "    </tr>\n",
       "  </thead>\n",
       "  <tbody>\n",
       "    <tr>\n",
       "      <th>row_1</th>\n",
       "      <td>1</td>\n",
       "      <td>2</td>\n",
       "    </tr>\n",
       "    <tr>\n",
       "      <th>row_2</th>\n",
       "      <td>3</td>\n",
       "      <td>4</td>\n",
       "    </tr>\n",
       "  </tbody>\n",
       "</table>\n",
       "</div>"
      ],
      "text/plain": [
       "       col_1  col_2\n",
       "row_1      1      2\n",
       "row_2      3      4"
      ]
     },
     "metadata": {},
     "output_type": "display_data"
    },
    {
     "data": {
      "text/html": [
       "<div>\n",
       "<style scoped>\n",
       "    .dataframe tbody tr th:only-of-type {\n",
       "        vertical-align: middle;\n",
       "    }\n",
       "\n",
       "    .dataframe tbody tr th {\n",
       "        vertical-align: top;\n",
       "    }\n",
       "\n",
       "    .dataframe thead th {\n",
       "        text-align: right;\n",
       "    }\n",
       "</style>\n",
       "<table border=\"1\" class=\"dataframe\">\n",
       "  <thead>\n",
       "    <tr style=\"text-align: right;\">\n",
       "      <th></th>\n",
       "      <th>col_1</th>\n",
       "    </tr>\n",
       "  </thead>\n",
       "  <tbody>\n",
       "    <tr>\n",
       "      <th>row_1</th>\n",
       "      <td>1</td>\n",
       "    </tr>\n",
       "    <tr>\n",
       "      <th>row_2</th>\n",
       "      <td>3</td>\n",
       "    </tr>\n",
       "  </tbody>\n",
       "</table>\n",
       "</div>"
      ],
      "text/plain": [
       "       col_1\n",
       "row_1      1\n",
       "row_2      3"
      ]
     },
     "metadata": {},
     "output_type": "display_data"
    }
   ],
   "source": [
    "df = pd.DataFrame(data=[[1,2],[3,4]], index=['row_1', 'row_2'], columns=['col_1','col_2'])\n",
    "display(df)\n",
    "display(df[['col_1']]) # column\n",
    "# df[['row_1', 'row_2']] Error"
   ]
  },
  {
   "cell_type": "markdown",
   "metadata": {},
   "source": [
    "## loc / iloc"
   ]
  },
  {
   "cell_type": "markdown",
   "metadata": {},
   "source": [
    "### single index"
   ]
  },
  {
   "cell_type": "code",
   "execution_count": 13,
   "metadata": {},
   "outputs": [
    {
     "data": {
      "text/plain": [
       "a    aa\n",
       "1    bb\n",
       "2    cc\n",
       "3    dd\n",
       "dtype: object"
      ]
     },
     "metadata": {},
     "output_type": "display_data"
    }
   ],
   "source": [
    "sr = pd.Series(data=['aa','bb','cc', 'dd'], index=['a',1,2,3])\n",
    "display(sr)"
   ]
  },
  {
   "cell_type": "code",
   "execution_count": 14,
   "metadata": {},
   "outputs": [
    {
     "data": {
      "text/html": [
       "<div>\n",
       "<style scoped>\n",
       "    .dataframe tbody tr th:only-of-type {\n",
       "        vertical-align: middle;\n",
       "    }\n",
       "\n",
       "    .dataframe tbody tr th {\n",
       "        vertical-align: top;\n",
       "    }\n",
       "\n",
       "    .dataframe thead th {\n",
       "        text-align: right;\n",
       "    }\n",
       "</style>\n",
       "<table border=\"1\" class=\"dataframe\">\n",
       "  <thead>\n",
       "    <tr style=\"text-align: right;\">\n",
       "      <th></th>\n",
       "      <th>col_1</th>\n",
       "    </tr>\n",
       "  </thead>\n",
       "  <tbody>\n",
       "    <tr>\n",
       "      <th>row_1</th>\n",
       "      <td>1</td>\n",
       "    </tr>\n",
       "    <tr>\n",
       "      <th>row_2</th>\n",
       "      <td>2</td>\n",
       "    </tr>\n",
       "  </tbody>\n",
       "</table>\n",
       "</div>"
      ],
      "text/plain": [
       "       col_1\n",
       "row_1      1\n",
       "row_2      2"
      ]
     },
     "metadata": {},
     "output_type": "display_data"
    },
    {
     "data": {
      "text/html": [
       "<div>\n",
       "<style scoped>\n",
       "    .dataframe tbody tr th:only-of-type {\n",
       "        vertical-align: middle;\n",
       "    }\n",
       "\n",
       "    .dataframe tbody tr th {\n",
       "        vertical-align: top;\n",
       "    }\n",
       "\n",
       "    .dataframe thead th {\n",
       "        text-align: right;\n",
       "    }\n",
       "</style>\n",
       "<table border=\"1\" class=\"dataframe\">\n",
       "  <thead>\n",
       "    <tr style=\"text-align: right;\">\n",
       "      <th></th>\n",
       "      <th>col_1</th>\n",
       "    </tr>\n",
       "  </thead>\n",
       "  <tbody>\n",
       "    <tr>\n",
       "      <th>row_1</th>\n",
       "      <td>1</td>\n",
       "    </tr>\n",
       "    <tr>\n",
       "      <th>row_2</th>\n",
       "      <td>2</td>\n",
       "    </tr>\n",
       "  </tbody>\n",
       "</table>\n",
       "</div>"
      ],
      "text/plain": [
       "       col_1\n",
       "row_1      1\n",
       "row_2      2"
      ]
     },
     "metadata": {},
     "output_type": "display_data"
    }
   ],
   "source": [
    "df = pd.DataFrame(data=[1,2], index=['row_1', 'row_2'], columns=['col_1'])\n",
    "display(df)\n",
    "display(df.loc[['row_1', 'row_2']])"
   ]
  },
  {
   "cell_type": "code",
   "execution_count": 15,
   "metadata": {},
   "outputs": [
    {
     "name": "stdout",
     "output_type": "stream",
     "text": [
      "<class 'KeyError'> 'row_2'\n"
     ]
    }
   ],
   "source": [
    "try:\n",
    "    df.loc[('row_1', 'row_2')] # for multiindex: https://pandas.pydata.org/pandas-docs/stable/user_guide/advanced.html\n",
    "except Exception as e:\n",
    "    print(type(e), e)"
   ]
  },
  {
   "cell_type": "markdown",
   "metadata": {},
   "source": [
    "### tuple index"
   ]
  },
  {
   "cell_type": "code",
   "execution_count": 16,
   "metadata": {},
   "outputs": [
    {
     "data": {
      "text/html": [
       "<div>\n",
       "<style scoped>\n",
       "    .dataframe tbody tr th:only-of-type {\n",
       "        vertical-align: middle;\n",
       "    }\n",
       "\n",
       "    .dataframe tbody tr th {\n",
       "        vertical-align: top;\n",
       "    }\n",
       "\n",
       "    .dataframe thead th {\n",
       "        text-align: right;\n",
       "    }\n",
       "</style>\n",
       "<table border=\"1\" class=\"dataframe\">\n",
       "  <thead>\n",
       "    <tr style=\"text-align: right;\">\n",
       "      <th></th>\n",
       "      <th>col_1</th>\n",
       "    </tr>\n",
       "  </thead>\n",
       "  <tbody>\n",
       "    <tr>\n",
       "      <th>(a, 1)</th>\n",
       "      <td>1</td>\n",
       "    </tr>\n",
       "    <tr>\n",
       "      <th>(b, 2)</th>\n",
       "      <td>2</td>\n",
       "    </tr>\n",
       "  </tbody>\n",
       "</table>\n",
       "</div>"
      ],
      "text/plain": [
       "        col_1\n",
       "(a, 1)      1\n",
       "(b, 2)      2"
      ]
     },
     "metadata": {},
     "output_type": "display_data"
    }
   ],
   "source": [
    "df = pd.DataFrame(data=[1,2], index=[('a',1), ('b',2)], columns=['col_1'])\n",
    "display(df)"
   ]
  },
  {
   "cell_type": "code",
   "execution_count": null,
   "metadata": {
    "deletable": false,
    "editable": false,
    "run_control": {
     "frozen": true
    }
   },
   "outputs": [],
   "source": [
    "df.loc[('a',1)] # KeyError: 'a'\n",
    "df.loc[('a',1),] # KeyError: \"None of [('a', 1)] are in the [index]\""
   ]
  },
  {
   "cell_type": "code",
   "execution_count": 17,
   "metadata": {},
   "outputs": [
    {
     "data": {
      "text/html": [
       "<div>\n",
       "<style scoped>\n",
       "    .dataframe tbody tr th:only-of-type {\n",
       "        vertical-align: middle;\n",
       "    }\n",
       "\n",
       "    .dataframe tbody tr th {\n",
       "        vertical-align: top;\n",
       "    }\n",
       "\n",
       "    .dataframe thead th {\n",
       "        text-align: right;\n",
       "    }\n",
       "</style>\n",
       "<table border=\"1\" class=\"dataframe\">\n",
       "  <thead>\n",
       "    <tr style=\"text-align: right;\">\n",
       "      <th></th>\n",
       "      <th>col_1</th>\n",
       "    </tr>\n",
       "  </thead>\n",
       "  <tbody>\n",
       "    <tr>\n",
       "      <th>(a, 1)</th>\n",
       "      <td>1</td>\n",
       "    </tr>\n",
       "  </tbody>\n",
       "</table>\n",
       "</div>"
      ],
      "text/plain": [
       "        col_1\n",
       "(a, 1)      1"
      ]
     },
     "metadata": {},
     "output_type": "display_data"
    },
    {
     "data": {
      "text/html": [
       "<div>\n",
       "<style scoped>\n",
       "    .dataframe tbody tr th:only-of-type {\n",
       "        vertical-align: middle;\n",
       "    }\n",
       "\n",
       "    .dataframe tbody tr th {\n",
       "        vertical-align: top;\n",
       "    }\n",
       "\n",
       "    .dataframe thead th {\n",
       "        text-align: right;\n",
       "    }\n",
       "</style>\n",
       "<table border=\"1\" class=\"dataframe\">\n",
       "  <thead>\n",
       "    <tr style=\"text-align: right;\">\n",
       "      <th></th>\n",
       "      <th>col_1</th>\n",
       "    </tr>\n",
       "  </thead>\n",
       "  <tbody>\n",
       "    <tr>\n",
       "      <th>(a, 1)</th>\n",
       "      <td>1</td>\n",
       "    </tr>\n",
       "  </tbody>\n",
       "</table>\n",
       "</div>"
      ],
      "text/plain": [
       "        col_1\n",
       "(a, 1)      1"
      ]
     },
     "metadata": {},
     "output_type": "display_data"
    },
    {
     "data": {
      "text/html": [
       "<div>\n",
       "<style scoped>\n",
       "    .dataframe tbody tr th:only-of-type {\n",
       "        vertical-align: middle;\n",
       "    }\n",
       "\n",
       "    .dataframe tbody tr th {\n",
       "        vertical-align: top;\n",
       "    }\n",
       "\n",
       "    .dataframe thead th {\n",
       "        text-align: right;\n",
       "    }\n",
       "</style>\n",
       "<table border=\"1\" class=\"dataframe\">\n",
       "  <thead>\n",
       "    <tr style=\"text-align: right;\">\n",
       "      <th></th>\n",
       "      <th>col_1</th>\n",
       "    </tr>\n",
       "  </thead>\n",
       "  <tbody>\n",
       "    <tr>\n",
       "      <th>(a, 1)</th>\n",
       "      <td>1</td>\n",
       "    </tr>\n",
       "    <tr>\n",
       "      <th>(b, 2)</th>\n",
       "      <td>2</td>\n",
       "    </tr>\n",
       "  </tbody>\n",
       "</table>\n",
       "</div>"
      ],
      "text/plain": [
       "        col_1\n",
       "(a, 1)      1\n",
       "(b, 2)      2"
      ]
     },
     "metadata": {},
     "output_type": "display_data"
    }
   ],
   "source": [
    "display(df.loc[[('a',1)],])\n",
    "display(df.loc[[('a',1),],])\n",
    "display(df.loc[[('a',1), ('b',2)],])"
   ]
  },
  {
   "cell_type": "code",
   "execution_count": 18,
   "metadata": {},
   "outputs": [
    {
     "data": {
      "text/plain": [
       "(a, 1)    1\n",
       "Name: col_1, dtype: int64"
      ]
     },
     "metadata": {},
     "output_type": "display_data"
    }
   ],
   "source": [
    "display(df.loc[[('a',1),], 'col_1'])"
   ]
  },
  {
   "cell_type": "markdown",
   "metadata": {},
   "source": [
    "### hierarchical index (MultiIndex)\n",
    "\n",
    "https://pandas.pydata.org/pandas-docs/stable/user_guide/advanced.html"
   ]
  },
  {
   "cell_type": "code",
   "execution_count": 19,
   "metadata": {},
   "outputs": [
    {
     "data": {
      "text/html": [
       "<div>\n",
       "<style scoped>\n",
       "    .dataframe tbody tr th:only-of-type {\n",
       "        vertical-align: middle;\n",
       "    }\n",
       "\n",
       "    .dataframe tbody tr th {\n",
       "        vertical-align: top;\n",
       "    }\n",
       "\n",
       "    .dataframe thead th {\n",
       "        text-align: right;\n",
       "    }\n",
       "</style>\n",
       "<table border=\"1\" class=\"dataframe\">\n",
       "  <thead>\n",
       "    <tr style=\"text-align: right;\">\n",
       "      <th></th>\n",
       "      <th></th>\n",
       "      <th>0</th>\n",
       "      <th>1</th>\n",
       "      <th>2</th>\n",
       "      <th>3</th>\n",
       "    </tr>\n",
       "  </thead>\n",
       "  <tbody>\n",
       "    <tr>\n",
       "      <th rowspan=\"2\" valign=\"top\">bar</th>\n",
       "      <th>one</th>\n",
       "      <td>1.086379</td>\n",
       "      <td>-0.175958</td>\n",
       "      <td>-0.362664</td>\n",
       "      <td>-3.272982</td>\n",
       "    </tr>\n",
       "    <tr>\n",
       "      <th>two</th>\n",
       "      <td>-0.144050</td>\n",
       "      <td>0.675604</td>\n",
       "      <td>0.828706</td>\n",
       "      <td>-0.804913</td>\n",
       "    </tr>\n",
       "    <tr>\n",
       "      <th rowspan=\"2\" valign=\"top\">baz</th>\n",
       "      <th>one</th>\n",
       "      <td>2.520758</td>\n",
       "      <td>-0.764423</td>\n",
       "      <td>0.393462</td>\n",
       "      <td>0.241439</td>\n",
       "    </tr>\n",
       "    <tr>\n",
       "      <th>two</th>\n",
       "      <td>-0.212127</td>\n",
       "      <td>0.879288</td>\n",
       "      <td>1.259585</td>\n",
       "      <td>-0.384230</td>\n",
       "    </tr>\n",
       "    <tr>\n",
       "      <th rowspan=\"2\" valign=\"top\">foo</th>\n",
       "      <th>one</th>\n",
       "      <td>-2.359296</td>\n",
       "      <td>-1.454042</td>\n",
       "      <td>-1.251561</td>\n",
       "      <td>-0.213912</td>\n",
       "    </tr>\n",
       "    <tr>\n",
       "      <th>two</th>\n",
       "      <td>-0.453393</td>\n",
       "      <td>-1.505561</td>\n",
       "      <td>-0.959798</td>\n",
       "      <td>1.392145</td>\n",
       "    </tr>\n",
       "    <tr>\n",
       "      <th rowspan=\"2\" valign=\"top\">qux</th>\n",
       "      <th>one</th>\n",
       "      <td>0.362104</td>\n",
       "      <td>0.943573</td>\n",
       "      <td>0.002784</td>\n",
       "      <td>-1.076853</td>\n",
       "    </tr>\n",
       "    <tr>\n",
       "      <th>two</th>\n",
       "      <td>-0.699699</td>\n",
       "      <td>1.628535</td>\n",
       "      <td>1.537032</td>\n",
       "      <td>-0.600601</td>\n",
       "    </tr>\n",
       "  </tbody>\n",
       "</table>\n",
       "</div>"
      ],
      "text/plain": [
       "                0         1         2         3\n",
       "bar one  1.086379 -0.175958 -0.362664 -3.272982\n",
       "    two -0.144050  0.675604  0.828706 -0.804913\n",
       "baz one  2.520758 -0.764423  0.393462  0.241439\n",
       "    two -0.212127  0.879288  1.259585 -0.384230\n",
       "foo one -2.359296 -1.454042 -1.251561 -0.213912\n",
       "    two -0.453393 -1.505561 -0.959798  1.392145\n",
       "qux one  0.362104  0.943573  0.002784 -1.076853\n",
       "    two -0.699699  1.628535  1.537032 -0.600601"
      ]
     },
     "metadata": {},
     "output_type": "display_data"
    }
   ],
   "source": [
    "arrays = [np.array(['bar', 'bar', 'baz', 'baz', 'foo', 'foo', 'qux', 'qux']),\n",
    "          np.array(['one', 'two', 'one', 'two', 'one', 'two', 'one', 'two'])] \n",
    "df = pd.DataFrame(np.random.randn(8, 4), index=arrays)\n",
    "display(df)"
   ]
  },
  {
   "cell_type": "code",
   "execution_count": 20,
   "metadata": {},
   "outputs": [
    {
     "data": {
      "text/plain": [
       "0   -0.212127\n",
       "1    0.879288\n",
       "2    1.259585\n",
       "3   -0.384230\n",
       "Name: (baz, two), dtype: float64"
      ]
     },
     "metadata": {},
     "output_type": "display_data"
    },
    {
     "data": {
      "text/html": [
       "<div>\n",
       "<style scoped>\n",
       "    .dataframe tbody tr th:only-of-type {\n",
       "        vertical-align: middle;\n",
       "    }\n",
       "\n",
       "    .dataframe tbody tr th {\n",
       "        vertical-align: top;\n",
       "    }\n",
       "\n",
       "    .dataframe thead th {\n",
       "        text-align: right;\n",
       "    }\n",
       "</style>\n",
       "<table border=\"1\" class=\"dataframe\">\n",
       "  <thead>\n",
       "    <tr style=\"text-align: right;\">\n",
       "      <th></th>\n",
       "      <th></th>\n",
       "      <th>0</th>\n",
       "      <th>1</th>\n",
       "      <th>2</th>\n",
       "      <th>3</th>\n",
       "    </tr>\n",
       "  </thead>\n",
       "  <tbody>\n",
       "    <tr>\n",
       "      <th>baz</th>\n",
       "      <th>two</th>\n",
       "      <td>-0.212127</td>\n",
       "      <td>0.879288</td>\n",
       "      <td>1.259585</td>\n",
       "      <td>-0.38423</td>\n",
       "    </tr>\n",
       "  </tbody>\n",
       "</table>\n",
       "</div>"
      ],
      "text/plain": [
       "                0         1         2        3\n",
       "baz two -0.212127  0.879288  1.259585 -0.38423"
      ]
     },
     "metadata": {},
     "output_type": "display_data"
    },
    {
     "data": {
      "text/html": [
       "<div>\n",
       "<style scoped>\n",
       "    .dataframe tbody tr th:only-of-type {\n",
       "        vertical-align: middle;\n",
       "    }\n",
       "\n",
       "    .dataframe tbody tr th {\n",
       "        vertical-align: top;\n",
       "    }\n",
       "\n",
       "    .dataframe thead th {\n",
       "        text-align: right;\n",
       "    }\n",
       "</style>\n",
       "<table border=\"1\" class=\"dataframe\">\n",
       "  <thead>\n",
       "    <tr style=\"text-align: right;\">\n",
       "      <th></th>\n",
       "      <th></th>\n",
       "      <th>0</th>\n",
       "      <th>1</th>\n",
       "      <th>2</th>\n",
       "      <th>3</th>\n",
       "    </tr>\n",
       "  </thead>\n",
       "  <tbody>\n",
       "    <tr>\n",
       "      <th>baz</th>\n",
       "      <th>two</th>\n",
       "      <td>-0.212127</td>\n",
       "      <td>0.879288</td>\n",
       "      <td>1.259585</td>\n",
       "      <td>-0.384230</td>\n",
       "    </tr>\n",
       "    <tr>\n",
       "      <th>foo</th>\n",
       "      <th>one</th>\n",
       "      <td>-2.359296</td>\n",
       "      <td>-1.454042</td>\n",
       "      <td>-1.251561</td>\n",
       "      <td>-0.213912</td>\n",
       "    </tr>\n",
       "  </tbody>\n",
       "</table>\n",
       "</div>"
      ],
      "text/plain": [
       "                0         1         2         3\n",
       "baz two -0.212127  0.879288  1.259585 -0.384230\n",
       "foo one -2.359296 -1.454042 -1.251561 -0.213912"
      ]
     },
     "metadata": {},
     "output_type": "display_data"
    }
   ],
   "source": [
    "display(df.loc[('baz', 'two')]) # series\n",
    "display(df.loc[[('baz', 'two')]]) # dataframe\n",
    "display(df.loc[[('baz', 'two'), ('foo', 'one')]]) # dataframe"
   ]
  },
  {
   "cell_type": "markdown",
   "metadata": {},
   "source": [
    "### iloc"
   ]
  },
  {
   "cell_type": "code",
   "execution_count": 21,
   "metadata": {},
   "outputs": [
    {
     "data": {
      "text/html": [
       "<div>\n",
       "<style scoped>\n",
       "    .dataframe tbody tr th:only-of-type {\n",
       "        vertical-align: middle;\n",
       "    }\n",
       "\n",
       "    .dataframe tbody tr th {\n",
       "        vertical-align: top;\n",
       "    }\n",
       "\n",
       "    .dataframe thead th {\n",
       "        text-align: right;\n",
       "    }\n",
       "</style>\n",
       "<table border=\"1\" class=\"dataframe\">\n",
       "  <thead>\n",
       "    <tr style=\"text-align: right;\">\n",
       "      <th></th>\n",
       "      <th>AAA</th>\n",
       "      <th>BBB</th>\n",
       "      <th>CCC</th>\n",
       "    </tr>\n",
       "  </thead>\n",
       "  <tbody>\n",
       "    <tr>\n",
       "      <th>0</th>\n",
       "      <td>4</td>\n",
       "      <td>10</td>\n",
       "      <td>100</td>\n",
       "    </tr>\n",
       "    <tr>\n",
       "      <th>1</th>\n",
       "      <td>5</td>\n",
       "      <td>20</td>\n",
       "      <td>50</td>\n",
       "    </tr>\n",
       "    <tr>\n",
       "      <th>2</th>\n",
       "      <td>6</td>\n",
       "      <td>30</td>\n",
       "      <td>-30</td>\n",
       "    </tr>\n",
       "    <tr>\n",
       "      <th>3</th>\n",
       "      <td>7</td>\n",
       "      <td>40</td>\n",
       "      <td>-50</td>\n",
       "    </tr>\n",
       "  </tbody>\n",
       "</table>\n",
       "</div>"
      ],
      "text/plain": [
       "   AAA  BBB  CCC\n",
       "0    4   10  100\n",
       "1    5   20   50\n",
       "2    6   30  -30\n",
       "3    7   40  -50"
      ]
     },
     "metadata": {},
     "output_type": "display_data"
    },
    {
     "data": {
      "text/plain": [
       "AAA      4\n",
       "BBB     10\n",
       "CCC    100\n",
       "Name: 0, dtype: int64"
      ]
     },
     "metadata": {},
     "output_type": "display_data"
    },
    {
     "data": {
      "text/plain": [
       "AAA     7\n",
       "BBB    40\n",
       "CCC   -50\n",
       "Name: 3, dtype: int64"
      ]
     },
     "metadata": {},
     "output_type": "display_data"
    },
    {
     "data": {
      "text/html": [
       "<div>\n",
       "<style scoped>\n",
       "    .dataframe tbody tr th:only-of-type {\n",
       "        vertical-align: middle;\n",
       "    }\n",
       "\n",
       "    .dataframe tbody tr th {\n",
       "        vertical-align: top;\n",
       "    }\n",
       "\n",
       "    .dataframe thead th {\n",
       "        text-align: right;\n",
       "    }\n",
       "</style>\n",
       "<table border=\"1\" class=\"dataframe\">\n",
       "  <thead>\n",
       "    <tr style=\"text-align: right;\">\n",
       "      <th></th>\n",
       "      <th>AAA</th>\n",
       "      <th>BBB</th>\n",
       "      <th>CCC</th>\n",
       "    </tr>\n",
       "  </thead>\n",
       "  <tbody>\n",
       "    <tr>\n",
       "      <th>0</th>\n",
       "      <td>4</td>\n",
       "      <td>10</td>\n",
       "      <td>100</td>\n",
       "    </tr>\n",
       "    <tr>\n",
       "      <th>1</th>\n",
       "      <td>5</td>\n",
       "      <td>20</td>\n",
       "      <td>50</td>\n",
       "    </tr>\n",
       "  </tbody>\n",
       "</table>\n",
       "</div>"
      ],
      "text/plain": [
       "   AAA  BBB  CCC\n",
       "0    4   10  100\n",
       "1    5   20   50"
      ]
     },
     "metadata": {},
     "output_type": "display_data"
    },
    {
     "data": {
      "text/html": [
       "<div>\n",
       "<style scoped>\n",
       "    .dataframe tbody tr th:only-of-type {\n",
       "        vertical-align: middle;\n",
       "    }\n",
       "\n",
       "    .dataframe tbody tr th {\n",
       "        vertical-align: top;\n",
       "    }\n",
       "\n",
       "    .dataframe thead th {\n",
       "        text-align: right;\n",
       "    }\n",
       "</style>\n",
       "<table border=\"1\" class=\"dataframe\">\n",
       "  <thead>\n",
       "    <tr style=\"text-align: right;\">\n",
       "      <th></th>\n",
       "      <th>AAA</th>\n",
       "      <th>BBB</th>\n",
       "      <th>CCC</th>\n",
       "    </tr>\n",
       "  </thead>\n",
       "  <tbody>\n",
       "    <tr>\n",
       "      <th>1</th>\n",
       "      <td>5</td>\n",
       "      <td>20</td>\n",
       "      <td>50</td>\n",
       "    </tr>\n",
       "    <tr>\n",
       "      <th>2</th>\n",
       "      <td>6</td>\n",
       "      <td>30</td>\n",
       "      <td>-30</td>\n",
       "    </tr>\n",
       "    <tr>\n",
       "      <th>3</th>\n",
       "      <td>7</td>\n",
       "      <td>40</td>\n",
       "      <td>-50</td>\n",
       "    </tr>\n",
       "  </tbody>\n",
       "</table>\n",
       "</div>"
      ],
      "text/plain": [
       "   AAA  BBB  CCC\n",
       "1    5   20   50\n",
       "2    6   30  -30\n",
       "3    7   40  -50"
      ]
     },
     "metadata": {},
     "output_type": "display_data"
    },
    {
     "data": {
      "text/html": [
       "<div>\n",
       "<style scoped>\n",
       "    .dataframe tbody tr th:only-of-type {\n",
       "        vertical-align: middle;\n",
       "    }\n",
       "\n",
       "    .dataframe tbody tr th {\n",
       "        vertical-align: top;\n",
       "    }\n",
       "\n",
       "    .dataframe thead th {\n",
       "        text-align: right;\n",
       "    }\n",
       "</style>\n",
       "<table border=\"1\" class=\"dataframe\">\n",
       "  <thead>\n",
       "    <tr style=\"text-align: right;\">\n",
       "      <th></th>\n",
       "      <th>AAA</th>\n",
       "      <th>BBB</th>\n",
       "      <th>CCC</th>\n",
       "    </tr>\n",
       "  </thead>\n",
       "  <tbody>\n",
       "    <tr>\n",
       "      <th>3</th>\n",
       "      <td>7</td>\n",
       "      <td>40</td>\n",
       "      <td>-50</td>\n",
       "    </tr>\n",
       "  </tbody>\n",
       "</table>\n",
       "</div>"
      ],
      "text/plain": [
       "   AAA  BBB  CCC\n",
       "3    7   40  -50"
      ]
     },
     "metadata": {},
     "output_type": "display_data"
    },
    {
     "data": {
      "text/html": [
       "<div>\n",
       "<style scoped>\n",
       "    .dataframe tbody tr th:only-of-type {\n",
       "        vertical-align: middle;\n",
       "    }\n",
       "\n",
       "    .dataframe tbody tr th {\n",
       "        vertical-align: top;\n",
       "    }\n",
       "\n",
       "    .dataframe thead th {\n",
       "        text-align: right;\n",
       "    }\n",
       "</style>\n",
       "<table border=\"1\" class=\"dataframe\">\n",
       "  <thead>\n",
       "    <tr style=\"text-align: right;\">\n",
       "      <th></th>\n",
       "      <th>AAA</th>\n",
       "      <th>BBB</th>\n",
       "      <th>CCC</th>\n",
       "    </tr>\n",
       "  </thead>\n",
       "  <tbody>\n",
       "    <tr>\n",
       "      <th>0</th>\n",
       "      <td>4</td>\n",
       "      <td>10</td>\n",
       "      <td>100</td>\n",
       "    </tr>\n",
       "    <tr>\n",
       "      <th>2</th>\n",
       "      <td>6</td>\n",
       "      <td>30</td>\n",
       "      <td>-30</td>\n",
       "    </tr>\n",
       "  </tbody>\n",
       "</table>\n",
       "</div>"
      ],
      "text/plain": [
       "   AAA  BBB  CCC\n",
       "0    4   10  100\n",
       "2    6   30  -30"
      ]
     },
     "metadata": {},
     "output_type": "display_data"
    }
   ],
   "source": [
    "df = pd.DataFrame({'AAA': [4, 5, 6, 7],\n",
    "                   'BBB': [10, 20, 30, 40],\n",
    "                   'CCC': [100, 50, -30, -50]})\n",
    "display(df)\n",
    "\n",
    "display(df.iloc[0]) # series\n",
    "display(df.iloc[-1])\n",
    "\n",
    "display(df.iloc[0:2]) # dataframe\n",
    "display(df.iloc[1:])\n",
    "display(df.iloc[-1:])\n",
    "display(df.iloc[::2])"
   ]
  },
  {
   "cell_type": "markdown",
   "metadata": {},
   "source": [
    "## Boolean Filtering"
   ]
  },
  {
   "cell_type": "code",
   "execution_count": 22,
   "metadata": {},
   "outputs": [
    {
     "data": {
      "text/html": [
       "<div>\n",
       "<style scoped>\n",
       "    .dataframe tbody tr th:only-of-type {\n",
       "        vertical-align: middle;\n",
       "    }\n",
       "\n",
       "    .dataframe tbody tr th {\n",
       "        vertical-align: top;\n",
       "    }\n",
       "\n",
       "    .dataframe thead th {\n",
       "        text-align: right;\n",
       "    }\n",
       "</style>\n",
       "<table border=\"1\" class=\"dataframe\">\n",
       "  <thead>\n",
       "    <tr style=\"text-align: right;\">\n",
       "      <th></th>\n",
       "      <th>col_1</th>\n",
       "      <th>col_2</th>\n",
       "    </tr>\n",
       "  </thead>\n",
       "  <tbody>\n",
       "    <tr>\n",
       "      <th>(a, 1)</th>\n",
       "      <td>1</td>\n",
       "      <td>2</td>\n",
       "    </tr>\n",
       "    <tr>\n",
       "      <th>(b, 2)</th>\n",
       "      <td>2</td>\n",
       "      <td>1</td>\n",
       "    </tr>\n",
       "  </tbody>\n",
       "</table>\n",
       "</div>"
      ],
      "text/plain": [
       "        col_1  col_2\n",
       "(a, 1)      1      2\n",
       "(b, 2)      2      1"
      ]
     },
     "metadata": {},
     "output_type": "display_data"
    }
   ],
   "source": [
    "df = pd.DataFrame(data=[[1,2],[2,1]], index=[('a',1), ('b',2)], columns=['col_1', 'col_2'])\n",
    "display(df)"
   ]
  },
  {
   "cell_type": "code",
   "execution_count": 23,
   "metadata": {},
   "outputs": [
    {
     "data": {
      "text/plain": [
       "pandas.core.series.Series"
      ]
     },
     "metadata": {},
     "output_type": "display_data"
    },
    {
     "data": {
      "text/plain": [
       "(a, 1)     True\n",
       "(b, 2)    False\n",
       "Name: col_1, dtype: bool"
      ]
     },
     "metadata": {},
     "output_type": "display_data"
    },
    {
     "data": {
      "text/html": [
       "<div>\n",
       "<style scoped>\n",
       "    .dataframe tbody tr th:only-of-type {\n",
       "        vertical-align: middle;\n",
       "    }\n",
       "\n",
       "    .dataframe tbody tr th {\n",
       "        vertical-align: top;\n",
       "    }\n",
       "\n",
       "    .dataframe thead th {\n",
       "        text-align: right;\n",
       "    }\n",
       "</style>\n",
       "<table border=\"1\" class=\"dataframe\">\n",
       "  <thead>\n",
       "    <tr style=\"text-align: right;\">\n",
       "      <th></th>\n",
       "      <th>col_1</th>\n",
       "      <th>col_2</th>\n",
       "    </tr>\n",
       "  </thead>\n",
       "  <tbody>\n",
       "    <tr>\n",
       "      <th>(a, 1)</th>\n",
       "      <td>1</td>\n",
       "      <td>2</td>\n",
       "    </tr>\n",
       "  </tbody>\n",
       "</table>\n",
       "</div>"
      ],
      "text/plain": [
       "        col_1  col_2\n",
       "(a, 1)      1      2"
      ]
     },
     "metadata": {},
     "output_type": "display_data"
    }
   ],
   "source": [
    "display(type(df['col_1'] == 1))\n",
    "display(df['col_1'] == 1)\n",
    "display(df[df['col_1'] == 1])"
   ]
  },
  {
   "cell_type": "code",
   "execution_count": 24,
   "metadata": {},
   "outputs": [
    {
     "data": {
      "text/plain": [
       "(a, 1)    False\n",
       "(b, 2)     True\n",
       "Name: col_1, dtype: bool"
      ]
     },
     "metadata": {},
     "output_type": "display_data"
    },
    {
     "data": {
      "text/plain": [
       "(a, 1)    False\n",
       "(b, 2)     True\n",
       "Name: col_2, dtype: bool"
      ]
     },
     "metadata": {},
     "output_type": "display_data"
    },
    {
     "data": {
      "text/plain": [
       "(a, 1)    False\n",
       "(b, 2)     True\n",
       "dtype: bool"
      ]
     },
     "metadata": {},
     "output_type": "display_data"
    },
    {
     "data": {
      "text/html": [
       "<div>\n",
       "<style scoped>\n",
       "    .dataframe tbody tr th:only-of-type {\n",
       "        vertical-align: middle;\n",
       "    }\n",
       "\n",
       "    .dataframe tbody tr th {\n",
       "        vertical-align: top;\n",
       "    }\n",
       "\n",
       "    .dataframe thead th {\n",
       "        text-align: right;\n",
       "    }\n",
       "</style>\n",
       "<table border=\"1\" class=\"dataframe\">\n",
       "  <thead>\n",
       "    <tr style=\"text-align: right;\">\n",
       "      <th></th>\n",
       "      <th>col_1</th>\n",
       "      <th>col_2</th>\n",
       "    </tr>\n",
       "  </thead>\n",
       "  <tbody>\n",
       "    <tr>\n",
       "      <th>(b, 2)</th>\n",
       "      <td>2</td>\n",
       "      <td>1</td>\n",
       "    </tr>\n",
       "  </tbody>\n",
       "</table>\n",
       "</div>"
      ],
      "text/plain": [
       "        col_1  col_2\n",
       "(b, 2)      2      1"
      ]
     },
     "metadata": {},
     "output_type": "display_data"
    }
   ],
   "source": [
    "# combine\n",
    "\n",
    "bool_1 = df['col_1'] == 2\n",
    "bool_2 = df['col_2'] == 1\n",
    "display(bool_1)\n",
    "display(bool_2)\n",
    "display(bool_1 & bool_2)\n",
    "display(df[bool_1 & bool_2])"
   ]
  },
  {
   "cell_type": "code",
   "execution_count": 25,
   "metadata": {
    "scrolled": true
   },
   "outputs": [
    {
     "data": {
      "text/html": [
       "<div>\n",
       "<style scoped>\n",
       "    .dataframe tbody tr th:only-of-type {\n",
       "        vertical-align: middle;\n",
       "    }\n",
       "\n",
       "    .dataframe tbody tr th {\n",
       "        vertical-align: top;\n",
       "    }\n",
       "\n",
       "    .dataframe thead th {\n",
       "        text-align: right;\n",
       "    }\n",
       "</style>\n",
       "<table border=\"1\" class=\"dataframe\">\n",
       "  <thead>\n",
       "    <tr style=\"text-align: right;\">\n",
       "      <th></th>\n",
       "      <th>AAA</th>\n",
       "      <th>BBB</th>\n",
       "      <th>CCC</th>\n",
       "    </tr>\n",
       "  </thead>\n",
       "  <tbody>\n",
       "    <tr>\n",
       "      <th>0</th>\n",
       "      <td>4</td>\n",
       "      <td>10</td>\n",
       "      <td>100</td>\n",
       "    </tr>\n",
       "    <tr>\n",
       "      <th>1</th>\n",
       "      <td>5</td>\n",
       "      <td>20</td>\n",
       "      <td>50</td>\n",
       "    </tr>\n",
       "    <tr>\n",
       "      <th>2</th>\n",
       "      <td>6</td>\n",
       "      <td>30</td>\n",
       "      <td>-30</td>\n",
       "    </tr>\n",
       "    <tr>\n",
       "      <th>3</th>\n",
       "      <td>7</td>\n",
       "      <td>40</td>\n",
       "      <td>-50</td>\n",
       "    </tr>\n",
       "  </tbody>\n",
       "</table>\n",
       "</div>"
      ],
      "text/plain": [
       "   AAA  BBB  CCC\n",
       "0    4   10  100\n",
       "1    5   20   50\n",
       "2    6   30  -30\n",
       "3    7   40  -50"
      ]
     },
     "metadata": {},
     "output_type": "display_data"
    },
    {
     "data": {
      "text/html": [
       "<div>\n",
       "<style scoped>\n",
       "    .dataframe tbody tr th:only-of-type {\n",
       "        vertical-align: middle;\n",
       "    }\n",
       "\n",
       "    .dataframe tbody tr th {\n",
       "        vertical-align: top;\n",
       "    }\n",
       "\n",
       "    .dataframe thead th {\n",
       "        text-align: right;\n",
       "    }\n",
       "</style>\n",
       "<table border=\"1\" class=\"dataframe\">\n",
       "  <thead>\n",
       "    <tr style=\"text-align: right;\">\n",
       "      <th></th>\n",
       "      <th>AAA</th>\n",
       "      <th>BBB</th>\n",
       "      <th>CCC</th>\n",
       "    </tr>\n",
       "  </thead>\n",
       "  <tbody>\n",
       "    <tr>\n",
       "      <th>0</th>\n",
       "      <td>4</td>\n",
       "      <td>10</td>\n",
       "      <td>100</td>\n",
       "    </tr>\n",
       "    <tr>\n",
       "      <th>2</th>\n",
       "      <td>6</td>\n",
       "      <td>30</td>\n",
       "      <td>-30</td>\n",
       "    </tr>\n",
       "  </tbody>\n",
       "</table>\n",
       "</div>"
      ],
      "text/plain": [
       "   AAA  BBB  CCC\n",
       "0    4   10  100\n",
       "2    6   30  -30"
      ]
     },
     "metadata": {},
     "output_type": "display_data"
    },
    {
     "data": {
      "text/plain": [
       "0    4\n",
       "1    5\n",
       "2    6\n",
       "3    7\n",
       "Name: AAA, dtype: int64"
      ]
     },
     "metadata": {},
     "output_type": "display_data"
    },
    {
     "data": {
      "text/html": [
       "<div>\n",
       "<style scoped>\n",
       "    .dataframe tbody tr th:only-of-type {\n",
       "        vertical-align: middle;\n",
       "    }\n",
       "\n",
       "    .dataframe tbody tr th {\n",
       "        vertical-align: top;\n",
       "    }\n",
       "\n",
       "    .dataframe thead th {\n",
       "        text-align: right;\n",
       "    }\n",
       "</style>\n",
       "<table border=\"1\" class=\"dataframe\">\n",
       "  <thead>\n",
       "    <tr style=\"text-align: right;\">\n",
       "      <th></th>\n",
       "      <th>AAA</th>\n",
       "      <th>BBB</th>\n",
       "      <th>CCC</th>\n",
       "    </tr>\n",
       "  </thead>\n",
       "  <tbody>\n",
       "    <tr>\n",
       "      <th>0</th>\n",
       "      <td>4</td>\n",
       "      <td>10</td>\n",
       "      <td>100</td>\n",
       "    </tr>\n",
       "    <tr>\n",
       "      <th>1</th>\n",
       "      <td>5</td>\n",
       "      <td>20</td>\n",
       "      <td>50</td>\n",
       "    </tr>\n",
       "    <tr>\n",
       "      <th>2</th>\n",
       "      <td>6</td>\n",
       "      <td>30</td>\n",
       "      <td>-30</td>\n",
       "    </tr>\n",
       "    <tr>\n",
       "      <th>3</th>\n",
       "      <td>7</td>\n",
       "      <td>40</td>\n",
       "      <td>-50</td>\n",
       "    </tr>\n",
       "  </tbody>\n",
       "</table>\n",
       "</div>"
      ],
      "text/plain": [
       "   AAA  BBB  CCC\n",
       "0    4   10  100\n",
       "1    5   20   50\n",
       "2    6   30  -30\n",
       "3    7   40  -50"
      ]
     },
     "metadata": {},
     "output_type": "display_data"
    },
    {
     "data": {
      "text/html": [
       "<div>\n",
       "<style scoped>\n",
       "    .dataframe tbody tr th:only-of-type {\n",
       "        vertical-align: middle;\n",
       "    }\n",
       "\n",
       "    .dataframe tbody tr th {\n",
       "        vertical-align: top;\n",
       "    }\n",
       "\n",
       "    .dataframe thead th {\n",
       "        text-align: right;\n",
       "    }\n",
       "</style>\n",
       "<table border=\"1\" class=\"dataframe\">\n",
       "  <thead>\n",
       "    <tr style=\"text-align: right;\">\n",
       "      <th></th>\n",
       "      <th>AAA</th>\n",
       "      <th>BBB</th>\n",
       "      <th>CCC</th>\n",
       "    </tr>\n",
       "  </thead>\n",
       "  <tbody>\n",
       "    <tr>\n",
       "      <th>0</th>\n",
       "      <td>1</td>\n",
       "      <td>10</td>\n",
       "      <td>100</td>\n",
       "    </tr>\n",
       "    <tr>\n",
       "      <th>1</th>\n",
       "      <td>1</td>\n",
       "      <td>20</td>\n",
       "      <td>50</td>\n",
       "    </tr>\n",
       "    <tr>\n",
       "      <th>2</th>\n",
       "      <td>1</td>\n",
       "      <td>30</td>\n",
       "      <td>-30</td>\n",
       "    </tr>\n",
       "    <tr>\n",
       "      <th>3</th>\n",
       "      <td>1</td>\n",
       "      <td>40</td>\n",
       "      <td>-50</td>\n",
       "    </tr>\n",
       "  </tbody>\n",
       "</table>\n",
       "</div>"
      ],
      "text/plain": [
       "   AAA  BBB  CCC\n",
       "0    1   10  100\n",
       "1    1   20   50\n",
       "2    1   30  -30\n",
       "3    1   40  -50"
      ]
     },
     "metadata": {},
     "output_type": "display_data"
    }
   ],
   "source": [
    "df = pd.DataFrame({'AAA': [4, 5, 6, 7],\n",
    "                   'BBB': [10, 20, 30, 40],\n",
    "                   'CCC': [100, 50, -30, -50]})\n",
    "display(df)\n",
    "\n",
    "display(df[(df.AAA <= 6) & (df.index.isin([0, 2, 4]))])\n",
    "\n",
    "display(df.loc[(df['BBB'] > 25) | (df['CCC'] >= -40), 'AAA'])\n",
    "display(df)\n",
    "\n",
    "df.loc[(df['BBB'] > 25) | (df['CCC'] >= -40), 'AAA'] = 1\n",
    "display(df)\n"
   ]
  },
  {
   "cell_type": "markdown",
   "metadata": {},
   "source": [
    "## sample"
   ]
  },
  {
   "cell_type": "code",
   "execution_count": 26,
   "metadata": {},
   "outputs": [
    {
     "data": {
      "text/html": [
       "<div>\n",
       "<style scoped>\n",
       "    .dataframe tbody tr th:only-of-type {\n",
       "        vertical-align: middle;\n",
       "    }\n",
       "\n",
       "    .dataframe tbody tr th {\n",
       "        vertical-align: top;\n",
       "    }\n",
       "\n",
       "    .dataframe thead th {\n",
       "        text-align: right;\n",
       "    }\n",
       "</style>\n",
       "<table border=\"1\" class=\"dataframe\">\n",
       "  <thead>\n",
       "    <tr style=\"text-align: right;\">\n",
       "      <th></th>\n",
       "      <th>AAA</th>\n",
       "      <th>BBB</th>\n",
       "      <th>CCC</th>\n",
       "    </tr>\n",
       "  </thead>\n",
       "  <tbody>\n",
       "    <tr>\n",
       "      <th>0</th>\n",
       "      <td>4</td>\n",
       "      <td>10</td>\n",
       "      <td>100</td>\n",
       "    </tr>\n",
       "    <tr>\n",
       "      <th>1</th>\n",
       "      <td>5</td>\n",
       "      <td>20</td>\n",
       "      <td>50</td>\n",
       "    </tr>\n",
       "    <tr>\n",
       "      <th>2</th>\n",
       "      <td>6</td>\n",
       "      <td>30</td>\n",
       "      <td>-30</td>\n",
       "    </tr>\n",
       "    <tr>\n",
       "      <th>3</th>\n",
       "      <td>7</td>\n",
       "      <td>40</td>\n",
       "      <td>-50</td>\n",
       "    </tr>\n",
       "  </tbody>\n",
       "</table>\n",
       "</div>"
      ],
      "text/plain": [
       "   AAA  BBB  CCC\n",
       "0    4   10  100\n",
       "1    5   20   50\n",
       "2    6   30  -30\n",
       "3    7   40  -50"
      ]
     },
     "metadata": {},
     "output_type": "display_data"
    },
    {
     "data": {
      "text/html": [
       "<div>\n",
       "<style scoped>\n",
       "    .dataframe tbody tr th:only-of-type {\n",
       "        vertical-align: middle;\n",
       "    }\n",
       "\n",
       "    .dataframe tbody tr th {\n",
       "        vertical-align: top;\n",
       "    }\n",
       "\n",
       "    .dataframe thead th {\n",
       "        text-align: right;\n",
       "    }\n",
       "</style>\n",
       "<table border=\"1\" class=\"dataframe\">\n",
       "  <thead>\n",
       "    <tr style=\"text-align: right;\">\n",
       "      <th></th>\n",
       "      <th>AAA</th>\n",
       "      <th>BBB</th>\n",
       "      <th>CCC</th>\n",
       "    </tr>\n",
       "  </thead>\n",
       "  <tbody>\n",
       "    <tr>\n",
       "      <th>2</th>\n",
       "      <td>6</td>\n",
       "      <td>30</td>\n",
       "      <td>-30</td>\n",
       "    </tr>\n",
       "    <tr>\n",
       "      <th>1</th>\n",
       "      <td>5</td>\n",
       "      <td>20</td>\n",
       "      <td>50</td>\n",
       "    </tr>\n",
       "  </tbody>\n",
       "</table>\n",
       "</div>"
      ],
      "text/plain": [
       "   AAA  BBB  CCC\n",
       "2    6   30  -30\n",
       "1    5   20   50"
      ]
     },
     "metadata": {},
     "output_type": "display_data"
    },
    {
     "data": {
      "text/html": [
       "<div>\n",
       "<style scoped>\n",
       "    .dataframe tbody tr th:only-of-type {\n",
       "        vertical-align: middle;\n",
       "    }\n",
       "\n",
       "    .dataframe tbody tr th {\n",
       "        vertical-align: top;\n",
       "    }\n",
       "\n",
       "    .dataframe thead th {\n",
       "        text-align: right;\n",
       "    }\n",
       "</style>\n",
       "<table border=\"1\" class=\"dataframe\">\n",
       "  <thead>\n",
       "    <tr style=\"text-align: right;\">\n",
       "      <th></th>\n",
       "      <th>BBB</th>\n",
       "      <th>CCC</th>\n",
       "    </tr>\n",
       "  </thead>\n",
       "  <tbody>\n",
       "    <tr>\n",
       "      <th>0</th>\n",
       "      <td>10</td>\n",
       "      <td>100</td>\n",
       "    </tr>\n",
       "    <tr>\n",
       "      <th>1</th>\n",
       "      <td>20</td>\n",
       "      <td>50</td>\n",
       "    </tr>\n",
       "    <tr>\n",
       "      <th>2</th>\n",
       "      <td>30</td>\n",
       "      <td>-30</td>\n",
       "    </tr>\n",
       "    <tr>\n",
       "      <th>3</th>\n",
       "      <td>40</td>\n",
       "      <td>-50</td>\n",
       "    </tr>\n",
       "  </tbody>\n",
       "</table>\n",
       "</div>"
      ],
      "text/plain": [
       "   BBB  CCC\n",
       "0   10  100\n",
       "1   20   50\n",
       "2   30  -30\n",
       "3   40  -50"
      ]
     },
     "metadata": {},
     "output_type": "display_data"
    }
   ],
   "source": [
    "df = pd.DataFrame({'AAA': [4, 5, 6, 7],\n",
    "                   'BBB': [10, 20, 30, 40],\n",
    "                   'CCC': [100, 50, -30, -50]})\n",
    "display(df)\n",
    "display(df.sample(n=2))\n",
    "display(df.sample(n=2, axis=1))"
   ]
  },
  {
   "cell_type": "markdown",
   "metadata": {},
   "source": [
    "# Math\n",
    "\n",
    "https://pandas.pydata.org/pandas-docs/stable/reference/frame.html#computations-descriptive-stats\n"
   ]
  },
  {
   "cell_type": "markdown",
   "metadata": {},
   "source": [
    "## Unary Operation"
   ]
  },
  {
   "cell_type": "code",
   "execution_count": 27,
   "metadata": {},
   "outputs": [
    {
     "data": {
      "text/html": [
       "<div>\n",
       "<style scoped>\n",
       "    .dataframe tbody tr th:only-of-type {\n",
       "        vertical-align: middle;\n",
       "    }\n",
       "\n",
       "    .dataframe tbody tr th {\n",
       "        vertical-align: top;\n",
       "    }\n",
       "\n",
       "    .dataframe thead th {\n",
       "        text-align: right;\n",
       "    }\n",
       "</style>\n",
       "<table border=\"1\" class=\"dataframe\">\n",
       "  <thead>\n",
       "    <tr style=\"text-align: right;\">\n",
       "      <th></th>\n",
       "      <th>AAA</th>\n",
       "      <th>BBB</th>\n",
       "      <th>CCC</th>\n",
       "    </tr>\n",
       "  </thead>\n",
       "  <tbody>\n",
       "    <tr>\n",
       "      <th>0</th>\n",
       "      <td>4</td>\n",
       "      <td>10</td>\n",
       "      <td>100</td>\n",
       "    </tr>\n",
       "    <tr>\n",
       "      <th>1</th>\n",
       "      <td>5</td>\n",
       "      <td>20</td>\n",
       "      <td>50</td>\n",
       "    </tr>\n",
       "    <tr>\n",
       "      <th>2</th>\n",
       "      <td>6</td>\n",
       "      <td>30</td>\n",
       "      <td>-30</td>\n",
       "    </tr>\n",
       "    <tr>\n",
       "      <th>3</th>\n",
       "      <td>7</td>\n",
       "      <td>40</td>\n",
       "      <td>-50</td>\n",
       "    </tr>\n",
       "  </tbody>\n",
       "</table>\n",
       "</div>"
      ],
      "text/plain": [
       "   AAA  BBB  CCC\n",
       "0    4   10  100\n",
       "1    5   20   50\n",
       "2    6   30  -30\n",
       "3    7   40  -50"
      ]
     },
     "metadata": {},
     "output_type": "display_data"
    }
   ],
   "source": [
    "df = pd.DataFrame({'AAA': [4, 5, 6, 7],\n",
    "                   'BBB': [10, 20, 30, 40],\n",
    "                   'CCC': [100, 50, -30, -50]})\n",
    "display(df)"
   ]
  },
  {
   "cell_type": "code",
   "execution_count": 28,
   "metadata": {},
   "outputs": [
    {
     "data": {
      "text/plain": [
       "22"
      ]
     },
     "metadata": {},
     "output_type": "display_data"
    },
    {
     "data": {
      "text/plain": [
       "7"
      ]
     },
     "metadata": {},
     "output_type": "display_data"
    },
    {
     "data": {
      "text/plain": [
       "5.5"
      ]
     },
     "metadata": {},
     "output_type": "display_data"
    },
    {
     "data": {
      "text/plain": [
       "7    1\n",
       "6    1\n",
       "5    1\n",
       "4    1\n",
       "Name: AAA, dtype: int64"
      ]
     },
     "metadata": {},
     "output_type": "display_data"
    },
    {
     "data": {
      "text/plain": [
       "AAA     22\n",
       "BBB    100\n",
       "CCC     70\n",
       "dtype: int64"
      ]
     },
     "metadata": {},
     "output_type": "display_data"
    },
    {
     "data": {
      "text/html": [
       "<div>\n",
       "<style scoped>\n",
       "    .dataframe tbody tr th:only-of-type {\n",
       "        vertical-align: middle;\n",
       "    }\n",
       "\n",
       "    .dataframe tbody tr th {\n",
       "        vertical-align: top;\n",
       "    }\n",
       "\n",
       "    .dataframe thead th {\n",
       "        text-align: right;\n",
       "    }\n",
       "</style>\n",
       "<table border=\"1\" class=\"dataframe\">\n",
       "  <thead>\n",
       "    <tr style=\"text-align: right;\">\n",
       "      <th></th>\n",
       "      <th>AAA</th>\n",
       "      <th>BBB</th>\n",
       "      <th>CCC</th>\n",
       "    </tr>\n",
       "  </thead>\n",
       "  <tbody>\n",
       "    <tr>\n",
       "      <th>0</th>\n",
       "      <td>8</td>\n",
       "      <td>20</td>\n",
       "      <td>200</td>\n",
       "    </tr>\n",
       "    <tr>\n",
       "      <th>1</th>\n",
       "      <td>10</td>\n",
       "      <td>40</td>\n",
       "      <td>100</td>\n",
       "    </tr>\n",
       "    <tr>\n",
       "      <th>2</th>\n",
       "      <td>12</td>\n",
       "      <td>60</td>\n",
       "      <td>-60</td>\n",
       "    </tr>\n",
       "    <tr>\n",
       "      <th>3</th>\n",
       "      <td>14</td>\n",
       "      <td>80</td>\n",
       "      <td>-100</td>\n",
       "    </tr>\n",
       "  </tbody>\n",
       "</table>\n",
       "</div>"
      ],
      "text/plain": [
       "   AAA  BBB  CCC\n",
       "0    8   20  200\n",
       "1   10   40  100\n",
       "2   12   60  -60\n",
       "3   14   80 -100"
      ]
     },
     "metadata": {},
     "output_type": "display_data"
    },
    {
     "data": {
      "text/html": [
       "<div>\n",
       "<style scoped>\n",
       "    .dataframe tbody tr th:only-of-type {\n",
       "        vertical-align: middle;\n",
       "    }\n",
       "\n",
       "    .dataframe tbody tr th {\n",
       "        vertical-align: top;\n",
       "    }\n",
       "\n",
       "    .dataframe thead th {\n",
       "        text-align: right;\n",
       "    }\n",
       "</style>\n",
       "<table border=\"1\" class=\"dataframe\">\n",
       "  <thead>\n",
       "    <tr style=\"text-align: right;\">\n",
       "      <th></th>\n",
       "      <th>AAA</th>\n",
       "      <th>BBB</th>\n",
       "      <th>CCC</th>\n",
       "    </tr>\n",
       "  </thead>\n",
       "  <tbody>\n",
       "    <tr>\n",
       "      <th>count</th>\n",
       "      <td>4.000000</td>\n",
       "      <td>4.000000</td>\n",
       "      <td>4.000000</td>\n",
       "    </tr>\n",
       "    <tr>\n",
       "      <th>mean</th>\n",
       "      <td>5.500000</td>\n",
       "      <td>25.000000</td>\n",
       "      <td>17.500000</td>\n",
       "    </tr>\n",
       "    <tr>\n",
       "      <th>std</th>\n",
       "      <td>1.290994</td>\n",
       "      <td>12.909944</td>\n",
       "      <td>69.940451</td>\n",
       "    </tr>\n",
       "    <tr>\n",
       "      <th>min</th>\n",
       "      <td>4.000000</td>\n",
       "      <td>10.000000</td>\n",
       "      <td>-50.000000</td>\n",
       "    </tr>\n",
       "    <tr>\n",
       "      <th>25%</th>\n",
       "      <td>4.750000</td>\n",
       "      <td>17.500000</td>\n",
       "      <td>-35.000000</td>\n",
       "    </tr>\n",
       "    <tr>\n",
       "      <th>50%</th>\n",
       "      <td>5.500000</td>\n",
       "      <td>25.000000</td>\n",
       "      <td>10.000000</td>\n",
       "    </tr>\n",
       "    <tr>\n",
       "      <th>75%</th>\n",
       "      <td>6.250000</td>\n",
       "      <td>32.500000</td>\n",
       "      <td>62.500000</td>\n",
       "    </tr>\n",
       "    <tr>\n",
       "      <th>max</th>\n",
       "      <td>7.000000</td>\n",
       "      <td>40.000000</td>\n",
       "      <td>100.000000</td>\n",
       "    </tr>\n",
       "  </tbody>\n",
       "</table>\n",
       "</div>"
      ],
      "text/plain": [
       "            AAA        BBB         CCC\n",
       "count  4.000000   4.000000    4.000000\n",
       "mean   5.500000  25.000000   17.500000\n",
       "std    1.290994  12.909944   69.940451\n",
       "min    4.000000  10.000000  -50.000000\n",
       "25%    4.750000  17.500000  -35.000000\n",
       "50%    5.500000  25.000000   10.000000\n",
       "75%    6.250000  32.500000   62.500000\n",
       "max    7.000000  40.000000  100.000000"
      ]
     },
     "metadata": {},
     "output_type": "display_data"
    }
   ],
   "source": [
    "display(sum(df['AAA'])) # == df['AAA'].sum()\n",
    "display(max(df['AAA'])) # == df['AAA'].max()\n",
    "display(df['AAA'].mean())\n",
    "display(df['AAA'].value_counts()) # series\n",
    "\n",
    "display(df.sum()) # series\n",
    "display(df * 2) # dataframe\n",
    "display(df.describe()) # dataframe"
   ]
  },
  {
   "cell_type": "markdown",
   "metadata": {},
   "source": [
    "## Binary Operation"
   ]
  },
  {
   "cell_type": "code",
   "execution_count": 29,
   "metadata": {},
   "outputs": [
    {
     "data": {
      "text/html": [
       "<div>\n",
       "<style scoped>\n",
       "    .dataframe tbody tr th:only-of-type {\n",
       "        vertical-align: middle;\n",
       "    }\n",
       "\n",
       "    .dataframe tbody tr th {\n",
       "        vertical-align: top;\n",
       "    }\n",
       "\n",
       "    .dataframe thead th {\n",
       "        text-align: right;\n",
       "    }\n",
       "</style>\n",
       "<table border=\"1\" class=\"dataframe\">\n",
       "  <thead>\n",
       "    <tr style=\"text-align: right;\">\n",
       "      <th></th>\n",
       "      <th>AAA</th>\n",
       "      <th>BBB</th>\n",
       "      <th>CCC</th>\n",
       "    </tr>\n",
       "  </thead>\n",
       "  <tbody>\n",
       "    <tr>\n",
       "      <th>0</th>\n",
       "      <td>4</td>\n",
       "      <td>10</td>\n",
       "      <td>100</td>\n",
       "    </tr>\n",
       "    <tr>\n",
       "      <th>1</th>\n",
       "      <td>5</td>\n",
       "      <td>20</td>\n",
       "      <td>50</td>\n",
       "    </tr>\n",
       "    <tr>\n",
       "      <th>2</th>\n",
       "      <td>6</td>\n",
       "      <td>30</td>\n",
       "      <td>-30</td>\n",
       "    </tr>\n",
       "    <tr>\n",
       "      <th>3</th>\n",
       "      <td>7</td>\n",
       "      <td>40</td>\n",
       "      <td>-50</td>\n",
       "    </tr>\n",
       "  </tbody>\n",
       "</table>\n",
       "</div>"
      ],
      "text/plain": [
       "   AAA  BBB  CCC\n",
       "0    4   10  100\n",
       "1    5   20   50\n",
       "2    6   30  -30\n",
       "3    7   40  -50"
      ]
     },
     "metadata": {},
     "output_type": "display_data"
    }
   ],
   "source": [
    "df = pd.DataFrame({'AAA': [4, 5, 6, 7],\n",
    "                   'BBB': [10, 20, 30, 40],\n",
    "                   'CCC': [100, 50, -30, -50]})\n",
    "display(df)"
   ]
  },
  {
   "cell_type": "code",
   "execution_count": 30,
   "metadata": {},
   "outputs": [
    {
     "data": {
      "text/plain": [
       "0    14\n",
       "1    25\n",
       "2    36\n",
       "3    47\n",
       "dtype: int64"
      ]
     },
     "metadata": {},
     "output_type": "display_data"
    },
    {
     "data": {
      "text/plain": [
       "0     40\n",
       "1    100\n",
       "2    180\n",
       "3    280\n",
       "dtype: int64"
      ]
     },
     "metadata": {},
     "output_type": "display_data"
    },
    {
     "data": {
      "text/plain": [
       "0.9759000729485331"
      ]
     },
     "metadata": {},
     "output_type": "display_data"
    }
   ],
   "source": [
    "display(df['AAA'] + df['BBB'])\n",
    "display(df['AAA'] * df['BBB'])\n",
    "\n",
    "import scipy.spatial.distance as distance\n",
    "display(1 - distance.cosine(df['AAA'], df['BBB']))"
   ]
  },
  {
   "cell_type": "markdown",
   "metadata": {},
   "source": [
    "# Iteration\n",
    "\n",
    "\n",
    "do not have to convert to list/dict, Pandas can do iteration - performance"
   ]
  },
  {
   "cell_type": "code",
   "execution_count": 31,
   "metadata": {},
   "outputs": [
    {
     "data": {
      "text/html": [
       "<div>\n",
       "<style scoped>\n",
       "    .dataframe tbody tr th:only-of-type {\n",
       "        vertical-align: middle;\n",
       "    }\n",
       "\n",
       "    .dataframe tbody tr th {\n",
       "        vertical-align: top;\n",
       "    }\n",
       "\n",
       "    .dataframe thead th {\n",
       "        text-align: right;\n",
       "    }\n",
       "</style>\n",
       "<table border=\"1\" class=\"dataframe\">\n",
       "  <thead>\n",
       "    <tr style=\"text-align: right;\">\n",
       "      <th></th>\n",
       "      <th>AAA</th>\n",
       "      <th>BBB</th>\n",
       "      <th>CCC</th>\n",
       "    </tr>\n",
       "  </thead>\n",
       "  <tbody>\n",
       "    <tr>\n",
       "      <th>0</th>\n",
       "      <td>4</td>\n",
       "      <td>10</td>\n",
       "      <td>100</td>\n",
       "    </tr>\n",
       "    <tr>\n",
       "      <th>1</th>\n",
       "      <td>5</td>\n",
       "      <td>20</td>\n",
       "      <td>50</td>\n",
       "    </tr>\n",
       "    <tr>\n",
       "      <th>2</th>\n",
       "      <td>6</td>\n",
       "      <td>30</td>\n",
       "      <td>-30</td>\n",
       "    </tr>\n",
       "    <tr>\n",
       "      <th>3</th>\n",
       "      <td>7</td>\n",
       "      <td>40</td>\n",
       "      <td>-50</td>\n",
       "    </tr>\n",
       "  </tbody>\n",
       "</table>\n",
       "</div>"
      ],
      "text/plain": [
       "   AAA  BBB  CCC\n",
       "0    4   10  100\n",
       "1    5   20   50\n",
       "2    6   30  -30\n",
       "3    7   40  -50"
      ]
     },
     "metadata": {},
     "output_type": "display_data"
    }
   ],
   "source": [
    "df = pd.DataFrame({'AAA': [4, 5, 6, 7],\n",
    "                   'BBB': [10, 20, 30, 40],\n",
    "                   'CCC': [100, 50, -30, -50]})\n",
    "display(df)"
   ]
  },
  {
   "cell_type": "markdown",
   "metadata": {},
   "source": [
    "## Along axis"
   ]
  },
  {
   "cell_type": "code",
   "execution_count": 32,
   "metadata": {},
   "outputs": [
    {
     "name": "stdout",
     "output_type": "stream",
     "text": [
      "AAA\n",
      "BBB\n",
      "CCC\n"
     ]
    }
   ],
   "source": [
    "for col in df:\n",
    "    print(col)"
   ]
  },
  {
   "cell_type": "code",
   "execution_count": 33,
   "metadata": {},
   "outputs": [
    {
     "name": "stdout",
     "output_type": "stream",
     "text": [
      "AAA\n",
      "0    4\n",
      "1    5\n",
      "2    6\n",
      "3    7\n",
      "Name: AAA, dtype: int64\n",
      "BBB\n",
      "0    10\n",
      "1    20\n",
      "2    30\n",
      "3    40\n",
      "Name: BBB, dtype: int64\n",
      "CCC\n",
      "0    100\n",
      "1     50\n",
      "2    -30\n",
      "3    -50\n",
      "Name: CCC, dtype: int64\n"
     ]
    }
   ],
   "source": [
    "for columns, series in df.iteritems():\n",
    "    print(columns)\n",
    "    print(series)"
   ]
  },
  {
   "cell_type": "code",
   "execution_count": 34,
   "metadata": {},
   "outputs": [
    {
     "name": "stdout",
     "output_type": "stream",
     "text": [
      "0\n",
      "AAA      4\n",
      "BBB     10\n",
      "CCC    100\n",
      "Name: 0, dtype: int64\n",
      "1\n",
      "AAA     5\n",
      "BBB    20\n",
      "CCC    50\n",
      "Name: 1, dtype: int64\n",
      "2\n",
      "AAA     6\n",
      "BBB    30\n",
      "CCC   -30\n",
      "Name: 2, dtype: int64\n",
      "3\n",
      "AAA     7\n",
      "BBB    40\n",
      "CCC   -50\n",
      "Name: 3, dtype: int64\n",
      "Pandas(Index=0, AAA=4, BBB=10, CCC=100)\n",
      "Pandas(Index=1, AAA=5, BBB=20, CCC=50)\n",
      "Pandas(Index=2, AAA=6, BBB=30, CCC=-30)\n",
      "Pandas(Index=3, AAA=7, BBB=40, CCC=-50)\n"
     ]
    }
   ],
   "source": [
    "for index, series in df.iterrows():\n",
    "    print(index)\n",
    "    print(series)\n",
    "\n",
    "for row in df.itertuples():\n",
    "    print(row)"
   ]
  },
  {
   "cell_type": "markdown",
   "metadata": {},
   "source": [
    "## Apply / Map"
   ]
  },
  {
   "cell_type": "markdown",
   "metadata": {},
   "source": [
    "- `map` works element-wise on a Series.\n",
    "- `applymap` works element-wise on a DataFrame\n",
    "- `apply` works on a row / column basis of a DataFrame (`df.apply()`), also works on series(`sr.apply()`)\n",
    "    - If func returns a scalar or a list, `apply(func)` returns a Series.\n",
    "    - If func returns a Series, `apply(func)` returns a DataFrame.\n",
    "\n",
    "\n",
    "- https://pandas.pydata.org/pandas-docs/stable/reference/api/pandas.Series.map.html\n",
    "- https://pandas.pydata.org/pandas-docs/stable/reference/api/pandas.DataFrame.applymap.html\n",
    "- https://pandas.pydata.org/pandas-docs/stable/reference/api/pandas.DataFrame.apply.html\n",
    "- https://pandas.pydata.org/pandas-docs/stable/reference/api/pandas.Series.apply.html\n"
   ]
  },
  {
   "cell_type": "code",
   "execution_count": 35,
   "metadata": {},
   "outputs": [
    {
     "data": {
      "text/html": [
       "<div>\n",
       "<style scoped>\n",
       "    .dataframe tbody tr th:only-of-type {\n",
       "        vertical-align: middle;\n",
       "    }\n",
       "\n",
       "    .dataframe tbody tr th {\n",
       "        vertical-align: top;\n",
       "    }\n",
       "\n",
       "    .dataframe thead th {\n",
       "        text-align: right;\n",
       "    }\n",
       "</style>\n",
       "<table border=\"1\" class=\"dataframe\">\n",
       "  <thead>\n",
       "    <tr style=\"text-align: right;\">\n",
       "      <th></th>\n",
       "      <th>AAA</th>\n",
       "      <th>BBB</th>\n",
       "      <th>CCC</th>\n",
       "    </tr>\n",
       "  </thead>\n",
       "  <tbody>\n",
       "    <tr>\n",
       "      <th>0</th>\n",
       "      <td>4</td>\n",
       "      <td>10</td>\n",
       "      <td>100</td>\n",
       "    </tr>\n",
       "    <tr>\n",
       "      <th>1</th>\n",
       "      <td>5</td>\n",
       "      <td>20</td>\n",
       "      <td>50</td>\n",
       "    </tr>\n",
       "    <tr>\n",
       "      <th>2</th>\n",
       "      <td>6</td>\n",
       "      <td>30</td>\n",
       "      <td>-30</td>\n",
       "    </tr>\n",
       "    <tr>\n",
       "      <th>3</th>\n",
       "      <td>7</td>\n",
       "      <td>40</td>\n",
       "      <td>-50</td>\n",
       "    </tr>\n",
       "  </tbody>\n",
       "</table>\n",
       "</div>"
      ],
      "text/plain": [
       "   AAA  BBB  CCC\n",
       "0    4   10  100\n",
       "1    5   20   50\n",
       "2    6   30  -30\n",
       "3    7   40  -50"
      ]
     },
     "metadata": {},
     "output_type": "display_data"
    },
    {
     "data": {
      "text/plain": [
       "0    2.000000\n",
       "1    2.236068\n",
       "2    2.449490\n",
       "3    2.645751\n",
       "Name: AAA, dtype: float64"
      ]
     },
     "metadata": {},
     "output_type": "display_data"
    },
    {
     "data": {
      "text/html": [
       "<div>\n",
       "<style scoped>\n",
       "    .dataframe tbody tr th:only-of-type {\n",
       "        vertical-align: middle;\n",
       "    }\n",
       "\n",
       "    .dataframe tbody tr th {\n",
       "        vertical-align: top;\n",
       "    }\n",
       "\n",
       "    .dataframe thead th {\n",
       "        text-align: right;\n",
       "    }\n",
       "</style>\n",
       "<table border=\"1\" class=\"dataframe\">\n",
       "  <thead>\n",
       "    <tr style=\"text-align: right;\">\n",
       "      <th></th>\n",
       "      <th>AAA</th>\n",
       "      <th>BBB</th>\n",
       "      <th>CCC</th>\n",
       "    </tr>\n",
       "  </thead>\n",
       "  <tbody>\n",
       "    <tr>\n",
       "      <th>0</th>\n",
       "      <td>2.000000</td>\n",
       "      <td>3.162278</td>\n",
       "      <td>10.000000</td>\n",
       "    </tr>\n",
       "    <tr>\n",
       "      <th>1</th>\n",
       "      <td>2.236068</td>\n",
       "      <td>4.472136</td>\n",
       "      <td>7.071068</td>\n",
       "    </tr>\n",
       "    <tr>\n",
       "      <th>2</th>\n",
       "      <td>2.449490</td>\n",
       "      <td>5.477226</td>\n",
       "      <td>NaN</td>\n",
       "    </tr>\n",
       "    <tr>\n",
       "      <th>3</th>\n",
       "      <td>2.645751</td>\n",
       "      <td>6.324555</td>\n",
       "      <td>NaN</td>\n",
       "    </tr>\n",
       "  </tbody>\n",
       "</table>\n",
       "</div>"
      ],
      "text/plain": [
       "        AAA       BBB        CCC\n",
       "0  2.000000  3.162278  10.000000\n",
       "1  2.236068  4.472136   7.071068\n",
       "2  2.449490  5.477226        NaN\n",
       "3  2.645751  6.324555        NaN"
      ]
     },
     "metadata": {},
     "output_type": "display_data"
    }
   ],
   "source": [
    "import math\n",
    "\n",
    "df = pd.DataFrame({'AAA': [4, 5, 6, 7],\n",
    "                   'BBB': [10, 20, 30, 40],\n",
    "                   'CCC': [100, 50, -30, -50]})\n",
    "display(df)\n",
    "display(df['AAA'].apply(math.sqrt))\n",
    "display(df.apply(np.sqrt, axis=0))"
   ]
  },
  {
   "cell_type": "code",
   "execution_count": 36,
   "metadata": {},
   "outputs": [
    {
     "data": {
      "text/html": [
       "<div>\n",
       "<style scoped>\n",
       "    .dataframe tbody tr th:only-of-type {\n",
       "        vertical-align: middle;\n",
       "    }\n",
       "\n",
       "    .dataframe tbody tr th {\n",
       "        vertical-align: top;\n",
       "    }\n",
       "\n",
       "    .dataframe thead th {\n",
       "        text-align: right;\n",
       "    }\n",
       "</style>\n",
       "<table border=\"1\" class=\"dataframe\">\n",
       "  <thead>\n",
       "    <tr style=\"text-align: right;\">\n",
       "      <th></th>\n",
       "      <th>0</th>\n",
       "      <th>1</th>\n",
       "      <th>2</th>\n",
       "      <th>3</th>\n",
       "      <th>4</th>\n",
       "    </tr>\n",
       "  </thead>\n",
       "  <tbody>\n",
       "    <tr>\n",
       "      <th>0</th>\n",
       "      <td>4</td>\n",
       "      <td>4</td>\n",
       "      <td>4</td>\n",
       "      <td>4</td>\n",
       "      <td>4</td>\n",
       "    </tr>\n",
       "    <tr>\n",
       "      <th>1</th>\n",
       "      <td>5</td>\n",
       "      <td>5</td>\n",
       "      <td>5</td>\n",
       "      <td>5</td>\n",
       "      <td>5</td>\n",
       "    </tr>\n",
       "    <tr>\n",
       "      <th>2</th>\n",
       "      <td>6</td>\n",
       "      <td>6</td>\n",
       "      <td>6</td>\n",
       "      <td>6</td>\n",
       "      <td>6</td>\n",
       "    </tr>\n",
       "    <tr>\n",
       "      <th>3</th>\n",
       "      <td>7</td>\n",
       "      <td>7</td>\n",
       "      <td>7</td>\n",
       "      <td>7</td>\n",
       "      <td>7</td>\n",
       "    </tr>\n",
       "  </tbody>\n",
       "</table>\n",
       "</div>"
      ],
      "text/plain": [
       "   0  1  2  3  4\n",
       "0  4  4  4  4  4\n",
       "1  5  5  5  5  5\n",
       "2  6  6  6  6  6\n",
       "3  7  7  7  7  7"
      ]
     },
     "metadata": {},
     "output_type": "display_data"
    },
    {
     "data": {
      "text/plain": [
       "AAA      5\n",
       "BBB     11\n",
       "CCC    101\n",
       "dtype: int64"
      ]
     },
     "metadata": {},
     "output_type": "display_data"
    },
    {
     "data": {
      "text/html": [
       "<div>\n",
       "<style scoped>\n",
       "    .dataframe tbody tr th:only-of-type {\n",
       "        vertical-align: middle;\n",
       "    }\n",
       "\n",
       "    .dataframe tbody tr th {\n",
       "        vertical-align: top;\n",
       "    }\n",
       "\n",
       "    .dataframe thead th {\n",
       "        text-align: right;\n",
       "    }\n",
       "</style>\n",
       "<table border=\"1\" class=\"dataframe\">\n",
       "  <thead>\n",
       "    <tr style=\"text-align: right;\">\n",
       "      <th></th>\n",
       "      <th>AAA</th>\n",
       "      <th>BBB</th>\n",
       "      <th>CCC</th>\n",
       "    </tr>\n",
       "  </thead>\n",
       "  <tbody>\n",
       "    <tr>\n",
       "      <th>0</th>\n",
       "      <td>4</td>\n",
       "      <td>10</td>\n",
       "      <td>100</td>\n",
       "    </tr>\n",
       "    <tr>\n",
       "      <th>1</th>\n",
       "      <td>5</td>\n",
       "      <td>20</td>\n",
       "      <td>50</td>\n",
       "    </tr>\n",
       "    <tr>\n",
       "      <th>2</th>\n",
       "      <td>6</td>\n",
       "      <td>30</td>\n",
       "      <td>-30</td>\n",
       "    </tr>\n",
       "    <tr>\n",
       "      <th>3</th>\n",
       "      <td>7</td>\n",
       "      <td>40</td>\n",
       "      <td>-50</td>\n",
       "    </tr>\n",
       "  </tbody>\n",
       "</table>\n",
       "</div>"
      ],
      "text/plain": [
       "   AAA  BBB  CCC\n",
       "0    4   10  100\n",
       "1    5   20   50\n",
       "2    6   30  -30\n",
       "3    7   40  -50"
      ]
     },
     "metadata": {},
     "output_type": "display_data"
    },
    {
     "data": {
      "text/plain": [
       "0    5\n",
       "1    6\n",
       "2    7\n",
       "3    8\n",
       "dtype: int64"
      ]
     },
     "metadata": {},
     "output_type": "display_data"
    },
    {
     "data": {
      "text/plain": [
       "0    14\n",
       "1    25\n",
       "2    36\n",
       "3    47\n",
       "dtype: int64"
      ]
     },
     "metadata": {},
     "output_type": "display_data"
    },
    {
     "data": {
      "text/plain": [
       "0    100\n",
       "1     50\n",
       "2     30\n",
       "3     40\n",
       "dtype: int64"
      ]
     },
     "metadata": {},
     "output_type": "display_data"
    }
   ],
   "source": [
    "# apply + lambda\n",
    "\n",
    "display(df['AAA'].apply(lambda x: pd.Series([x] * 5)))\n",
    "display(df.apply(lambda x: x.loc[0] + 1, axis=0)) # index (row), axis=0\n",
    "display(df.apply(lambda x: x, axis=1)) # column, axis=1\n",
    "display(df.apply(lambda x: x.loc['AAA'] + 1, axis=1)) # column\n",
    "display(df.apply(lambda x: x.loc['AAA'] + x.loc['BBB'], axis=1)) # multi-columns, same as: df['AAA'] + df['BBB']\n",
    "display(df.apply(lambda x: max([x['BBB'], x['CCC']]), axis=1))"
   ]
  },
  {
   "cell_type": "code",
   "execution_count": 37,
   "metadata": {},
   "outputs": [
    {
     "data": {
      "text/html": [
       "<div>\n",
       "<style scoped>\n",
       "    .dataframe tbody tr th:only-of-type {\n",
       "        vertical-align: middle;\n",
       "    }\n",
       "\n",
       "    .dataframe tbody tr th {\n",
       "        vertical-align: top;\n",
       "    }\n",
       "\n",
       "    .dataframe thead th {\n",
       "        text-align: right;\n",
       "    }\n",
       "</style>\n",
       "<table border=\"1\" class=\"dataframe\">\n",
       "  <thead>\n",
       "    <tr style=\"text-align: right;\">\n",
       "      <th></th>\n",
       "      <th>AAA</th>\n",
       "      <th>BBB</th>\n",
       "      <th>CCC</th>\n",
       "    </tr>\n",
       "  </thead>\n",
       "  <tbody>\n",
       "    <tr>\n",
       "      <th>0</th>\n",
       "      <td>4</td>\n",
       "      <td>10</td>\n",
       "      <td>100</td>\n",
       "    </tr>\n",
       "    <tr>\n",
       "      <th>1</th>\n",
       "      <td>5</td>\n",
       "      <td>20</td>\n",
       "      <td>50</td>\n",
       "    </tr>\n",
       "    <tr>\n",
       "      <th>2</th>\n",
       "      <td>6</td>\n",
       "      <td>30</td>\n",
       "      <td>-30</td>\n",
       "    </tr>\n",
       "    <tr>\n",
       "      <th>3</th>\n",
       "      <td>7</td>\n",
       "      <td>40</td>\n",
       "      <td>-50</td>\n",
       "    </tr>\n",
       "  </tbody>\n",
       "</table>\n",
       "</div>"
      ],
      "text/plain": [
       "   AAA  BBB  CCC\n",
       "0    4   10  100\n",
       "1    5   20   50\n",
       "2    6   30  -30\n",
       "3    7   40  -50"
      ]
     },
     "metadata": {},
     "output_type": "display_data"
    },
    {
     "data": {
      "text/html": [
       "<div>\n",
       "<style scoped>\n",
       "    .dataframe tbody tr th:only-of-type {\n",
       "        vertical-align: middle;\n",
       "    }\n",
       "\n",
       "    .dataframe tbody tr th {\n",
       "        vertical-align: top;\n",
       "    }\n",
       "\n",
       "    .dataframe thead th {\n",
       "        text-align: right;\n",
       "    }\n",
       "</style>\n",
       "<table border=\"1\" class=\"dataframe\">\n",
       "  <thead>\n",
       "    <tr style=\"text-align: right;\">\n",
       "      <th></th>\n",
       "      <th>AAA</th>\n",
       "      <th>BBB</th>\n",
       "      <th>CCC</th>\n",
       "    </tr>\n",
       "  </thead>\n",
       "  <tbody>\n",
       "    <tr>\n",
       "      <th>0</th>\n",
       "      <td>4</td>\n",
       "      <td>10</td>\n",
       "      <td>1.0</td>\n",
       "    </tr>\n",
       "    <tr>\n",
       "      <th>1</th>\n",
       "      <td>5</td>\n",
       "      <td>20</td>\n",
       "      <td>0.5</td>\n",
       "    </tr>\n",
       "    <tr>\n",
       "      <th>2</th>\n",
       "      <td>6</td>\n",
       "      <td>30</td>\n",
       "      <td>-0.3</td>\n",
       "    </tr>\n",
       "    <tr>\n",
       "      <th>3</th>\n",
       "      <td>7</td>\n",
       "      <td>40</td>\n",
       "      <td>-0.5</td>\n",
       "    </tr>\n",
       "  </tbody>\n",
       "</table>\n",
       "</div>"
      ],
      "text/plain": [
       "   AAA  BBB  CCC\n",
       "0    4   10  1.0\n",
       "1    5   20  0.5\n",
       "2    6   30 -0.3\n",
       "3    7   40 -0.5"
      ]
     },
     "metadata": {},
     "output_type": "display_data"
    }
   ],
   "source": [
    "# Normalize\n",
    "\n",
    "df = pd.DataFrame({'AAA': [4, 5, 6, 7],\n",
    "                   'BBB': [10, 20, 30, 40],\n",
    "                   'CCC': [100, 50, -30, -50]})\n",
    "display(df)\n",
    "df['CCC'] = df['CCC'].apply(lambda x: x/max(df['CCC'])) \n",
    "display(df)"
   ]
  },
  {
   "cell_type": "markdown",
   "metadata": {},
   "source": [
    "### Apply with Progress Bar"
   ]
  },
  {
   "cell_type": "code",
   "execution_count": 38,
   "metadata": {},
   "outputs": [
    {
     "name": "stderr",
     "output_type": "stream",
     "text": [
      "100%|██████████| 4/4 [00:00<00:00, 2043.26it/s]\n"
     ]
    },
    {
     "data": {
      "text/plain": [
       "0    10.0\n",
       "1    20.0\n",
       "2    30.0\n",
       "3    40.0\n",
       "dtype: float64"
      ]
     },
     "execution_count": 38,
     "metadata": {},
     "output_type": "execute_result"
    }
   ],
   "source": [
    "from tqdm import tqdm\n",
    "\n",
    "tqdm.pandas()\n",
    "\n",
    "df.progress_apply(lambda x: max([x['BBB'], x['CCC']]), axis=1)"
   ]
  },
  {
   "cell_type": "code",
   "execution_count": 39,
   "metadata": {},
   "outputs": [
    {
     "name": "stderr",
     "output_type": "stream",
     "text": [
      "/root/anaconda3/lib/python3.7/site-packages/tqdm/autonotebook/__init__.py:14: TqdmExperimentalWarning: Using `tqdm.autonotebook.tqdm` in notebook mode. Use `tqdm.tqdm` instead to force console mode (e.g. in jupyter console)\n",
      "  \" (e.g. in jupyter console)\", TqdmExperimentalWarning)\n"
     ]
    },
    {
     "data": {
      "application/vnd.jupyter.widget-view+json": {
       "model_id": "75d76984e5ff4d6fa6ed5f74d3c5caa6",
       "version_major": 2,
       "version_minor": 0
      },
      "text/plain": [
       "HBox(children=(IntProgress(value=0, max=4), HTML(value='')))"
      ]
     },
     "metadata": {},
     "output_type": "display_data"
    },
    {
     "name": "stdout",
     "output_type": "stream",
     "text": [
      "\n"
     ]
    },
    {
     "data": {
      "text/plain": [
       "0    10.0\n",
       "1    20.0\n",
       "2    30.0\n",
       "3    40.0\n",
       "dtype: float64"
      ]
     },
     "execution_count": 39,
     "metadata": {},
     "output_type": "execute_result"
    }
   ],
   "source": [
    "from tqdm.autonotebook import tqdm\n",
    "\n",
    "tqdm.pandas()\n",
    "\n",
    "df.progress_apply(lambda x: max([x['BBB'], x['CCC']]), axis=1)"
   ]
  },
  {
   "cell_type": "markdown",
   "metadata": {},
   "source": [
    "## Group\n",
    "\n",
    "1. Splitting the data into groups based on some criteria\n",
    "2. Applying a function to each group independently\n",
    "3. Combining the results into a data structure\n",
    "\n",
    "\n",
    "- https://pandas.pydata.org/pandas-docs/stable/reference/groupby.html\n",
    "- https://pandas.pydata.org/pandas-docs/stable/user_guide/groupby.html"
   ]
  },
  {
   "cell_type": "markdown",
   "metadata": {},
   "source": [
    "### Structure"
   ]
  },
  {
   "cell_type": "code",
   "execution_count": 40,
   "metadata": {},
   "outputs": [
    {
     "data": {
      "text/html": [
       "<div>\n",
       "<style scoped>\n",
       "    .dataframe tbody tr th:only-of-type {\n",
       "        vertical-align: middle;\n",
       "    }\n",
       "\n",
       "    .dataframe tbody tr th {\n",
       "        vertical-align: top;\n",
       "    }\n",
       "\n",
       "    .dataframe thead th {\n",
       "        text-align: right;\n",
       "    }\n",
       "</style>\n",
       "<table border=\"1\" class=\"dataframe\">\n",
       "  <thead>\n",
       "    <tr style=\"text-align: right;\">\n",
       "      <th></th>\n",
       "      <th>AAA</th>\n",
       "      <th>BBB</th>\n",
       "      <th>CCC</th>\n",
       "    </tr>\n",
       "  </thead>\n",
       "  <tbody>\n",
       "    <tr>\n",
       "      <th>0</th>\n",
       "      <td>1</td>\n",
       "      <td>1</td>\n",
       "      <td>0</td>\n",
       "    </tr>\n",
       "    <tr>\n",
       "      <th>1</th>\n",
       "      <td>2</td>\n",
       "      <td>20</td>\n",
       "      <td>50</td>\n",
       "    </tr>\n",
       "    <tr>\n",
       "      <th>2</th>\n",
       "      <td>8</td>\n",
       "      <td>30</td>\n",
       "      <td>-30</td>\n",
       "    </tr>\n",
       "    <tr>\n",
       "      <th>3</th>\n",
       "      <td>2</td>\n",
       "      <td>40</td>\n",
       "      <td>-50</td>\n",
       "    </tr>\n",
       "  </tbody>\n",
       "</table>\n",
       "</div>"
      ],
      "text/plain": [
       "   AAA  BBB  CCC\n",
       "0    1    1    0\n",
       "1    2   20   50\n",
       "2    8   30  -30\n",
       "3    2   40  -50"
      ]
     },
     "metadata": {},
     "output_type": "display_data"
    },
    {
     "name": "stdout",
     "output_type": "stream",
     "text": [
      "<class 'pandas.core.groupby.generic.DataFrameGroupBy'>\n",
      "<pandas.core.groupby.generic.DataFrameGroupBy object at 0x7fd539a2ee80>\n",
      "------------\n",
      "{1: Int64Index([0], dtype='int64'), 2: Int64Index([1, 3], dtype='int64'), 8: Int64Index([2], dtype='int64')}\n",
      "Int64Index([2], dtype='int64')\n"
     ]
    }
   ],
   "source": [
    "df = pd.DataFrame({'AAA': [1, 2, 8, 2],\n",
    "                   'BBB': [1, 20, 30, 40],\n",
    "                   'CCC': [0, 50, -30, -50]})\n",
    "display(df)\n",
    "\n",
    "grouped = df.groupby('AAA')\n",
    "print(type(grouped))\n",
    "print(grouped)\n",
    "\n",
    "print('------------')\n",
    "\n",
    "print(grouped.groups)\n",
    "print(grouped.groups[8])"
   ]
  },
  {
   "cell_type": "markdown",
   "metadata": {},
   "source": [
    "### Iteration\n"
   ]
  },
  {
   "cell_type": "code",
   "execution_count": 41,
   "metadata": {},
   "outputs": [
    {
     "name": "stdout",
     "output_type": "stream",
     "text": [
      "1\n",
      "<class 'pandas.core.frame.DataFrame'>    AAA  BBB  CCC\n",
      "0    1    1    0\n",
      "2\n",
      "<class 'pandas.core.frame.DataFrame'>    AAA  BBB  CCC\n",
      "1    2   20   50\n",
      "3    2   40  -50\n",
      "8\n",
      "<class 'pandas.core.frame.DataFrame'>    AAA  BBB  CCC\n",
      "2    8   30  -30\n"
     ]
    }
   ],
   "source": [
    "for name, data in grouped: # iterated as tuple(name, data)\n",
    "    print(name)\n",
    "    print(type(data), data)"
   ]
  },
  {
   "cell_type": "markdown",
   "metadata": {},
   "source": [
    "### Grouped by Time Period"
   ]
  },
  {
   "cell_type": "code",
   "execution_count": 42,
   "metadata": {},
   "outputs": [
    {
     "data": {
      "text/html": [
       "<div>\n",
       "<style scoped>\n",
       "    .dataframe tbody tr th:only-of-type {\n",
       "        vertical-align: middle;\n",
       "    }\n",
       "\n",
       "    .dataframe tbody tr th {\n",
       "        vertical-align: top;\n",
       "    }\n",
       "\n",
       "    .dataframe thead th {\n",
       "        text-align: right;\n",
       "    }\n",
       "</style>\n",
       "<table border=\"1\" class=\"dataframe\">\n",
       "  <thead>\n",
       "    <tr style=\"text-align: right;\">\n",
       "      <th></th>\n",
       "      <th>A</th>\n",
       "      <th>B</th>\n",
       "      <th>C</th>\n",
       "      <th>D</th>\n",
       "    </tr>\n",
       "  </thead>\n",
       "  <tbody>\n",
       "    <tr>\n",
       "      <th>2000-01-10</th>\n",
       "      <td>1.879183</td>\n",
       "      <td>-0.282015</td>\n",
       "      <td>-0.812072</td>\n",
       "      <td>0.774624</td>\n",
       "    </tr>\n",
       "    <tr>\n",
       "      <th>2000-01-11</th>\n",
       "      <td>-0.430260</td>\n",
       "      <td>-0.766843</td>\n",
       "      <td>0.880136</td>\n",
       "      <td>0.117777</td>\n",
       "    </tr>\n",
       "    <tr>\n",
       "      <th>2000-01-12</th>\n",
       "      <td>1.550647</td>\n",
       "      <td>0.863026</td>\n",
       "      <td>0.773138</td>\n",
       "      <td>0.448203</td>\n",
       "    </tr>\n",
       "    <tr>\n",
       "      <th>2000-01-13</th>\n",
       "      <td>0.047851</td>\n",
       "      <td>-1.312712</td>\n",
       "      <td>-0.319924</td>\n",
       "      <td>-0.250159</td>\n",
       "    </tr>\n",
       "    <tr>\n",
       "      <th>2000-01-14</th>\n",
       "      <td>0.408329</td>\n",
       "      <td>-0.188547</td>\n",
       "      <td>0.592483</td>\n",
       "      <td>1.566940</td>\n",
       "    </tr>\n",
       "    <tr>\n",
       "      <th>2000-01-15</th>\n",
       "      <td>-0.983973</td>\n",
       "      <td>-1.601270</td>\n",
       "      <td>-0.662061</td>\n",
       "      <td>0.656442</td>\n",
       "    </tr>\n",
       "    <tr>\n",
       "      <th>2000-01-16</th>\n",
       "      <td>1.708260</td>\n",
       "      <td>-0.412328</td>\n",
       "      <td>-0.125563</td>\n",
       "      <td>0.519124</td>\n",
       "    </tr>\n",
       "    <tr>\n",
       "      <th>2000-01-17</th>\n",
       "      <td>0.126432</td>\n",
       "      <td>-0.805028</td>\n",
       "      <td>1.057307</td>\n",
       "      <td>-0.642352</td>\n",
       "    </tr>\n",
       "    <tr>\n",
       "      <th>2000-01-18</th>\n",
       "      <td>-0.901246</td>\n",
       "      <td>-2.330404</td>\n",
       "      <td>0.775472</td>\n",
       "      <td>-0.280216</td>\n",
       "    </tr>\n",
       "    <tr>\n",
       "      <th>2000-01-19</th>\n",
       "      <td>-1.515402</td>\n",
       "      <td>-0.355997</td>\n",
       "      <td>0.073722</td>\n",
       "      <td>1.600156</td>\n",
       "    </tr>\n",
       "    <tr>\n",
       "      <th>2000-01-20</th>\n",
       "      <td>2.077658</td>\n",
       "      <td>-1.820557</td>\n",
       "      <td>-0.456590</td>\n",
       "      <td>0.269721</td>\n",
       "    </tr>\n",
       "    <tr>\n",
       "      <th>2000-01-21</th>\n",
       "      <td>-1.046665</td>\n",
       "      <td>-0.992133</td>\n",
       "      <td>0.481277</td>\n",
       "      <td>-0.147215</td>\n",
       "    </tr>\n",
       "    <tr>\n",
       "      <th>2000-01-22</th>\n",
       "      <td>-0.480208</td>\n",
       "      <td>-0.427384</td>\n",
       "      <td>-0.000824</td>\n",
       "      <td>0.826097</td>\n",
       "    </tr>\n",
       "    <tr>\n",
       "      <th>2000-01-23</th>\n",
       "      <td>-0.631563</td>\n",
       "      <td>1.368086</td>\n",
       "      <td>-1.347121</td>\n",
       "      <td>-2.345722</td>\n",
       "    </tr>\n",
       "    <tr>\n",
       "      <th>2000-01-24</th>\n",
       "      <td>0.140738</td>\n",
       "      <td>-0.412111</td>\n",
       "      <td>0.571476</td>\n",
       "      <td>-0.456314</td>\n",
       "    </tr>\n",
       "    <tr>\n",
       "      <th>2000-01-25</th>\n",
       "      <td>-1.130528</td>\n",
       "      <td>0.290524</td>\n",
       "      <td>0.711561</td>\n",
       "      <td>0.562747</td>\n",
       "    </tr>\n",
       "    <tr>\n",
       "      <th>2000-01-26</th>\n",
       "      <td>0.440369</td>\n",
       "      <td>-2.498611</td>\n",
       "      <td>0.419082</td>\n",
       "      <td>-1.681362</td>\n",
       "    </tr>\n",
       "    <tr>\n",
       "      <th>2000-01-27</th>\n",
       "      <td>0.529171</td>\n",
       "      <td>0.221156</td>\n",
       "      <td>0.160933</td>\n",
       "      <td>-0.005621</td>\n",
       "    </tr>\n",
       "    <tr>\n",
       "      <th>2000-01-28</th>\n",
       "      <td>1.415482</td>\n",
       "      <td>1.032559</td>\n",
       "      <td>0.483723</td>\n",
       "      <td>0.933316</td>\n",
       "    </tr>\n",
       "    <tr>\n",
       "      <th>2000-01-29</th>\n",
       "      <td>0.152102</td>\n",
       "      <td>-0.158823</td>\n",
       "      <td>0.167715</td>\n",
       "      <td>-1.826133</td>\n",
       "    </tr>\n",
       "    <tr>\n",
       "      <th>2000-01-30</th>\n",
       "      <td>-0.027573</td>\n",
       "      <td>0.742606</td>\n",
       "      <td>-0.788746</td>\n",
       "      <td>1.646971</td>\n",
       "    </tr>\n",
       "    <tr>\n",
       "      <th>2000-01-31</th>\n",
       "      <td>-0.668336</td>\n",
       "      <td>1.593356</td>\n",
       "      <td>0.383978</td>\n",
       "      <td>-0.391833</td>\n",
       "    </tr>\n",
       "    <tr>\n",
       "      <th>2000-02-01</th>\n",
       "      <td>1.285738</td>\n",
       "      <td>0.329043</td>\n",
       "      <td>1.041265</td>\n",
       "      <td>-0.819866</td>\n",
       "    </tr>\n",
       "    <tr>\n",
       "      <th>2000-02-02</th>\n",
       "      <td>0.780435</td>\n",
       "      <td>-1.380364</td>\n",
       "      <td>-1.673513</td>\n",
       "      <td>1.477997</td>\n",
       "    </tr>\n",
       "    <tr>\n",
       "      <th>2000-02-03</th>\n",
       "      <td>-0.249775</td>\n",
       "      <td>-1.687410</td>\n",
       "      <td>-0.036901</td>\n",
       "      <td>-0.168110</td>\n",
       "    </tr>\n",
       "    <tr>\n",
       "      <th>2000-02-04</th>\n",
       "      <td>0.441963</td>\n",
       "      <td>0.661410</td>\n",
       "      <td>0.040005</td>\n",
       "      <td>0.658418</td>\n",
       "    </tr>\n",
       "    <tr>\n",
       "      <th>2000-02-05</th>\n",
       "      <td>-0.467108</td>\n",
       "      <td>-0.945761</td>\n",
       "      <td>-0.036857</td>\n",
       "      <td>-0.222480</td>\n",
       "    </tr>\n",
       "    <tr>\n",
       "      <th>2000-02-06</th>\n",
       "      <td>-0.860951</td>\n",
       "      <td>-1.898914</td>\n",
       "      <td>0.713060</td>\n",
       "      <td>-0.206733</td>\n",
       "    </tr>\n",
       "    <tr>\n",
       "      <th>2000-02-07</th>\n",
       "      <td>0.421550</td>\n",
       "      <td>0.013269</td>\n",
       "      <td>-0.125181</td>\n",
       "      <td>1.173027</td>\n",
       "    </tr>\n",
       "    <tr>\n",
       "      <th>2000-02-08</th>\n",
       "      <td>-1.557519</td>\n",
       "      <td>-0.231209</td>\n",
       "      <td>-1.347163</td>\n",
       "      <td>0.348486</td>\n",
       "    </tr>\n",
       "    <tr>\n",
       "      <th>2000-02-09</th>\n",
       "      <td>1.093544</td>\n",
       "      <td>0.347288</td>\n",
       "      <td>0.778088</td>\n",
       "      <td>-0.210887</td>\n",
       "    </tr>\n",
       "    <tr>\n",
       "      <th>2000-02-10</th>\n",
       "      <td>-1.007827</td>\n",
       "      <td>1.198809</td>\n",
       "      <td>-0.616618</td>\n",
       "      <td>0.559148</td>\n",
       "    </tr>\n",
       "    <tr>\n",
       "      <th>2000-02-11</th>\n",
       "      <td>1.685716</td>\n",
       "      <td>0.769161</td>\n",
       "      <td>-0.522652</td>\n",
       "      <td>1.040180</td>\n",
       "    </tr>\n",
       "    <tr>\n",
       "      <th>2000-02-12</th>\n",
       "      <td>0.732024</td>\n",
       "      <td>-0.233874</td>\n",
       "      <td>-0.729638</td>\n",
       "      <td>0.183623</td>\n",
       "    </tr>\n",
       "    <tr>\n",
       "      <th>2000-02-13</th>\n",
       "      <td>0.469342</td>\n",
       "      <td>-0.074991</td>\n",
       "      <td>1.551511</td>\n",
       "      <td>2.004232</td>\n",
       "    </tr>\n",
       "    <tr>\n",
       "      <th>2000-02-14</th>\n",
       "      <td>-0.750399</td>\n",
       "      <td>0.503922</td>\n",
       "      <td>0.931430</td>\n",
       "      <td>-0.605640</td>\n",
       "    </tr>\n",
       "    <tr>\n",
       "      <th>2000-02-15</th>\n",
       "      <td>0.797389</td>\n",
       "      <td>0.527649</td>\n",
       "      <td>1.194978</td>\n",
       "      <td>0.650961</td>\n",
       "    </tr>\n",
       "    <tr>\n",
       "      <th>2000-02-16</th>\n",
       "      <td>0.363964</td>\n",
       "      <td>1.185855</td>\n",
       "      <td>0.546622</td>\n",
       "      <td>0.275241</td>\n",
       "    </tr>\n",
       "    <tr>\n",
       "      <th>2000-02-17</th>\n",
       "      <td>-0.866436</td>\n",
       "      <td>0.505301</td>\n",
       "      <td>-0.953725</td>\n",
       "      <td>-0.474443</td>\n",
       "    </tr>\n",
       "    <tr>\n",
       "      <th>2000-02-18</th>\n",
       "      <td>0.121093</td>\n",
       "      <td>0.230785</td>\n",
       "      <td>1.930369</td>\n",
       "      <td>1.135993</td>\n",
       "    </tr>\n",
       "    <tr>\n",
       "      <th>2000-02-19</th>\n",
       "      <td>0.418273</td>\n",
       "      <td>0.126150</td>\n",
       "      <td>-0.136750</td>\n",
       "      <td>-0.099249</td>\n",
       "    </tr>\n",
       "    <tr>\n",
       "      <th>2000-02-20</th>\n",
       "      <td>1.113853</td>\n",
       "      <td>-0.685349</td>\n",
       "      <td>0.263227</td>\n",
       "      <td>-0.372289</td>\n",
       "    </tr>\n",
       "    <tr>\n",
       "      <th>2000-02-21</th>\n",
       "      <td>0.317351</td>\n",
       "      <td>0.485224</td>\n",
       "      <td>0.031511</td>\n",
       "      <td>-1.565946</td>\n",
       "    </tr>\n",
       "    <tr>\n",
       "      <th>2000-02-22</th>\n",
       "      <td>-0.764952</td>\n",
       "      <td>0.565166</td>\n",
       "      <td>0.017759</td>\n",
       "      <td>-1.387330</td>\n",
       "    </tr>\n",
       "    <tr>\n",
       "      <th>2000-02-23</th>\n",
       "      <td>0.694061</td>\n",
       "      <td>0.884745</td>\n",
       "      <td>0.183642</td>\n",
       "      <td>0.667891</td>\n",
       "    </tr>\n",
       "    <tr>\n",
       "      <th>2000-02-24</th>\n",
       "      <td>-0.329406</td>\n",
       "      <td>-2.326962</td>\n",
       "      <td>0.260697</td>\n",
       "      <td>0.313343</td>\n",
       "    </tr>\n",
       "    <tr>\n",
       "      <th>2000-02-25</th>\n",
       "      <td>-0.281537</td>\n",
       "      <td>-0.354575</td>\n",
       "      <td>-0.540512</td>\n",
       "      <td>-0.228770</td>\n",
       "    </tr>\n",
       "    <tr>\n",
       "      <th>2000-02-26</th>\n",
       "      <td>1.993343</td>\n",
       "      <td>-0.116143</td>\n",
       "      <td>0.809022</td>\n",
       "      <td>0.876005</td>\n",
       "    </tr>\n",
       "    <tr>\n",
       "      <th>2000-02-27</th>\n",
       "      <td>0.801768</td>\n",
       "      <td>-0.973785</td>\n",
       "      <td>0.216941</td>\n",
       "      <td>-0.633814</td>\n",
       "    </tr>\n",
       "    <tr>\n",
       "      <th>2000-02-28</th>\n",
       "      <td>0.685388</td>\n",
       "      <td>0.344020</td>\n",
       "      <td>-0.618957</td>\n",
       "      <td>0.746396</td>\n",
       "    </tr>\n",
       "    <tr>\n",
       "      <th>2000-02-29</th>\n",
       "      <td>0.220366</td>\n",
       "      <td>-0.524952</td>\n",
       "      <td>-0.077050</td>\n",
       "      <td>1.339360</td>\n",
       "    </tr>\n",
       "    <tr>\n",
       "      <th>2000-03-01</th>\n",
       "      <td>-0.465886</td>\n",
       "      <td>-0.565051</td>\n",
       "      <td>0.249617</td>\n",
       "      <td>0.883099</td>\n",
       "    </tr>\n",
       "    <tr>\n",
       "      <th>2000-03-02</th>\n",
       "      <td>-0.286343</td>\n",
       "      <td>0.853820</td>\n",
       "      <td>0.132625</td>\n",
       "      <td>1.956263</td>\n",
       "    </tr>\n",
       "    <tr>\n",
       "      <th>2000-03-03</th>\n",
       "      <td>-1.010800</td>\n",
       "      <td>-0.634513</td>\n",
       "      <td>-0.059249</td>\n",
       "      <td>-1.322195</td>\n",
       "    </tr>\n",
       "    <tr>\n",
       "      <th>2000-03-04</th>\n",
       "      <td>0.824529</td>\n",
       "      <td>0.591027</td>\n",
       "      <td>-1.786807</td>\n",
       "      <td>1.384207</td>\n",
       "    </tr>\n",
       "    <tr>\n",
       "      <th>2000-03-05</th>\n",
       "      <td>-0.103306</td>\n",
       "      <td>-1.431728</td>\n",
       "      <td>-0.077431</td>\n",
       "      <td>-0.126732</td>\n",
       "    </tr>\n",
       "    <tr>\n",
       "      <th>2000-03-06</th>\n",
       "      <td>0.755524</td>\n",
       "      <td>1.460424</td>\n",
       "      <td>-1.109814</td>\n",
       "      <td>-0.568003</td>\n",
       "    </tr>\n",
       "    <tr>\n",
       "      <th>2000-03-07</th>\n",
       "      <td>-1.508068</td>\n",
       "      <td>-0.370230</td>\n",
       "      <td>0.008641</td>\n",
       "      <td>1.275203</td>\n",
       "    </tr>\n",
       "    <tr>\n",
       "      <th>2000-03-08</th>\n",
       "      <td>-0.867791</td>\n",
       "      <td>-0.276403</td>\n",
       "      <td>-0.550362</td>\n",
       "      <td>-0.378691</td>\n",
       "    </tr>\n",
       "    <tr>\n",
       "      <th>2000-03-09</th>\n",
       "      <td>-2.506244</td>\n",
       "      <td>0.430844</td>\n",
       "      <td>-0.074127</td>\n",
       "      <td>-0.759110</td>\n",
       "    </tr>\n",
       "  </tbody>\n",
       "</table>\n",
       "</div>"
      ],
      "text/plain": [
       "                   A         B         C         D\n",
       "2000-01-10  1.879183 -0.282015 -0.812072  0.774624\n",
       "2000-01-11 -0.430260 -0.766843  0.880136  0.117777\n",
       "2000-01-12  1.550647  0.863026  0.773138  0.448203\n",
       "2000-01-13  0.047851 -1.312712 -0.319924 -0.250159\n",
       "2000-01-14  0.408329 -0.188547  0.592483  1.566940\n",
       "2000-01-15 -0.983973 -1.601270 -0.662061  0.656442\n",
       "2000-01-16  1.708260 -0.412328 -0.125563  0.519124\n",
       "2000-01-17  0.126432 -0.805028  1.057307 -0.642352\n",
       "2000-01-18 -0.901246 -2.330404  0.775472 -0.280216\n",
       "2000-01-19 -1.515402 -0.355997  0.073722  1.600156\n",
       "2000-01-20  2.077658 -1.820557 -0.456590  0.269721\n",
       "2000-01-21 -1.046665 -0.992133  0.481277 -0.147215\n",
       "2000-01-22 -0.480208 -0.427384 -0.000824  0.826097\n",
       "2000-01-23 -0.631563  1.368086 -1.347121 -2.345722\n",
       "2000-01-24  0.140738 -0.412111  0.571476 -0.456314\n",
       "2000-01-25 -1.130528  0.290524  0.711561  0.562747\n",
       "2000-01-26  0.440369 -2.498611  0.419082 -1.681362\n",
       "2000-01-27  0.529171  0.221156  0.160933 -0.005621\n",
       "2000-01-28  1.415482  1.032559  0.483723  0.933316\n",
       "2000-01-29  0.152102 -0.158823  0.167715 -1.826133\n",
       "2000-01-30 -0.027573  0.742606 -0.788746  1.646971\n",
       "2000-01-31 -0.668336  1.593356  0.383978 -0.391833\n",
       "2000-02-01  1.285738  0.329043  1.041265 -0.819866\n",
       "2000-02-02  0.780435 -1.380364 -1.673513  1.477997\n",
       "2000-02-03 -0.249775 -1.687410 -0.036901 -0.168110\n",
       "2000-02-04  0.441963  0.661410  0.040005  0.658418\n",
       "2000-02-05 -0.467108 -0.945761 -0.036857 -0.222480\n",
       "2000-02-06 -0.860951 -1.898914  0.713060 -0.206733\n",
       "2000-02-07  0.421550  0.013269 -0.125181  1.173027\n",
       "2000-02-08 -1.557519 -0.231209 -1.347163  0.348486\n",
       "2000-02-09  1.093544  0.347288  0.778088 -0.210887\n",
       "2000-02-10 -1.007827  1.198809 -0.616618  0.559148\n",
       "2000-02-11  1.685716  0.769161 -0.522652  1.040180\n",
       "2000-02-12  0.732024 -0.233874 -0.729638  0.183623\n",
       "2000-02-13  0.469342 -0.074991  1.551511  2.004232\n",
       "2000-02-14 -0.750399  0.503922  0.931430 -0.605640\n",
       "2000-02-15  0.797389  0.527649  1.194978  0.650961\n",
       "2000-02-16  0.363964  1.185855  0.546622  0.275241\n",
       "2000-02-17 -0.866436  0.505301 -0.953725 -0.474443\n",
       "2000-02-18  0.121093  0.230785  1.930369  1.135993\n",
       "2000-02-19  0.418273  0.126150 -0.136750 -0.099249\n",
       "2000-02-20  1.113853 -0.685349  0.263227 -0.372289\n",
       "2000-02-21  0.317351  0.485224  0.031511 -1.565946\n",
       "2000-02-22 -0.764952  0.565166  0.017759 -1.387330\n",
       "2000-02-23  0.694061  0.884745  0.183642  0.667891\n",
       "2000-02-24 -0.329406 -2.326962  0.260697  0.313343\n",
       "2000-02-25 -0.281537 -0.354575 -0.540512 -0.228770\n",
       "2000-02-26  1.993343 -0.116143  0.809022  0.876005\n",
       "2000-02-27  0.801768 -0.973785  0.216941 -0.633814\n",
       "2000-02-28  0.685388  0.344020 -0.618957  0.746396\n",
       "2000-02-29  0.220366 -0.524952 -0.077050  1.339360\n",
       "2000-03-01 -0.465886 -0.565051  0.249617  0.883099\n",
       "2000-03-02 -0.286343  0.853820  0.132625  1.956263\n",
       "2000-03-03 -1.010800 -0.634513 -0.059249 -1.322195\n",
       "2000-03-04  0.824529  0.591027 -1.786807  1.384207\n",
       "2000-03-05 -0.103306 -1.431728 -0.077431 -0.126732\n",
       "2000-03-06  0.755524  1.460424 -1.109814 -0.568003\n",
       "2000-03-07 -1.508068 -0.370230  0.008641  1.275203\n",
       "2000-03-08 -0.867791 -0.276403 -0.550362 -0.378691\n",
       "2000-03-09 -2.506244  0.430844 -0.074127 -0.759110"
      ]
     },
     "metadata": {},
     "output_type": "display_data"
    }
   ],
   "source": [
    "dates = pd.date_range('1/10/2000', periods=60)\n",
    "\n",
    "df = pd.DataFrame(np.random.randn(60, 4),\n",
    "                  index=dates, columns=['A', 'B', 'C', 'D'])\n",
    "display(df)"
   ]
  },
  {
   "cell_type": "code",
   "execution_count": 43,
   "metadata": {},
   "outputs": [
    {
     "name": "stdout",
     "output_type": "stream",
     "text": [
      "\n",
      " 2000-01-31 00:00:00\n",
      "                   A         B         C         D\n",
      "2000-01-10  1.879183 -0.282015 -0.812072  0.774624\n",
      "2000-01-11 -0.430260 -0.766843  0.880136  0.117777\n",
      "2000-01-12  1.550647  0.863026  0.773138  0.448203\n",
      "2000-01-13  0.047851 -1.312712 -0.319924 -0.250159\n",
      "2000-01-14  0.408329 -0.188547  0.592483  1.566940\n",
      "2000-01-15 -0.983973 -1.601270 -0.662061  0.656442\n",
      "2000-01-16  1.708260 -0.412328 -0.125563  0.519124\n",
      "2000-01-17  0.126432 -0.805028  1.057307 -0.642352\n",
      "2000-01-18 -0.901246 -2.330404  0.775472 -0.280216\n",
      "2000-01-19 -1.515402 -0.355997  0.073722  1.600156\n",
      "2000-01-20  2.077658 -1.820557 -0.456590  0.269721\n",
      "2000-01-21 -1.046665 -0.992133  0.481277 -0.147215\n",
      "2000-01-22 -0.480208 -0.427384 -0.000824  0.826097\n",
      "2000-01-23 -0.631563  1.368086 -1.347121 -2.345722\n",
      "2000-01-24  0.140738 -0.412111  0.571476 -0.456314\n",
      "2000-01-25 -1.130528  0.290524  0.711561  0.562747\n",
      "2000-01-26  0.440369 -2.498611  0.419082 -1.681362\n",
      "2000-01-27  0.529171  0.221156  0.160933 -0.005621\n",
      "2000-01-28  1.415482  1.032559  0.483723  0.933316\n",
      "2000-01-29  0.152102 -0.158823  0.167715 -1.826133\n",
      "2000-01-30 -0.027573  0.742606 -0.788746  1.646971\n",
      "2000-01-31 -0.668336  1.593356  0.383978 -0.391833\n",
      "\n",
      " 2000-02-29 00:00:00\n",
      "                   A         B         C         D\n",
      "2000-02-01  1.285738  0.329043  1.041265 -0.819866\n",
      "2000-02-02  0.780435 -1.380364 -1.673513  1.477997\n",
      "2000-02-03 -0.249775 -1.687410 -0.036901 -0.168110\n",
      "2000-02-04  0.441963  0.661410  0.040005  0.658418\n",
      "2000-02-05 -0.467108 -0.945761 -0.036857 -0.222480\n",
      "2000-02-06 -0.860951 -1.898914  0.713060 -0.206733\n",
      "2000-02-07  0.421550  0.013269 -0.125181  1.173027\n",
      "2000-02-08 -1.557519 -0.231209 -1.347163  0.348486\n",
      "2000-02-09  1.093544  0.347288  0.778088 -0.210887\n",
      "2000-02-10 -1.007827  1.198809 -0.616618  0.559148\n",
      "2000-02-11  1.685716  0.769161 -0.522652  1.040180\n",
      "2000-02-12  0.732024 -0.233874 -0.729638  0.183623\n",
      "2000-02-13  0.469342 -0.074991  1.551511  2.004232\n",
      "2000-02-14 -0.750399  0.503922  0.931430 -0.605640\n",
      "2000-02-15  0.797389  0.527649  1.194978  0.650961\n",
      "2000-02-16  0.363964  1.185855  0.546622  0.275241\n",
      "2000-02-17 -0.866436  0.505301 -0.953725 -0.474443\n",
      "2000-02-18  0.121093  0.230785  1.930369  1.135993\n",
      "2000-02-19  0.418273  0.126150 -0.136750 -0.099249\n",
      "2000-02-20  1.113853 -0.685349  0.263227 -0.372289\n",
      "2000-02-21  0.317351  0.485224  0.031511 -1.565946\n",
      "2000-02-22 -0.764952  0.565166  0.017759 -1.387330\n",
      "2000-02-23  0.694061  0.884745  0.183642  0.667891\n",
      "2000-02-24 -0.329406 -2.326962  0.260697  0.313343\n",
      "2000-02-25 -0.281537 -0.354575 -0.540512 -0.228770\n",
      "2000-02-26  1.993343 -0.116143  0.809022  0.876005\n",
      "2000-02-27  0.801768 -0.973785  0.216941 -0.633814\n",
      "2000-02-28  0.685388  0.344020 -0.618957  0.746396\n",
      "2000-02-29  0.220366 -0.524952 -0.077050  1.339360\n",
      "\n",
      " 2000-03-31 00:00:00\n",
      "                   A         B         C         D\n",
      "2000-03-01 -0.465886 -0.565051  0.249617  0.883099\n",
      "2000-03-02 -0.286343  0.853820  0.132625  1.956263\n",
      "2000-03-03 -1.010800 -0.634513 -0.059249 -1.322195\n",
      "2000-03-04  0.824529  0.591027 -1.786807  1.384207\n",
      "2000-03-05 -0.103306 -1.431728 -0.077431 -0.126732\n",
      "2000-03-06  0.755524  1.460424 -1.109814 -0.568003\n",
      "2000-03-07 -1.508068 -0.370230  0.008641  1.275203\n",
      "2000-03-08 -0.867791 -0.276403 -0.550362 -0.378691\n",
      "2000-03-09 -2.506244  0.430844 -0.074127 -0.759110\n"
     ]
    }
   ],
   "source": [
    "for name, data in df.groupby(pd.Grouper(freq='M')): # or '1M'\n",
    "    print('\\n', name)\n",
    "    print(data)"
   ]
  },
  {
   "cell_type": "code",
   "execution_count": 44,
   "metadata": {},
   "outputs": [
    {
     "name": "stdout",
     "output_type": "stream",
     "text": [
      "\n",
      " 2000-01-10 00:00:00\n",
      "                   A         B         C         D\n",
      "2000-01-10  1.879183 -0.282015 -0.812072  0.774624\n",
      "2000-01-11 -0.430260 -0.766843  0.880136  0.117777\n",
      "2000-01-12  1.550647  0.863026  0.773138  0.448203\n",
      "2000-01-13  0.047851 -1.312712 -0.319924 -0.250159\n",
      "2000-01-14  0.408329 -0.188547  0.592483  1.566940\n",
      "2000-01-15 -0.983973 -1.601270 -0.662061  0.656442\n",
      "2000-01-16  1.708260 -0.412328 -0.125563  0.519124\n",
      "2000-01-17  0.126432 -0.805028  1.057307 -0.642352\n",
      "2000-01-18 -0.901246 -2.330404  0.775472 -0.280216\n",
      "2000-01-19 -1.515402 -0.355997  0.073722  1.600156\n",
      "2000-01-20  2.077658 -1.820557 -0.456590  0.269721\n",
      "2000-01-21 -1.046665 -0.992133  0.481277 -0.147215\n",
      "2000-01-22 -0.480208 -0.427384 -0.000824  0.826097\n",
      "2000-01-23 -0.631563  1.368086 -1.347121 -2.345722\n",
      "2000-01-24  0.140738 -0.412111  0.571476 -0.456314\n",
      "2000-01-25 -1.130528  0.290524  0.711561  0.562747\n",
      "2000-01-26  0.440369 -2.498611  0.419082 -1.681362\n",
      "2000-01-27  0.529171  0.221156  0.160933 -0.005621\n",
      "2000-01-28  1.415482  1.032559  0.483723  0.933316\n",
      "2000-01-29  0.152102 -0.158823  0.167715 -1.826133\n",
      "2000-01-30 -0.027573  0.742606 -0.788746  1.646971\n",
      "2000-01-31 -0.668336  1.593356  0.383978 -0.391833\n",
      "2000-02-01  1.285738  0.329043  1.041265 -0.819866\n",
      "2000-02-02  0.780435 -1.380364 -1.673513  1.477997\n",
      "2000-02-03 -0.249775 -1.687410 -0.036901 -0.168110\n",
      "2000-02-04  0.441963  0.661410  0.040005  0.658418\n",
      "2000-02-05 -0.467108 -0.945761 -0.036857 -0.222480\n",
      "2000-02-06 -0.860951 -1.898914  0.713060 -0.206733\n",
      "2000-02-07  0.421550  0.013269 -0.125181  1.173027\n",
      "2000-02-08 -1.557519 -0.231209 -1.347163  0.348486\n",
      "\n",
      " 2000-02-09 00:00:00\n",
      "                   A         B         C         D\n",
      "2000-02-09  1.093544  0.347288  0.778088 -0.210887\n",
      "2000-02-10 -1.007827  1.198809 -0.616618  0.559148\n",
      "2000-02-11  1.685716  0.769161 -0.522652  1.040180\n",
      "2000-02-12  0.732024 -0.233874 -0.729638  0.183623\n",
      "2000-02-13  0.469342 -0.074991  1.551511  2.004232\n",
      "2000-02-14 -0.750399  0.503922  0.931430 -0.605640\n",
      "2000-02-15  0.797389  0.527649  1.194978  0.650961\n",
      "2000-02-16  0.363964  1.185855  0.546622  0.275241\n",
      "2000-02-17 -0.866436  0.505301 -0.953725 -0.474443\n",
      "2000-02-18  0.121093  0.230785  1.930369  1.135993\n",
      "2000-02-19  0.418273  0.126150 -0.136750 -0.099249\n",
      "2000-02-20  1.113853 -0.685349  0.263227 -0.372289\n",
      "2000-02-21  0.317351  0.485224  0.031511 -1.565946\n",
      "2000-02-22 -0.764952  0.565166  0.017759 -1.387330\n",
      "2000-02-23  0.694061  0.884745  0.183642  0.667891\n",
      "2000-02-24 -0.329406 -2.326962  0.260697  0.313343\n",
      "2000-02-25 -0.281537 -0.354575 -0.540512 -0.228770\n",
      "2000-02-26  1.993343 -0.116143  0.809022  0.876005\n",
      "2000-02-27  0.801768 -0.973785  0.216941 -0.633814\n",
      "2000-02-28  0.685388  0.344020 -0.618957  0.746396\n",
      "2000-02-29  0.220366 -0.524952 -0.077050  1.339360\n",
      "2000-03-01 -0.465886 -0.565051  0.249617  0.883099\n",
      "2000-03-02 -0.286343  0.853820  0.132625  1.956263\n",
      "2000-03-03 -1.010800 -0.634513 -0.059249 -1.322195\n",
      "2000-03-04  0.824529  0.591027 -1.786807  1.384207\n",
      "2000-03-05 -0.103306 -1.431728 -0.077431 -0.126732\n",
      "2000-03-06  0.755524  1.460424 -1.109814 -0.568003\n",
      "2000-03-07 -1.508068 -0.370230  0.008641  1.275203\n",
      "2000-03-08 -0.867791 -0.276403 -0.550362 -0.378691\n",
      "2000-03-09 -2.506244  0.430844 -0.074127 -0.759110\n"
     ]
    }
   ],
   "source": [
    "for name, data in df.groupby(pd.Grouper(freq='30d')):\n",
    "    print('\\n', name)\n",
    "    print(data)"
   ]
  },
  {
   "cell_type": "markdown",
   "metadata": {},
   "source": [
    "### Group + Apply"
   ]
  },
  {
   "cell_type": "code",
   "execution_count": 45,
   "metadata": {},
   "outputs": [
    {
     "data": {
      "text/plain": [
       "2000-01-31    2.748909\n",
       "2000-02-29   -4.618390\n",
       "2000-03-31   -0.301911\n",
       "Freq: M, dtype: float64"
      ]
     },
     "metadata": {},
     "output_type": "display_data"
    }
   ],
   "source": [
    "dates = pd.date_range('1/10/2000', periods=60)\n",
    "df = pd.DataFrame(np.random.randn(60, 4),\n",
    "                  index=dates, columns=['A', 'B', 'C', 'D'])\n",
    "\n",
    "grouped = df.groupby(pd.Grouper(freq='1M'))\n",
    "sr = grouped.apply(lambda x: sum(x['B']))\n",
    "display(sr)"
   ]
  },
  {
   "cell_type": "code",
   "execution_count": 46,
   "metadata": {},
   "outputs": [
    {
     "data": {
      "text/plain": [
       "2000-01    2.748909\n",
       "2000-02   -4.618390\n",
       "2000-03   -0.301911\n",
       "dtype: float64"
      ]
     },
     "metadata": {},
     "output_type": "display_data"
    }
   ],
   "source": [
    "sr.index = sr.index.map(lambda x: str(x)[:7])\n",
    "display(sr)"
   ]
  },
  {
   "cell_type": "markdown",
   "metadata": {},
   "source": [
    "# Missing Data\n",
    "\n",
    "https://pandas.pydata.org/pandas-docs/stable/user_guide/missing_data.html\n",
    "\n",
    "- pd.NaT\n",
    "- np.nan\n",
    "- isna()\n",
    "- fillna()"
   ]
  },
  {
   "cell_type": "markdown",
   "metadata": {},
   "source": [
    "# Performance \n",
    "\n",
    "http://pandas.pydata.org/pandas-docs/stable/user_guide/enhancingperf.html\n",
    "\n",
    "pandas is fast. Many of the low-level algorithmic bits have been extensively tweaked in Cython code. However, as with anything else generalization usually sacrifices performance. So if you focus on one feature for your application you may be able to create a faster specialized tool."
   ]
  },
  {
   "cell_type": "markdown",
   "metadata": {},
   "source": [
    "## Time"
   ]
  },
  {
   "cell_type": "markdown",
   "metadata": {},
   "source": [
    "### Dependencies\n",
    "\n",
    "https://pandas.pydata.org/pandas-docs/stable/install.html#recommended-dependencies\n",
    "\n",
    "- numexpr\n",
    "- bottlenect\n"
   ]
  },
  {
   "cell_type": "markdown",
   "metadata": {},
   "source": [
    "### Use Wisely\n",
    "\n",
    "https://engineering.upside.com/a-beginners-guide-to-optimizing-pandas-code-for-speed-c09ef2c6a4d6\n",
    "\n",
    "- Avoid loops; they’re slow and, in most common use cases, unnecessary.\n",
    "- If you must loop, use `.apply()`, not iteration functions. \n",
    "- Vectorization is usually better than scalar operations. Most common operations in Pandas can be vectorized.\n",
    "- **Vector operations on NumPy arrays are more efficient than on native Pandas series.**\n",
    "\n",
    "https://realpython.com/fast-flexible-pandas/\n",
    "\n",
    "1. **Use vectorized operations: Pandas methods and functions with no for-loops.**\n",
    "2. **Use the `.apply()` method with a callable.**\n",
    "3. **Use `.itertuples()`: iterate over DataFrame rows as namedtuples from Python’s collections module.**\n",
    "4. **Use `.iterrows()`: iterate over DataFrame rows as (index, pd.Series) pairs.** While a Pandas Series is a flexible data structure, it can be costly to construct each row into a Series and then access it.\n",
    "5. Use “element-by-element” for loops, updating each cell or row one at a time with `df.loc` or `df.iloc`. (Or, `.at`/`.iat` for fast scalar access.)\n",
    "\n",
    "---\n",
    "\n",
    "1. Try to use vectorized operations where possible rather than approaching problems with the `for x in df`... mentality. If your code is home to a lot of for-loops, it might be better suited to working with native Python data structures, because Pandas otherwise comes with a lot of overhead.\n",
    "2. If you have more complex operations where vectorization is simply impossible or too difficult to work out efficiently, use the `.apply()` method.\n",
    "3. If you do have to loop over your array (which does happen), use `.iterrows()` or `.itertuples()` to improve speed and syntax.\n",
    "4. **Pandas has a lot of optionality**, and there are almost always several ways to get from A to B. Be mindful of this, compare how different routes perform, and choose the one that works best in the context of your project.\n",
    "5. Once you’ve got a data cleaning script built, avoid reprocessing by storing your intermediate results with HDFStore.\n",
    "6. Integrating NumPy into Pandas operations can often improve speed and simplify syntax.\n",
    "\n",
    "https://www.dataquest.io/blog/pandas-big-data/\n",
    "\n",
    "1. **Downcasting numeric columns to more efficient types**.\n",
    "2. **Converting string columns to the categorical type**."
   ]
  },
  {
   "cell_type": "markdown",
   "metadata": {},
   "source": [
    "### Parallelize\n",
    "\n",
    "http://blog.adeel.io/2016/11/06/parallelize-pandas-map-or-apply/"
   ]
  },
  {
   "cell_type": "markdown",
   "metadata": {},
   "source": [
    "### Cython / Numba / pandas.eval()\n",
    "\n",
    "https://pandas.pydata.org/pandas-docs/stable/user_guide/enhancingperf.html"
   ]
  },
  {
   "cell_type": "markdown",
   "metadata": {},
   "source": [
    "## Space\n",
    "\n",
    "https://towardsdatascience.com/why-and-how-to-use-pandas-with-large-data-9594dda2ea4c\n",
    "\n",
    "1. chunking\n",
    "2. drop useless columns"
   ]
  },
  {
   "cell_type": "code",
   "execution_count": null,
   "metadata": {},
   "outputs": [],
   "source": []
  }
 ],
 "metadata": {
  "kernelspec": {
   "display_name": "Python 3",
   "language": "python",
   "name": "python3"
  },
  "language_info": {
   "codemirror_mode": {
    "name": "ipython",
    "version": 3
   },
   "file_extension": ".py",
   "mimetype": "text/x-python",
   "name": "python",
   "nbconvert_exporter": "python",
   "pygments_lexer": "ipython3",
   "version": "3.7.1"
  },
  "toc": {
   "base_numbering": 1,
   "nav_menu": {},
   "number_sections": true,
   "sideBar": true,
   "skip_h1_title": false,
   "title_cell": "Table of Contents",
   "title_sidebar": "Contents",
   "toc_cell": false,
   "toc_position": {
    "height": "calc(100% - 180px)",
    "left": "10px",
    "top": "150px",
    "width": "322.391px"
   },
   "toc_section_display": true,
   "toc_window_display": true
  }
 },
 "nbformat": 4,
 "nbformat_minor": 2
}
